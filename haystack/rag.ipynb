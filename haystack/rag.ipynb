{
 "cells": [
  {
   "cell_type": "markdown",
   "id": "c2df99f1-b6e5-403d-9551-217785e25923",
   "metadata": {
    "jp-MarkdownHeadingCollapsed": true,
    "tags": []
   },
   "source": [
    "# 과학기술 문서 EDA"
   ]
  },
  {
   "cell_type": "markdown",
   "id": "ef08a058-8846-471f-9c77-3ad294c53c28",
   "metadata": {
    "jp-MarkdownHeadingCollapsed": true,
    "tags": []
   },
   "source": [
    "## Table type\n",
    "\n",
    "- llama-index의 PandasQueryEngine으로 처리할 수 있을듯"
   ]
  },
  {
   "cell_type": "markdown",
   "id": "eb47ddfc-2272-4cfc-9087-8a76cce712d0",
   "metadata": {},
   "source": [
    "\n",
    "### `table_type == 0`\n",
    "\n",
    "없음."
   ]
  },
  {
   "cell_type": "markdown",
   "id": "bfb910d0-f832-45b2-9270-e6baa7fd10b9",
   "metadata": {
    "tags": []
   },
   "source": [
    "\n",
    "### `table_type == 1`\n",
    "\n",
    "간략한 표인듯.\n",
    "\n",
    "<table border><caption>표 1 전동기 제정수</caption> <tbody><tr><td>전기자 저항 \\( \\left(R_{s}\\right) \\)</td><td>5.7 [Q]</td></tr><tr><td>인덕턴스 \\( \\left(L_{s}\\right) \\)</td><td>30 [mH]</td></tr><tr><td>역기전력 상수 \\( \\left(\\lambda_{P M}\\right) \\)</td><td>0.066 [V/rad/sec]</td></tr><tr><td>극 수</td><td>12</td></tr></tbody></table>\n",
    "\n",
    "<table border><caption>표 \\( 1 \\). 전기적 특성 비교</caption><tbody><tr><td>Structure</td><td>\\( \\mathrm{V}_{\\mathrm{t}}[\\mathrm{V}] \\)</td><td>\\( \\mathrm{V}_{\\mathrm{H}}[\\mathrm{V}] \\)</td></tr><tr><td>GGNMOS</td><td>\\( 7.95\\)</td><td>\\( 5.19\\)</td></tr><tr><td>GCNMOS</td><td>\\( 5.94\\)</td><td>\\( 4.06\\)</td></tr><tr><td>Proposed</td><td>\\( 4.86\\)</td><td>\\( 3.34\\)</td></tr></tbody></table>\n",
    "\n",
    "<p>그림\\(4\\)와 표\\(1\\)에 IV 시뮬레이션 결과를 살펴보면 제안된 소자의 트리거 전압은 \\( 4.86 \\mathrm{~V} \\), 홀딩 전압은 \\( 3.34 \\mathrm{~V} \\) 로 트리거전압이 낮은 기존의 GCNMOS 보다도 \\( 1.08 \\mathrm{~V} \\) 의 트리거 전압이 감소한 전압 특성을 보여준다.</p>\n",
    "\n",
    "<table border><caption>표 \\(2\\). 턴-온-타임 시뮬레이션 결과</caption><tbody><tr><td>Structure</td><td>Turn-on-time</td></tr><tr><td>GGNMOS</td><td>\\( 1.60 \\mathrm{~ns} \\)</td></tr><tr><td>GCNMOS</td><td>\\( 1.55 \\mathrm{~ns} \\)</td></tr><tr><td>Proposed</td><td>\\( 1.47 \\mathrm{~ns} \\)</td></tr></tbody></table>"
   ]
  },
  {
   "cell_type": "markdown",
   "id": "a51aa4c4-0d0a-415c-af66-9bf83bf6c40f",
   "metadata": {},
   "source": [
    "### `table_type == 2`\n",
    "\n",
    "좀 더 복잡한 형태의 표 인듯? \n",
    "\n",
    "<table border><caption>Table 1. Some values of each term in the sound speed formula of Medwin regarding variation of temperature andsalinity with depth in normal salinity and low salinity environments using the averaged data for 30 years(1980~2009).</caption> <tbody><tr><td rowspan=\"2\"></td><td colspan=\"3\">Normal salinity environment</td><td colspan=\"3\">Low salinity environment</td></tr><tr><td>0 m</td><td>10 m</td><td>difference</td><td>0 m</td><td>10 m</td><td>difference</td></tr><tr><td>Temperature (°C)</td><td>26.74</td><td>24.76</td><td>-1.98</td><td>28.74</td><td>26.80</td><td>-1.94</td></tr><tr><td>Salinity (psu)</td><td>30.53</td><td>30.92</td><td>0.39</td><td>25.34</td><td>29.58</td><td>4.24</td></tr><tr><td>Sound speed (m/s)</td><td>1533.62</td><td>1529.48</td><td>-4.14</td><td>1532.70</td><td>1532.91</td><td>0.21</td></tr><tr><td>Term of temperature (A, m/s)</td><td>89.23</td><td>84.58</td><td>-4.64</td><td>93.67</td><td>89.36</td><td>-4.31</td></tr><tr><td>Term of salinity (B, m/s)</td><td>-4.80</td><td>-4.46</td><td>0.34</td><td>-10.16</td><td>-5.81</td><td>4.35</td></tr></tbody></table>\n",
    "\n",
    "\n",
    "<table border><caption>표 1. 열처리 온도에 따른 \\(\\mathrm{SnO}_{2} \\)와 \\(\\mathrm{SnO}_{2} / \\mathrm{Pt} \\), \\( \\mathrm{Ca}(0.1 \\mathrm{wt}. \\%)\\) 분말의 입자 크기</caption><tbody><tr><td rowspan=2>Calcining temperature \\( \\left({ }^{\\circ} \\mathrm{C}\\right) \\)</td><td colspan=2>Pure \\( \\mathrm{SnO}_{2} (\\mathrm{nm}) \\)</td><td colspan=2>Commercial \\(\\left.\\mathrm{SnO}_{2} \\text { (nm }\\right)\\)</td><td colspan=2>\\( \\mathrm{SnO}_{2} / \\mathrm{Pt}, \\mathrm{Ca} \\)\\( (0.1 \\mathrm{wt} \\%\\mathrm{nm}) \\)<nm)</td></tr><tr><td>XRD</td><td>TEM</td><td>XRD</td><td>TEM</td><td>XRD</td><td>TEM</td></tr><tr><td>room temp.</td><td>5</td><td>5.5</td><td>15.8</td><td>16.5</td><td>2.5</td><td>2</td></tr><tr><td>500</td><td></td><td></td><td></td><td></td><td>5.6</td><td>5</td></tr><tr><td>600</td><td>9</td><td>10</td><td>34.8</td><td>35</td><td>7.2</td><td>7.5</td></tr><tr><td>700</td><td>15</td><td>15.5</td><td></td><td></td><td>10.8</td><td>10</td></tr><tr><td>800</td><td>20</td><td>20</td><td></td><td></td><td>12.1</td><td>12.5</td></tr><tr><td>900</td><td>24</td><td>24.5</td><td></td><td></td><td>17.6</td><td>18</td></tr><tr><td>10RO</td><td>28</td><td>29</td><td></td><td></td><td>26.5</td><td>27</td></tr></tbody></table>"
   ]
  },
  {
   "cell_type": "code",
   "execution_count": 97,
   "id": "50321005-376b-420b-93d3-87d97a9d2f93",
   "metadata": {
    "tags": []
   },
   "outputs": [],
   "source": [
    "import json\n",
    "from pathlib import Path\n",
    "from typing import Dict\n",
    "\n",
    "tabels = []\n",
    "\n",
    "def read_doc():\n",
    "    path = Path(\"../data/기술과학_문서_기계독해_데이터/Training/02.라벨링데이터/\")\n",
    "\n",
    "    for item in path.glob(\"*/*.json\"):\n",
    "        name = item.name\n",
    "        category = name.split(\"_\")[0]\n",
    "\n",
    "        with item.open() as file:\n",
    "            lines = json.load(file)\n",
    "        dataset = lines[\"dataset\"]\n",
    "        for context in dataset['context_info']:\n",
    "            # print(context.keys())\n",
    "            # print(context[\"table_type\"])\n",
    "            if context[\"table_type\"] == 1:\n",
    "                tabels.append(context['context'])\n",
    "dataset = read_doc()"
   ]
  },
  {
   "cell_type": "markdown",
   "id": "da41677e-bd0e-4d1c-b60d-57ca9e0a546d",
   "metadata": {
    "jp-MarkdownHeadingCollapsed": true,
    "tags": []
   },
   "source": [
    "## qas\n",
    "\n",
    "하나의 context에 대해 여러 qas가 있을 수 있음"
   ]
  },
  {
   "cell_type": "code",
   "execution_count": 1,
   "id": "30f15f4f-0746-482b-96ea-8f881b012cd3",
   "metadata": {
    "tags": []
   },
   "outputs": [
    {
     "name": "stdout",
     "output_type": "stream",
     "text": [
      "{'question_id': '52079ee2-7019-4ead-b76d-6c57bd035422', 'question-1': 'ESD event때문에, 어디에 전압이 인가되는가?', 'question-2': '어디에 ESD eveny로 인해 전압이 인가되는거야?', 'question_type': 'where', 'question_level': '하', 'answer': 'Anode단', 'answer_type': '정답경계추출형', 'answer_start': '230', 'answer_end': '236', 'clue': [{'clue_text': 'ESD event로 인하여 Anode단에 전압이 인가됨에따라 Body와 Drain 간 역방향 바이어스에서 애벌런치 항복이 발생하게 된다.', 'clue_start': '215', 'clue_end': '291'}]}\n"
     ]
    }
   ],
   "source": [
    "import json\n",
    "from pathlib import Path\n",
    "from typing import Dict\n",
    "\n",
    "tabels = []\n",
    "\n",
    "def read_doc():\n",
    "    path = Path(\"../data/기술과학_문서_기계독해_데이터/Training/02.라벨링데이터/\")\n",
    "\n",
    "    for item in path.glob(\"*/*.json\"):\n",
    "        name = item.name\n",
    "        category = name.split(\"_\")[0]\n",
    "\n",
    "        with item.open() as file:\n",
    "            lines = json.load(file)\n",
    "        dataset = lines[\"dataset\"]\n",
    "        for context in dataset['context_info']:\n",
    "            # print(context.keys())\n",
    "            # print(context[\"table_type\"])\n",
    "            for qas in context['qas']:\n",
    "                if qas['question-2'] is not None:\n",
    "                    print(qas)\n",
    "                    return dataset\n",
    "dataset = read_doc()"
   ]
  },
  {
   "cell_type": "markdown",
   "id": "67fe853c-9cc5-467a-a819-179f1a3a87b0",
   "metadata": {
    "tags": []
   },
   "source": [
    "## `answer_type` 확인\n",
    "\n",
    "딱히 중요한건진 모르겠는데, 일단 확인해봄\n",
    "\n",
    "### Yes/No 단문형\n",
    "\n",
    "예/아니오로 정답을 선택할 수 있는 질문 유형\n",
    "\n",
    "### 다지선다형\n",
    "\n",
    "여러 지문 중 정답을 선택할 수 있는 질문 유형.  \n",
    "다지선다 형태로 고르는 것이 아닌 MRC 시에 활용할 수 있는 형태인듯.\n",
    "\n",
    "### 절차(방법)형\n",
    "\n",
    "절차나 방법에 대한 설명으로 정답을 작성할 수 있는 질문 유형\n",
    "\n",
    "### 정답경계추출형\n",
    "\n",
    "본문에서 정답을 추출할 수 있는 질문 유형\n",
    "\n",
    "### 표정답추출형\n",
    "\n",
    "본문(표)에서 정답을 추출할 수 있는 질문 유형"
   ]
  },
  {
   "cell_type": "code",
   "execution_count": 43,
   "id": "9871fe3a-a28d-4016-b173-9055594b8409",
   "metadata": {
    "tags": []
   },
   "outputs": [
    {
     "data": {
      "text/plain": [
       "{'Yes/No 단문형', '다지선다형', '절차(방법)형', '정답경계추출형', '표정답추출형'}"
      ]
     },
     "execution_count": 43,
     "metadata": {},
     "output_type": "execute_result"
    }
   ],
   "source": [
    "import json\n",
    "from pathlib import Path\n",
    "from typing import Dict\n",
    "\n",
    "answer_type = set()\n",
    "\n",
    "def read_doc():\n",
    "    path = Path(\"../data/기술과학_문서_기계독해_데이터/Training/02.라벨링데이터/\")\n",
    "\n",
    "    for item in path.glob(\"*/*.json\"):\n",
    "        name = item.name\n",
    "        category = name.split(\"_\")[0]\n",
    "\n",
    "        with item.open() as file:\n",
    "            lines = json.load(file)\n",
    "        dataset = lines[\"dataset\"]\n",
    "        for context in dataset['context_info']:\n",
    "            # print(context.keys())\n",
    "            # print(context[\"table_type\"])\n",
    "            for qas in context['qas']:\n",
    "                answer_type.add(qas[\"answer_type\"])\n",
    "dataset = read_doc()\n",
    "answer_type"
   ]
  },
  {
   "cell_type": "code",
   "execution_count": 82,
   "id": "87003718-9e28-46c1-a0f7-65a620484aa0",
   "metadata": {
    "tags": []
   },
   "outputs": [],
   "source": [
    "import json\n",
    "from pathlib import Path\n",
    "from typing import Dict\n",
    "\n",
    "answers = []\n",
    "\n",
    "def read_doc():\n",
    "    path = Path(\"../data/기술과학_문서_기계독해_데이터/Training/02.라벨링데이터/\")\n",
    "\n",
    "    for item in path.glob(\"*/*.json\"):\n",
    "        name = item.name\n",
    "        category = name.split(\"_\")[0]\n",
    "\n",
    "        with item.open() as file:\n",
    "            lines = json.load(file)\n",
    "        dataset = lines[\"dataset\"]\n",
    "        for context in dataset['context_info']:\n",
    "            # print(context.keys())\n",
    "            # print(context[\"table_type\"])\n",
    "            content = context[\"context\"]\n",
    "            for qas in context['qas']:\n",
    "                if qas[\"answer_type\"] == \"정답경계추출형\":\n",
    "                    qas[\"context\"] = content\n",
    "                    answers.append(qas)\n",
    "dataset = read_doc()"
   ]
  },
  {
   "cell_type": "code",
   "execution_count": 85,
   "id": "6718f739-7a8a-494a-988c-75fd4c4cfe13",
   "metadata": {
    "tags": []
   },
   "outputs": [
    {
     "data": {
      "text/plain": [
       "{'question_id': '7b1e0f2d-8677-4640-a9a4-e6e92452c849',\n",
       " 'question-1': '본 실험에서 보호회로에 적용된 기술 두 가지가 뭐야?',\n",
       " 'question-2': None,\n",
       " 'question_type': 'what',\n",
       " 'question_level': '하',\n",
       " 'answer': 'Gate coupling과 Body floating',\n",
       " 'answer_type': '정답경계추출형',\n",
       " 'answer_start': '176',\n",
       " 'answer_end': '204',\n",
       " 'clue': [{'clue_text': '제안된 보호회로는 Gate coupling과 Body floating기술을 적용하였으며 기존 ESD보호회로인 GGNMOS, GCNMOS와 비교하여 더 낮은 \\\\( 4.86 \\\\mathrm{~V} \\\\) 의 트리거 전압 및 \\\\( 1.47 \\\\mathrm{~ns} \\\\)의 짧은 턴-온 타임 특성을 갖는다',\n",
       "   'clue_start': '166',\n",
       "   'clue_end': '329'}],\n",
       " 'context': '<h1>요약</h1><p>본 논문에서는 Floating기술을 이용한 GCNMOS 기반의 ESD(Electrostatic Discharge)보호회로를 제안한다. 제안된 보호회로의 특성 분석올 위해서 시놉시스사의 TCAD 시물레이션을 이용하였으며 기존의 GGNMOS, GCNMOS와 비교 분석하였다. 제안된 보호회로는 Gate coupling과 Body floating기술을 적용하였으며 기존 ESD보호회로인 GGNMOS, GCNMOS와 비교하여 더 낮은 \\\\( 4.86 \\\\mathrm{~V} \\\\) 의 트리거 전압 및 \\\\( 1.47 \\\\mathrm{~ns} \\\\)의 짧은 턴-온 타임 특성을 갖는다.</p><h1>Ⅰ. 서 론</h1><p>ESD(Electrostatic Discharge)는 EOS(Electrical Overstress)의 현상 중 하나이며, 전하를 갖는 두 물체사이에 축척이 된 정전하가 마찰전기로 인해 전하가 이동하는 현상을 뜻한다. 보통 일상생활에서는 방전 경로상의 공기와 같은 큰 저항체가 존재하므로 발생되는 전류가 매우 작아 물체에 큰 영향을 주진 않는다. 그러나 사이즈가 수 마이크로만큼 작은 반도체일 경우 ESD현상이 일어나면 그 반도체는 손상을 입거나 심각하게 파괴될 수 있다. 반도체의 경우, 공정 과정 뿐 아니라 칩이 정상적으로 동작할 경우에도 반도체의 동작 중 어느 순간에서라도 ESD에 의한 손상을 입을 수 있으며 이에 따라 제작 원가, 신뢰성 문제, 상품의 품질과 관련하여 지속적인 영향을 미치고 있다. 따라서 ESD로부터 반도체를 보호하고 신뢰성을 높이기 위한 연구가 꾸준히 진행 되고 있다. ESD 보호회로에 사용되는 소자에는 여러 가지가 있는데 가장 대표적인 소자로는 다이오드, SCR, GGNMOS(Gate-Grounded NMOS)등이 있다. 그 중 GGNMOS는 구조적으로 단순하고 설계가 편리하며 기생적으로 존재 하는 NPN/PNP BJT를 통하여 ESD를 효과적으로 방전시키기 때문에 반도체 집적회로의 ESD 보호 회로로써 흔하게 쓰이고 있다. 반도체 공정의 발전으로 게이트 산화막의 두께가 나노 급으로 점점 얇아지고 있는 중이며, 그에 따른 게이트 산화막의 항복전압이 감소하고 있다. 따라서 일반적인 GGNMOS를 I/O Clamp로 사용하면 높은 트리거 전압으로 인하여 IC 내부 소자의 게이트 산화막 파괴가 일어날 수 있다. 이러한 이유로 GGNMOS의 트리거 전압을 낫추기 위한 연구가 다방면에서 이루어지고 있으며, 그 중 대표적으로 GCNMOS(Gate Coupled NMOSFET) 가 있다. GCNMOS는 Gate단에 RC-network를 구성하여 트리거 전압을 낮추는 구조이다. 하지만 I/O Clamp단에 요구 전압과 ESD design window의 최적화를 위하여 트리거 전압을 향상 시킬 필요성이 있다.</p><p>본 논문에서는 Floating 기술을 적용하여 기존 GCNMOS의 단점개선과 더불어 더욱 낮은 트리거 전압과 빠른 턴온 특성을 갖는 ESD 소자를 제안하였고 synopsys사의 TCAD 시뮬레이터를 이용하여 특성을 확인하였다.</p>'}"
      ]
     },
     "execution_count": 85,
     "metadata": {},
     "output_type": "execute_result"
    }
   ],
   "source": [
    "answers[1]"
   ]
  },
  {
   "cell_type": "code",
   "execution_count": 77,
   "id": "9a0b7bbd-2cfe-4c47-a02d-56dc1725d7da",
   "metadata": {
    "tags": []
   },
   "outputs": [
    {
     "name": "stdout",
     "output_type": "stream",
     "text": [
      "{'question_id': 'f73660f2-66bc-4345-a1f7-0cbc28f12057', 'question-1': '모드2에 해당하는 식이 아닌것은?', 'question-2': None, 'question_type': 'what', 'question_level': '상', 'answer': '\\\\( v_{c r}=V_{d}+\\\\sqrt{\\\\frac{L_{r}}{C_{r}}} I_{a} \\\\sin \\\\left(\\\\omega_{r} t+\\\\theta\\\\right) \\\\)<caption>(8)</caption>', 'answer_type': '다지선다형', 'answer_start': '1109', 'answer_end': '1221', 'clue': [{'clue_text': '\\\\( i_{L r}=\\\\frac{V_{d}}{L_{r}} t+I_{1} \\\\)<caption>(5)</caption>', 'clue_start': '381', 'clue_end': '444'}, {'clue_text': '\\\\( T_{2}=T_{o n}-T_{1} \\\\)<caption>(6)</caption>', 'clue_start': '451', 'clue_end': '498'}, {'clue_text': '\\\\( I_{2}=\\\\frac{V_{d}}{L_{r}} T_{2}+I_{1} \\\\)<caption>(7)</caption>', 'clue_start': '505', 'clue_end': '570'}, {'clue_text': '\\\\( v_{c r}=V_{d}+\\\\sqrt{\\\\frac{L_{r}}{C_{r}}} I_{a} \\\\sin \\\\left(\\\\omega_{r} t+\\\\theta\\\\right) \\\\)<caption>(8)</caption>', 'clue_start': '1109', 'clue_end': '1221'}], 'wrong_answer': ['\\\\( i_{L r}=\\\\frac{V_{d}}{L_{r}} t+I_{1} \\\\)<caption>(5)</caption>', '\\\\( T_{2}=T_{o n}-T_{1} \\\\)<caption>(6)</caption>', '\\\\( I_{2}=\\\\frac{V_{d}}{L_{r}} T_{2}+I_{1} \\\\)<caption>(7)</caption>'], 'context': '<p>모드 2 \\\\( \\\\left(T_{2}, t_{1} \\\\sim t_{2}\\\\right) \\\\)</p><p>모드 2 는 커패시터 전압 \\\\( V_{c r} \\\\) 이 영으로 되어 다이오드 \\\\( D_{1} \\\\) 이 도통되는 모드이다. 제어스위치들에 의한 단락회로가 형성되어 인덕터 \\\\( L_{T} \\\\) 의 전류는 \\\\( S_{1}-D_{1}-S_{2} \\\\)를 통하여 흐르고, 인덕터 \\\\( L_{T} \\\\) 는 에너지를 축적한다. 이 때의 인덕터 전류 \\\\( i_{L r} \\\\) 는 식 (5)와 같이 직선적으로 증가한다. \\\\( T_{2} \\\\) 는 스위치 \\\\( S_{1}, S_{2} \\\\)를 오프하기까지의 시간으로 식 (6)과 같다. 식 (7)은 이 모드가 끝나는 시점의 인덕터 전류이다.</p><p>\\\\( i_{L r}=\\\\frac{V_{d}}{L_{r}} t+I_{1} \\\\)<caption>(5)</caption></p><p>\\\\( T_{2}=T_{o n}-T_{1} \\\\)<caption>(6)</caption></p><p>\\\\( I_{2}=\\\\frac{V_{d}}{L_{r}} T_{2}+I_{1} \\\\)<caption>(7)</caption></p><p>모드 3 \\\\( \\\\left(T_{3}, t_{2} \\\\sim t_{3}\\\\right) \\\\)</p><p>시각 \\\\( t_{2} \\\\) 에서 스위치 \\\\( S_{1}, S_{Z} \\\\) 를 오프하면, 인덕터 \\\\( L_{T} \\\\) 의 전류 \\\\( i_{L r} \\\\) 는 \\\\( D_{2}-C_{r}-D_{3} \\\\) 를 통하여 흐르고 인덕터 \\\\( L_{r} \\\\) 와 커패시터 \\\\( C_{r} \\\\) 는 다시 직렬공진을 하여 \\\\( C_{r} \\\\) 를 충전시킨다. 커패시터 \\\\( C_{r} \\\\) 와 병렬로 배치된 스위치들의 턴-오프 동작은 공진 초기에서 커패시터 전압이 영이므로 ZVS로 동작된다. 이 모드에서의 커패시터 전압은 식 (8)과 같으며, 인덕터에 흐르는 전류는 식 (9)와 같다. 커패시터 전압 \\\\( V_{c r} \\\\) 이 입력전압 \\\\( V_{d} \\\\) 와 출력전압 \\\\( V_{c d} \\\\) 의 합으로 될 때 이 모드는 끝나며, 이 모드의 기간 \\\\( T_{3} \\\\)은 식 (10)에 주어지고 인덕터의 최종전류 \\\\( I_{3} \\\\) 는 식 (11)과 같다.</p><p>\\\\( v_{c r}=V_{d}+\\\\sqrt{\\\\frac{L_{r}}{C_{r}}} I_{a} \\\\sin \\\\left(\\\\omega_{r} t+\\\\theta\\\\right) \\\\)<caption>(8)</caption></p><p>\\\\( i_{L r}=I_{a} \\\\cos \\\\left(\\\\omega_{r} t+\\\\theta\\\\right) \\\\)<caption>(9)</caption></p><p>\\\\( T_{3}=\\\\sqrt{L_{r} C_{r}}\\\\left\\\\{\\\\sin ^{-1}\\\\left(\\\\frac{V_{d}}{\\\\sqrt{V_{d}^{2}+\\\\frac{L_{r}}{C_{r}} I_{2}^{2}}}\\\\right)-\\\\theta\\\\right\\\\} \\\\)<caption>(10)</caption></p><p>\\\\( I_{3}=I_{2} \\\\cos \\\\omega_{r} T_{3}+\\\\sqrt{\\\\frac{C_{r}}{L_{r}}} V_{d} \\\\sin \\\\omega_{r} T_{3} \\\\)<caption>(11)</caption></p><p>여기서, \\\\( I_{a}=\\\\sqrt{\\\\frac{C_{r}}{L_{r}} V_{d}^{2}+I_{2}^{2}} \\\\), \\\\( \\\\theta=\\\\sin ^{-1}\\\\left(-\\\\frac{V_{d}}{\\\\sqrt{V_{d}^{2}+\\\\frac{L_{r}}{C_{r}} I_{2}^{2}}}\\\\right) \\\\).</p><p>모드 4 \\\\(\\\\left(T_{4}, t_{3} \\\\sim t_{4}\\\\right) \\\\)</p><p>모드 4 는 커패시터 \\\\( C_{r} \\\\) 의 충전이 끝난 후 다이오드 \\\\( D_{c} \\\\) 를 통하여 인덕터 \\\\( L_{T} \\\\) 의 전류가 부하측으로 유입되는 모드이다. 이 때의 인덕터 전류 \\\\( \\\\dot{I}_{L r} \\\\) 는 직선적으로 감소하며 인덕터 전류가 영으로 되면 이 모드는 끝난다. 제어스위치들은 다음의 스위칭 사이클에 대기하게 된다. 이 모드에서 인덕터 전류 \\\\( i_{L r} \\\\) 는 식 (12)와 같고 이 모드의 기간 \\\\( T_{4} \\\\) 는 식 (13)과 같다.</p><p>\\\\( i_{L r}=-\\\\frac{V_{c d}}{L_{r}} t+I_{3} \\\\)<caption>(12)</caption></p><p>\\\\( T_{4}=\\\\frac{L_{r}}{V_{c d}} I_{3} \\\\)<caption>(13)</caption></p>'}\n"
     ]
    }
   ],
   "source": [
    "for i, item in enumerate(answers):\n",
    "    print(item)\n",
    "    break\n",
    "    print(item[\"question-1\"], item[\"question-2\"])\n",
    "    print(item[\"answer\"])\n",
    "    print(item['clue'])\n",
    "    print(\"*\"*100)\n",
    "    if i == 10:\n",
    "        break"
   ]
  },
  {
   "cell_type": "markdown",
   "id": "46d585d0-c395-4018-8afb-952e0bd8a725",
   "metadata": {},
   "source": [
    "# Haystack 적용"
   ]
  },
  {
   "cell_type": "code",
   "execution_count": 1,
   "id": "2f14fd40-2e91-41bc-a394-dc13e488b97e",
   "metadata": {
    "tags": []
   },
   "outputs": [
    {
     "name": "stderr",
     "output_type": "stream",
     "text": [
      "/opt/conda/envs/haystack/lib/python3.10/site-packages/tqdm/auto.py:21: TqdmWarning: IProgress not found. Please update jupyter and ipywidgets. See https://ipywidgets.readthedocs.io/en/stable/user_install.html\n",
      "  from .autonotebook import tqdm as notebook_tqdm\n"
     ]
    }
   ],
   "source": [
    "import json\n",
    "from pathlib import Path\n",
    "from typing import Dict\n",
    "\n",
    "from haystack import Document\n",
    "\n",
    "path = Path(\"../data/기술과학_문서_기계독해_데이터/Training/02.라벨링데이터/\")\n",
    "\n",
    "documents = []\n",
    "document_id = 1\n",
    "\n",
    "for item in path.glob(\"*/*.json\"):\n",
    "    name = item.name\n",
    "    category = name.split(\"_\")[0]\n",
    "    \n",
    "    with item.open() as file:\n",
    "        lines = json.load(file)\n",
    "    \n",
    "    dataset = lines[\"dataset\"]\n",
    "    \n",
    "    meta = {}\n",
    "    meta[\"doc_id\"] = dataset[\"doc_id\"]\n",
    "    meta[\"doc_type\"] = dataset[\"doc_type\"]\n",
    "    meta[\"doc_title\"] = dataset[\"doc_title\"]['kor']\n",
    "    meta[\"doc_category\"] = dataset[\"doc_category\"][\"KDC\"]\n",
    "    meta[\"doc_year\"] = dataset[\"doc_year\"]\n",
    "    meta[\"doc_author\"] = dataset[\"doc_author\"]\n",
    "    meta[\"doc_publisher\"] = dataset[\"doc_publisher\"]\n",
    "    \n",
    "    for context in dataset[\"context_info\"]:\n",
    "        context_meta = {}\n",
    "        context_meta[\"context_id\"] = context[\"context_id\"]\n",
    "        context_meta[\"large_category\"] = context['context_K-NSCC'][\"large_category\"]\n",
    "        context_meta[\"medium_category\"] = context['context_K-NSCC'][\"medium_category\"]\n",
    "        content = context[\"context\"]\n",
    "        \n",
    "        context_meta['qas'] = context['qas']\n",
    "        meta['context_meta'] = context_meta\n",
    "\n",
    "        documents.append(Document(content=content, meta=meta))"
   ]
  },
  {
   "cell_type": "markdown",
   "id": "b756c1b5-f99d-4a87-a3dc-986de4f8422f",
   "metadata": {
    "tags": []
   },
   "source": [
    "# Embedding & Retrieval"
   ]
  },
  {
   "cell_type": "markdown",
   "id": "a547a854-9e9d-4804-af3a-7c6a08470646",
   "metadata": {
    "jp-MarkdownHeadingCollapsed": true,
    "tags": []
   },
   "source": [
    "## BM25"
   ]
  },
  {
   "cell_type": "code",
   "execution_count": 63,
   "id": "0f9829bc-988d-44e1-9a3f-d3cc1140a3ab",
   "metadata": {
    "tags": []
   },
   "outputs": [
    {
     "data": {
      "text/plain": [
       "18270"
      ]
     },
     "execution_count": 63,
     "metadata": {},
     "output_type": "execute_result"
    }
   ],
   "source": [
    "from haystack.document_stores.in_memory import InMemoryDocumentStore\n",
    "\n",
    "document_store = InMemoryDocumentStore(bm25_algorithm=\"BM25Plus\")\n",
    "document_store.write_documents(documents=documents)"
   ]
  },
  {
   "cell_type": "markdown",
   "id": "ad10f3d7-44fb-4e98-ba7d-34c80dc984df",
   "metadata": {},
   "source": [
    "TODO: Save"
   ]
  },
  {
   "cell_type": "markdown",
   "id": "17a08f06-8d07-4140-a175-88f830bb5c33",
   "metadata": {},
   "source": [
    "`Document`의 ID는 content 내용에 따라 hash로 자동으로 설정됨"
   ]
  },
  {
   "cell_type": "code",
   "execution_count": 64,
   "id": "80a5b06e-fa2c-4eb4-80ad-6d122a2e16f3",
   "metadata": {
    "tags": []
   },
   "outputs": [],
   "source": [
    "from haystack import Pipeline\n",
    "from haystack.components.retrievers.in_memory import InMemoryBM25Retriever\n",
    "\n",
    "pipeline = Pipeline()\n",
    "pipeline.add_component(instance=InMemoryBM25Retriever(document_store=document_store), name=\"retrieval\")"
   ]
  },
  {
   "cell_type": "code",
   "execution_count": 65,
   "id": "38ce6a28-c342-4801-91f9-fc8768f6ca34",
   "metadata": {},
   "outputs": [
    {
     "name": "stderr",
     "output_type": "stream",
     "text": [
      "Ranking by BM25...: 100%|██████████████████████████████████████████████████| 18270/18270 [00:01<00:00, 10274.94 docs/s]\n"
     ]
    }
   ],
   "source": [
    "query = documents[0].meta[\"context_meta\"]['qas'][0]['question-1']\n",
    "\n",
    "bm25_result = pipeline.run(data={\"query\": query})"
   ]
  },
  {
   "cell_type": "code",
   "execution_count": 67,
   "id": "96b900f1-d123-4833-bfdb-f01851c09307",
   "metadata": {
    "collapsed": true,
    "jupyter": {
     "outputs_hidden": true
    },
    "tags": []
   },
   "outputs": [
    {
     "data": {
      "text/plain": [
       "'<h1>4. 실험 결과</h1> <p>본 논문에서 제안한 전압 지령의 위상각 제어에 의한 표면부착형 영구자석 동기전동기의 단위 전류 당 최대 토크 제어 특성을 평가할 목적으로 \\\\( 200 \\\\mathrm{~W} \\\\) 급 표면 부착형 영구자석 동기전동기를 대상으로 실험을 진행하였다. 실험에 사용된 전동기의 사양을 표 1 에 나타내었다. 전동기 구동을 위한 전력 변환 회로는 \\\\( 5 \\\\mathrm{~A} \\\\) 전류 용량의 IPM(Intelligent Power Module)을 이용하여 구성하였고, 스위칭 주파수는 \\\\( 10 \\\\mathrm{kHz} \\\\), 데드타임은 3usec로 설정하였다. 인버터 제어를 위한 마이크로프로세서로는 TI사의 Fixed-point DSP인 TMS320F2808을 사용하였다. 정수 연산만을 이용하여 제어 알고리즘을 구현하였고, d축 전류 추정을 위한 식 (21)의 연산을 \\\\( 1 \\\\mathrm{msec} \\\\) 주기로 수행하도록 하였기 때문에 연산능력이 다소 떨어지는 저가형 마이크로프로세서를 이용하여도 비교적 쉽게 구현이 가능할 것으로 판단된다. 그림 4와 같이 영구자석 직류전동기와 저항 부하를 이용하여 간이 부하 장치를 구성하였다.</p> <table border><caption>표 1 전동기 제정수</caption> <tbody><tr><td>전기자 저항 \\\\( \\\\left(R_{s}\\\\right) \\\\)</td><td>5.7 [Q]</td></tr><tr><td>인덕턴스 \\\\( \\\\left(L_{s}\\\\right) \\\\)</td><td>30 [mH]</td></tr><tr><td>역기전력 상수 \\\\( \\\\left(\\\\lambda_{P M}\\\\right) \\\\)</td><td>0.066 [V/rad/sec]</td></tr><tr><td>극 수</td><td>12</td></tr></tbody></table> <p>전동기 회전자의 각속도 및 위치는 홀센서를 이용하여 검출하였다. 그림 5 는 전동기를 \\\\( 1,500 \\\\mathrm{rpm} \\\\) 으로 운전하고 있는 상태에서 홀센서를 통해 구한 회전자 전기각 \\\\( \\\\theta_{h} \\\\), 식 (9)에 의해 추정된 회전자 전기각 \\\\( \\\\hat{\\\\theta_{e}} \\\\), 그리고 위치 분해능 \\\\( 1,000 \\\\mathrm{PPR} \\\\) 의 엔코더를 이용하여 검출한 회전자 전기각 \\\\( \\\\theta_{e} \\\\) 를 나타낸 것이다. 추정된 회전자의 전기각 \\\\( \\\\hat{\\\\theta_{e}} \\\\) 는 엔코더를 이용해 검출한 \\\\( \\\\theta_{e} \\\\) 에 비해 맥동이 포함되어 있는 데, 이것은 홀센서의 출력 신호가 일정하지 않아서 식 (8)에 의해 계산된 순시 속도에 맥동이 포함되기 때문이다. 전동기 제어를 위한 회전자 전기각 정보로는 추정된 \\\\( \\\\hat{\\\\theta_{e}} \\\\) 를 사용하였다.</p> <p>그림 6은 추정된 d축 전류를 이용하여 전압 위상각 제어를 수행하면서 대략 \\\\( 0.52 \\\\mathrm{Nm} \\\\) 부하조건에서 전동기의 회전 속도를 \\\\( 1,000 \\\\mathrm{rpm} \\\\) 으로 제어했을 때의 실험 파형이다. 그림 6 에서 (a)는 d축 전류로 상전류를 A/ D 변환한 후에 엔코더를 이용해 얻은 회전자 전기각 \\\\( \\\\theta_{e} \\\\)를 이용하여 구하였고, (b)와 (c)는 추정한 d축 전류이다. (b)의 경우는 데드타임의 영향을 고려한 식 (21)을 이용하여 추정한 것이고, (c)의 경우는 데드타임의 영향을 고려하지 않은 식 (6)을 이용하여 추정한 것이다. 데드타임의 영향을 고려함으로써 정확한 d축 전류 추정이 가능하고, 이를 이용한 전압 위상각 제어에 의해 d축 전류가 0으로 제어되고 있음을 알 수 있다.</p> <p>그림 7과 그림 8은 위상각 \\\\( \\\\theta_{\\\\text {angle }} \\\\) 계산을 위한 적분 이득을 각각 0.2, 0.4로 설정하고 속도 지령을 \\\\( 1,000 \\\\mathrm{rpm} \\\\) 에서 \\\\( 2,000 \\\\mathrm{rpm} \\\\) 으로 변화시켰을 때의 실험 파형으로, \\\\( 2,000 \\\\mathrm{rpm} \\\\) 운전 조건에서 부하는 대략 \\\\( 0.87 \\\\mathrm{Nm} \\\\)이다. d축 전류 추정을 위해 데드타임의 영향을 고려한 식 (21)을 이용하였다. 속도가 변화하는 과도 상태에서는 d축 전류가 0 으로 제어되지 못하는 구간이 존재하는 데, 이것은 \\\\( \\\\theta_{\\\\text {angle }} \\\\) 계산을 위한 적분기에서의 지연으로 인한 것이다. 그림 8과 깉이 \\\\( \\\\theta_{\\\\text {angle }} \\\\) 계산을 위한 적분기의 이득을 증가시킴으로써 과도 상태 응답 특성을 다소 개선할 수 있으나, 과도 상태에서의 응답 지연으로 인해 본 논문에서 제안하는 단위 전류 당 최대토크 운전 방법은 빈번한 가감속 운전을 하지 않는 응용 분야에 적용하는 것이 적합하다.</p> <p>식 (21)에 의한 d축 전류 추정에는 전동기의 제정수 변동을 고려하지 않고 있다. 전동기의 권선 저항과 역기전력 상수는 온도에 따라 변화하고, 인덕턴스는 전류에 따라 변화한다. 또한, 데드타임에 의한 전압 오차도 전동기의 운전 조건에 따라 변화한다. 따라시 전동기 및 인버터의 제정수 변동을 고려하지 않으면 식 (21)에 의한 d축 전류 추정에는 오차가 포함되게 된다. 그림 9는 실험에 사용된 전동기를 기준으로 \\\\( 600 \\\\mathrm{rpm} \\\\), \\\\( 4.57 \\\\mathrm{Nm} \\\\) 부하조건에서 전동기의 제정수(저항, 인덕턴스, 역기전력 상수)에 오차가 있을 때 d축 전류의 추정 오차를 PSIM 시뮬레이션을 통해 구한 결과이다. 전동기 제정수 변동에 의한 d축 전류 추정에 오차가 발생하면 전동기의 운전 점은 단위 전류 당 최대 토크 운전 점에서 벗어나게 된다. 전동기의 인덕턴스는 전류의 크기에 따라 변화하므로 전류에 따른 인덕턴스 변화를 테이블로 저장하고, 추정된 전류를 기준으로 전류 추정식에 사용되는 인덕턴스 값을 보정함으로써 인덕턴스 변화에 따른 전류 추정 오차를 보상할 수 있다. 저항 및 역기전력 상수는 온도에 따라 변화하므로, 온도 변화에 따른 전류 추정 오차를 보상하기 위해서는 전동기의 온도를 별도로 검출할 필요가 있다.</p>'"
      ]
     },
     "execution_count": 67,
     "metadata": {},
     "output_type": "execute_result"
    }
   ],
   "source": [
    "documents[0].content"
   ]
  },
  {
   "cell_type": "code",
   "execution_count": 69,
   "id": "ca68cd3b-40e0-4c07-999d-b8a873cb67f0",
   "metadata": {
    "collapsed": true,
    "jupyter": {
     "outputs_hidden": true
    },
    "tags": []
   },
   "outputs": [
    {
     "name": "stdout",
     "output_type": "stream",
     "text": [
      "<h1>초 록</h1><p>본 논문에서는 FxLMS(Filtered-x Least Mean Square) 알고리즘을 이용한 단일 센서 기반의 능동 반향음 제어 알고리즘을 제안한다. 제안 알고리즘은 먼저 단일 센서 입력 신호로부터 입사음과 반향음을 분리하고, 분리된 신호들을 사용하여 반향음과 반대 위상을 갖는 제어 신호를 생성한다. 제어 신호는 센서 위치에서 반향음과 중첩되어 반향음의 음압을 감소시킨다. 적절한 신호 분리를 위해 반향 음향 경로와 제어 음향 경로가 필요하며 이는 swept sine 신호를 이용해 측정한 음향 응답으로부터 사전에 구할 수 있다. 효용성을 검증하기 위해 DSP(Digital Signal Processing) 보드를 사용하여 제안된 알고리즘을 실시간으로 구현하였으며, 공기 중 음향 덕트 환겅에서 \\( 1 \\mathrm{kHz} \\) 버스트 신호에 대해 반향음이 \\( 11.6 \\mathrm{~dB} \\) 감소함을 확인 하였다.</p>\n",
      "[{'question_id': '8fb14b07-0feb-4d3b-a330-7173001b00bb', 'question-1': 'Fig. 1은 무엇을 나타내는가?', 'question-2': 'Fig. 1이 보여주고자 하는 것은 무엇이야?', 'question_type': 'what', 'question_level': '하', 'answer': '단일 센서 기반의 반향음 제어 시스템의 구성', 'answer_type': '정답경계추출형', 'answer_start': '73', 'answer_end': '97', 'clue': [{'clue_text': 'Fig. 1은 단일 센서 기반의 반향음 제어 시스템의 구성을 나타낸다.', 'clue_start': '65', 'clue_end': '104'}]}, {'question_id': '96e209dd-923e-4b32-8b55-70df4bdac826', 'question-1': 'Fig. 1은 다중 센서 기반의 반향음 제어 시스템의 구성을 나타내는가?', 'question-2': '다중 센서 기반의 반향음 제어 시스템의 구성을 보여주는 것은 Fig. 1야?', 'question_level': '중', 'answer': 'NO', 'answer_type': 'Yes/No 단문형', 'clue': [{'clue_text': 'Fig. 1은 단일 센서 기반의 반향음 제어 시스템의 구성을 나타낸다.', 'clue_start': '65', 'clue_end': '104'}]}, {'question_id': 'b68ea95e-4c3b-42ce-8197-a63b509ee0e9', 'question-1': '제어 시스템은 무엇으로 구성되는가?', 'question-2': '제어 시스템을 어떤 것들로 이루어져있어?', 'question_type': 'what', 'question_level': '하', 'answer': '입사 음향 신호와 반사음 및 제어 신호를 집음하기 위한 센서와 반사면에 설치된 제어용 트랜스듀서', 'answer_type': '정답경계추출형', 'answer_start': '113', 'answer_end': '166', 'clue': [{'clue_text': '제어 시스템은 입사 음향 신호와 반사음 및 제어 신호를 집음하기 위한 센서와 반사면에 설치된 제어용 트랜스듀서로 구성된다.', 'clue_start': '105', 'clue_end': '173'}]}, {'question_id': 'db4b97aa-fa07-4ba4-9abf-1f443908f10b', 'question-1': '제어 신호를 집음하기 위한 센서는 제어 시스템의 구성요소인가?', 'question-2': '제어 시스템의 구성요소 중 제어 신호를 집음하기 위한 센서가 있어?', 'question_level': '하', 'answer': 'YES', 'answer_type': 'Yes/No 단문형', 'clue': [{'clue_text': '제어 시스템은 입사 음향 신호와 반사음 및 제어 신호를 집음하기 위한 센서와 반사면에 설치된 제어용 트랜스듀서로 구성된다.', 'clue_start': '105', 'clue_end': '173'}]}, {'question_id': '53d56d16-ab00-41da-9723-418778fd0774', 'question-1': '제어 시스템을 위해 어떠한 장치가 포함되는가?', 'question-2': '어떤 장치가 제어 시스템을 위해 포함되어 있어?', 'question_type': 'what', 'question_level': '하', 'answer': '아날로그 혹은 디지털 제어 발생 장치', 'answer_type': '정답경계추출형', 'answer_start': '188', 'answer_end': '208', 'clue': [{'clue_text': '또한 제어 시스템을 위해 아날로그 혹은 디지털 제어 발생 장치가 포함된다.', 'clue_start': '174', 'clue_end': '215'}]}, {'question_id': '43609726-a809-43f9-8208-c000c7f72ea3', 'question-1': '아날로그 제어 발생 장치만이 제어 시스템을 위해 포함되는 요소인가?', 'question-2': '제어 시스템을 위해 포함되는 요소는 오직 아날로그 제어 발생 장치야?', 'question_level': '하', 'answer': 'NO', 'answer_type': 'Yes/No 단문형', 'clue': [{'clue_text': '또한 제어 시스템을 위해 아날로그 혹은 디지털 제어 발생 장치가 포함된다.', 'clue_start': '174', 'clue_end': '215'}]}, {'question_id': 'a7f173ed-03d6-4102-b2e7-35f5d6cff689', 'question-1': 'S(z)=P_{i}(z)+P_{r}(z)+P_{c}(z) 식은 Fig. 1의 시스템에서 센서 입력 신호를 어떠한 영역에서 나타낸 것인가?', 'question-2': 'Fig. 1의 시스템에서 센서 입력 신호를 어떠한 영역에서 나타낸 식이 S(z)=P_{i}(z)+P_{r}(z)+P_{c}(z) 야?', 'question_type': 'what', 'question_level': '상', 'answer': 'z-영역', 'answer_type': '다지선다형', 'answer_start': '246', 'answer_end': '250', 'clue': [{'clue_text': 'Fig. 1의 시스템에서 센서 입력 신호를 z-영역에서 나타내면 다음과 같다.', 'clue_start': '222', 'clue_end': '265'}, {'clue_text': 'S(z)=P_{i}(z)+P_{r}(z)+P_{c}(z)', 'clue_start': '275', 'clue_end': '306'}], 'wrong_answer': ['x-영역', 'y-영역', 's 평면']}, {'question_id': 'a07845b7-73f4-4a29-b37c-de0c7568124d', 'question-1': 'Fig. 1의 시스템에서 센서 입력 신호를 z-영역에서 나타내는 식을 작성할 수 있는가?', 'question-2': '센서 입력 신호를 z-영역에서 나타내는 식을 Fig. 1의 시스템에서 나타낼 수 있어?', 'question_level': '상', 'answer': 'YES', 'answer_type': 'Yes/No 단문형', 'clue': [{'clue_text': 'Fig. 1의 시스템에서 센서 입력 신호를 z-영역에서 나타내면 다음과 같다.', 'clue_start': '222', 'clue_end': '265'}, {'clue_text': 'S(z)=P_{i}(z)+P_{r}(z)+P_{c}(z)', 'clue_start': '275', 'clue_end': '306'}]}, {'question_id': 'a73ba1d4-58ec-428e-b15f-4f597e9b6a13', 'question-1': 'S(z)=P_{i}(z)+P_{r}(z)+P_{c}(z) 식에서 \\\\( P_{i}(z), P_{r}(z), P_{c}(z) \\\\)는 각각 무엇을 나타내는가?', 'question-2': '\\\\( P_{i}(z), P_{r}(z), P_{c}(z) \\\\)는 S(z)=P_{i}(z)+P_{r}(z)+P_{c}(z) 식에서 각각 의미하는 것이 뭐야?', 'question_type': 'what', 'question_level': '상', 'answer': '입사 음향신호, 반향음 그리고 제어신호', 'answer_type': '정답경계추출형', 'answer_start': '402', 'answer_end': '423', 'clue': [{'clue_text': 'S(z)=P_{i}(z)+P_{r}(z)+P_{c}(z)', 'clue_start': '275', 'clue_end': '306'}, {'clue_text': '위식에서 \\\\( S(z) \\\\)는 센서 신호, \\\\( P_{i}(z), P_{r}(z), P_{c}(z) \\\\)는 각각 입사 음향신호, 반향음 그리고 제어신호를 나타낸다.', 'clue_start': '339', 'clue_end': '430'}]}, {'question_id': 'c08bc502-f096-4319-a769-1db7779dfc37', 'question-1': 'S(z)=P_{i}(z)+P_{r}(z)+P_{c}(z) 식은 센서 신호를 구하기 위한 식인가?', 'question-2': '센서 신호를 구하기 위한 식은 S(z)=P_{i}(z)+P_{r}(z)+P_{c}(z) 이야?', 'question_level': '상', 'answer': 'YES', 'answer_type': 'Yes/No 단문형', 'clue': [{'clue_text': 'S(z)=P_{i}(z)+P_{r}(z)+P_{c}(z)', 'clue_start': '275', 'clue_end': '306'}, {'clue_text': '위식에서 \\\\( S(z) \\\\)는 센서 신호, \\\\( P_{i}(z), P_{r}(z), P_{c}(z) \\\\)는 각각 입사 음향신호, 반향음 그리고 제어신호를 나타낸다.', 'clue_start': '339', 'clue_end': '430'}]}, {'question_id': 'b987fb51-bbee-427b-ae3c-44c4c9443d24', 'question-1': '\\\\( P_{r}(z) \\\\)은 무엇에 의해 발생된 반향음인가?', 'question-2': '반향음 \\\\( P_{r}(z) \\\\)은 무엇을 통해 발생해?', 'question_type': 'what', 'question_level': '하', 'answer': '입사 소음', 'answer_type': '정답경계추출형', 'answer_start': '447', 'answer_end': '452', 'clue': [{'clue_text': '\\\\( P_{r}(z) \\\\)는 입사 소음에 의해 발생된 반향음이기 때문에 Eq. (1)을 다음과 같이 다시 쓸 수 있다.', 'clue_start': '431', 'clue_end': '497'}]}, {'question_id': 'ec331aa5-25b0-455d-b3d9-deebe9f41b48', 'question-1': '\\\\( T_{r}(z) \\\\) 은 무엇을 의미하는가?', 'question-2': '\\\\( T_{r}(z) \\\\) 은 무엇이야?', 'question_type': 'what', 'question_level': '하', 'answer': '음향 반향경로의 주파수 특성으로 센서에서 반사면을 맞고 다시 센서까지 되돌아오는 경로', 'answer_type': '정답경계추출형', 'answer_start': '598', 'answer_end': '645', 'clue': [{'clue_text': '\\\\( T_{r}(z) \\\\) 은 음향 반향경로의 주파수 특성으로 센서에서 반사면을 맞고 다시 센서까지 되돌아오는 경로를 의미한다.', 'clue_start': '581', 'clue_end': '652'}]}, {'question_id': '341fc0a8-aefb-4355-9ca7-e8093071f975', 'question-1': '\\\\( T_{r}(z) \\\\) 은 센서에서 반사면을 맞고 다시 센서까지 되돌아오는데, 어떠한 특성 때문인가?', 'question-2': '어떠한 특성에 의해  \\\\( T_{r}(z) \\\\) 은 센서에서 반사면을 맞고 다시 센서까지 되돌아와?', 'question_type': 'what', 'question_level': '하', 'answer': '음향 반향경로의 주파수 특성', 'answer_type': '정답경계추출형', 'answer_start': '598', 'answer_end': '613', 'clue': [{'clue_text': '\\\\( T_{r}(z) \\\\) 은 음향 반향경로의 주파수 특성으로 센서에서 반사면을 맞고 다시 센서까지 되돌아오는 경로를 의미한다.', 'clue_start': '581', 'clue_end': '652'}]}, {'question_id': '0394386b-beab-4463-b8d0-994b49acfb4b', 'question-1': '어떤 특성을 알고 있으면 단일 센서 신호로부터 입사 음향신호를 추정할 수 있는가?', 'question-2': '단일 센서 신호로부터 입사 음향신호를 어떤 정보를 알고 있으면 추정할 수 있어?', 'question_type': 'what', 'question_level': '하', 'answer': '반향 경로 특성 \\\\( T_{r}(z) \\\\)', 'answer_type': '정답경계추출형', 'answer_start': '657', 'answer_end': '680', 'clue': [{'clue_text': '따라서 반향 경로 특성 \\\\( T_{r}(z) \\\\) 를 알고 있다면 단일 센서 신호로부터 입사 음향신호를 다음과 같이 추정할 수 있다.', 'clue_start': '653', 'clue_end': '727'}]}, {'question_id': '934a39a3-1390-43e9-af14-2fb2fcd1295f', 'question-1': '반향 경로 특성 \\\\( T_{r}(z) \\\\) 를 알고 있으면 다중 센서 신호로부터 입사 음향신호를 추정할 수 있는가?', 'question-2': '다중 센서 신호로부터 입사 음향신호를 반향 경로 특성 \\\\( T_{r}(z) \\\\) 를 통해 추정할 수 있어?', 'question_level': '중', 'answer': 'NO', 'answer_type': 'Yes/No 단문형', 'clue': [{'clue_text': '따라서 반향 경로 특성 \\\\( T_{r}(z) \\\\) 를 알고 있다면 단일 센서 신호로부터 입사 음향신호를 다음과 같이 추정할 수 있다.', 'clue_start': '653', 'clue_end': '727'}]}, {'question_id': '172d7181-e49f-41bc-a573-5ad0bcafdc1e', 'question-1': '\\\\( P_{i}(z)=\\\\frac{S(z)-P_{c}(z)}{1+T_{r}(z)} \\\\) 식은 단일 센서 신호로부터 무엇을 알아내기 위한 식인가?', 'question-2': '단일 센서 신호로부터 \\\\( P_{i}(z)=\\\\frac{S(z)-P_{c}(z)}{1+T_{r}(z)} \\\\) 을 통해 무엇을 알아낼 수 있어?', 'question_type': 'what', 'question_level': '상', 'answer': '입사 음향신호', 'answer_type': '정답경계추출형', 'answer_start': '702', 'answer_end': '709', 'clue': [{'clue_text': '따라서 반향 경로 특성 \\\\( T_{r}(z) \\\\) 를 알고 있다면 단일 센서 신호로부터 입사 음향신호를 다음과 같이 추정할 수 있다.', 'clue_start': '653', 'clue_end': '727'}, {'clue_text': '\\\\( P_{i}(z)=\\\\frac{S(z)-P_{c}(z)}{1+T_{r}(z)} \\\\)', 'clue_start': '734', 'clue_end': '781'}]}, {'question_id': 'd57c370c-3bff-4448-a871-0c3334933e55', 'question-1': '식 \\\\( P_{r}(z)=\\\\frac{\\\\left[S(z)-P_{c}(z)\\\\right] T_{r}(z)}{1+T_{r}(z)} \\\\)으로 입사 음향신호를 추정할 수 있는가?', 'question-2': '입사 음향신호는 \\\\( P_{r}(z)=\\\\frac{\\\\left[S(z)-P_{c}(z)\\\\right] T_{r}(z)}{1+T_{r}(z)} \\\\) 식으로 추정할 수 있어?', 'question_level': '상', 'answer': 'NO', 'answer_type': 'Yes/No 단문형', 'clue': [{'clue_text': '또한 반향음은 다음과 같이 추정할 수 있다.', 'clue_start': '811', 'clue_end': '835'}, {'clue_text': '\\\\( P_{r}(z)=\\\\frac{\\\\left[S(z)-P_{c}(z)\\\\right] T_{r}(z)}{1+T_{r}(z)} \\\\)', 'clue_start': '842', 'clue_end': '911'}, {'clue_text': '따라서 반향 경로 특성 \\\\( T_{r}(z) \\\\) 를 알고 있다면 단일 센서 신호로부터 입사 음향신호를 다음과 같이 추정할 수 있다.', 'clue_start': '653', 'clue_end': '727'}]}, {'question_id': 'bbb466c9-53d8-4a2f-bdbb-6f9442a47e3f', 'question-1': '다음 중 반향음을 추정하는 식으로 옳은 것은 무엇인가?', 'question-2': '반향음을 추정하는 식이 맞는 것은?', 'question_type': 'what', 'question_level': '상', 'answer': '\\\\( P_{r}(z)=\\\\frac{\\\\left[S(z)-P_{c}(z)\\\\right] T_{r}(z)}{1+T_{r}(z)} \\\\)', 'answer_type': '다지선다형', 'answer_start': '842', 'answer_end': '911', 'clue': [{'clue_text': '따라서 반향 경로 특성 \\\\( T_{r}(z) \\\\) 를 알고 있다면 단일 센서 신호로부터 입사 음향신호를 다음과 같이 추정할 수 있다.', 'clue_start': '653', 'clue_end': '727'}, {'clue_text': '\\\\( P_{i}(z)=\\\\frac{S(z)-P_{c}(z)}{1+T_{r}(z)} \\\\)', 'clue_start': '734', 'clue_end': '781'}, {'clue_text': '또한 반향음은 다음과 같이 추정할 수 있다.', 'clue_start': '811', 'clue_end': '835'}, {'clue_text': '\\\\( P_{r}(z)=\\\\frac{\\\\left[S(z)-P_{c}(z)\\\\right] T_{r}(z)}{1+T_{r}(z)} \\\\)', 'clue_start': '842', 'clue_end': '911'}], 'wrong_answer': ['\\\\( P_{i}(z)=\\\\frac{S(z)-P_{c}(z)}{1-T_{r}(z)} \\\\)', '\\\\( S(z)=P_{i}(z)+P_{r}(z)+P_{c}(z) \\\\)', '\\\\( P_{m}(z)=\\\\frac{\\\\left[S(z)-P_{c}(z)\\\\right] T_{r}(z)}{1+T_{r}(z)} \\\\)']}, {'question_id': '5015813a-29eb-4d26-8804-b0a73502cd15', 'question-1': '입사음향 신호와 반사음 추정치를 시간 영역에서 표현할 수 있는가?', 'question-2': '시간 영역에서 입사음향 신호와 반사음 추정치를 표현할 수 있어?', 'question_level': '상', 'answer': 'YES', 'answer_type': 'Yes/No 단문형', 'clue': [{'clue_text': 'Eqs. (3)과(4)의 입사음향 신호와 반사음 추정치를 시간 영역에서 표현하면 다음과 같이 나타낼 수 있다.', 'clue_start': '941', 'clue_end': '1002'}, {'clue_text': '\\\\( p_{i}(n)=s(n)-p_{c}(n)-\\\\boldsymbol{t}_{r}^{T} \\\\boldsymbol{p}_{i}(n) \\\\), \\\\( p_{r}(n)=\\\\boldsymbol{t}_{r}^{T}\\\\left[\\\\boldsymbol{s}(n)-\\\\boldsymbol{p}_{c}(n)\\\\right]-\\\\boldsymbol{t}_{r}^{T} \\\\boldsymbol{p}_{r}(n) \\\\)', 'clue_start': '1009', 'clue_end': '1218'}]}, {'question_id': '751965c3-0df8-4ad2-83d2-0d0e567ea246', 'question-1': '\\\\( p_{i}(n)=s(n)-p_{c}(n)-\\\\boldsymbol{t}_{r}^{T} \\\\boldsymbol{p}_{i}(n) \\\\), \\\\( p_{r}(n)=\\\\boldsymbol{t}_{r}^{T}\\\\left[\\\\boldsymbol{s}(n)-\\\\boldsymbol{p}_{c}(n)\\\\right]-\\\\boldsymbol{t}_{r}^{T} \\\\boldsymbol{p}_{r}(n) \\\\)는 무엇을 나타낸 식인가?', 'question-2': '\\\\( p_{i}(n)=s(n)-p_{c}(n)-\\\\boldsymbol{t}_{r}^{T} \\\\boldsymbol{p}_{i}(n) \\\\), \\\\( p_{r}(n)=\\\\boldsymbol{t}_{r}^{T}\\\\left[\\\\boldsymbol{s}(n)-\\\\boldsymbol{p}_{c}(n)\\\\right]-\\\\boldsymbol{t}_{r}^{T} \\\\boldsymbol{p}_{r}(n) \\\\)을 통해 알 수 있는 것은?', 'question_type': 'what', 'question_level': '상', 'answer': '입사음향 신호와 반사음 추정치를 시간 영역에서 표현', 'answer_type': '정답경계추출형', 'answer_start': '955', 'answer_end': '983', 'clue': [{'clue_text': '\\\\( p_{i}(n)=s(n)-p_{c}(n)-\\\\boldsymbol{t}_{r}^{T} \\\\boldsymbol{p}_{i}(n) \\\\), \\\\( p_{r}(n)=\\\\boldsymbol{t}_{r}^{T}\\\\left[\\\\boldsymbol{s}(n)-\\\\boldsymbol{p}_{c}(n)\\\\right]-\\\\boldsymbol{t}_{r}^{T} \\\\boldsymbol{p}_{r}(n) \\\\)', 'clue_start': '1009', 'clue_end': '1218'}, {'clue_text': 'Eqs. (3)과(4)의 입사음향 신호와 반사음 추정치를 시간 영역에서 표현하면 다음과 같이 나타낼 수 있다.', 'clue_start': '941', 'clue_end': '1002'}]}, {'question_id': '5c66c4bc-e5b2-4715-8c2d-62f961b7a8c2', 'question-1': '\\\\( p_{i}(n)=s(n)-p_{c}(n)-\\\\boldsymbol{t}_{r}^{T} \\\\boldsymbol{p}_{i}(n) \\\\), \\\\( p_{r}(n)=\\\\boldsymbol{t}_{r}^{T}\\\\left[\\\\boldsymbol{s}(n)-\\\\boldsymbol{p}_{c}(n)\\\\right]-\\\\boldsymbol{t}_{r}^{T} \\\\boldsymbol{p}_{r}(n) \\\\) 식에서 \\\\( T \\\\)는 무엇을 나타내는가?', 'question-2': ' \\\\( T \\\\)가 \\\\( p_{i}(n)=s(n)-p_{c}(n)-\\\\boldsymbol{t}_{r}^{T} \\\\boldsymbol{p}_{i}(n) \\\\), \\\\( p_{r}(n)=\\\\boldsymbol{t}_{r}^{T}\\\\left[\\\\boldsymbol{s}(n)-\\\\boldsymbol{p}_{c}(n)\\\\right]-\\\\boldsymbol{t}_{r}^{T} \\\\boldsymbol{p}_{r}(n) \\\\) 식에서 의미하는 것은 무엇이야?', 'question_type': 'what', 'question_level': '상', 'answer': '트랜스포즈 연산자', 'answer_type': '정답경계추출형', 'answer_start': '1772', 'answer_end': '1781', 'clue': [{'clue_text': '\\\\( p_{i}(n)=s(n)-p_{c}(n)-\\\\boldsymbol{t}_{r}^{T} \\\\boldsymbol{p}_{i}(n) \\\\), \\\\( p_{r}(n)=\\\\boldsymbol{t}_{r}^{T}\\\\left[\\\\boldsymbol{s}(n)-\\\\boldsymbol{p}_{c}(n)\\\\right]-\\\\boldsymbol{t}_{r}^{T} \\\\boldsymbol{p}_{r}(n) \\\\)', 'clue_start': '1009', 'clue_end': '1218'}, {'clue_text': '\\\\( \\\\boldsymbol{p}_{i}(n)=\\\\left[p_{i}(n), p_{i}(n-1), \\\\cdots p_{i}\\\\left(n-M_{r}-1\\\\right)\\\\right]^{T} \\\\), \\\\( \\\\boldsymbol{p}_{r}(n)=\\\\left[p_{r}(n), p_{r}(n-1), \\\\cdots p_{r}\\\\left(n-M_{r}-1\\\\right)\\\\right]^{T} \\\\), \\\\( \\\\boldsymbol{p}_{c}(n)=\\\\left[p_{c}(n), p_{c}(n-1), \\\\cdots p_{c}\\\\left(n-M_{r}-1\\\\right)\\\\right]^{T} \\\\), \\\\( \\\\boldsymbol{s}(n)=\\\\left[s(n), s(n-1), \\\\cdots s\\\\left(n-M_{r}-1\\\\right)\\\\right]^{T} \\\\), \\\\( \\\\boldsymbol{t}_{r}=\\\\left[t_{r, 0}, t_{r, 1}, \\\\cdots, t_{r, M_{r}}\\\\right]^{T} \\\\)', 'clue_start': '1248', 'clue_end': '1726'}, {'clue_text': '위 식에서 \\\\( T \\\\) 는 트랜스포즈 연산자이며 \\\\( s(n), p_{i}(n) \\\\), \\\\( p_{r}(n), p_{c}(n), t_{r, i} \\\\) 는 각각 \\\\( S(z), P_{i}(z), P_{r}(z), P_{c}(z) \\\\), \\\\( T_{r}(z) \\\\) 의 시간 도메인 표현이다.', 'clue_start': '1756', 'clue_end': '1917'}]}, {'question_id': '19b4ccf4-c055-4d55-8c96-c5ada45da503', 'question-1': '음향 반사경로 \\\\( T_{r}(z) \\\\)의 진수는 \\\\( M_{r}+1 \\\\)이 맞는가?', 'question-2': '\\\\( M_{r}+1 \\\\)은 음향 반사경로 \\\\( T_{r}(z) \\\\)의 진수야?', 'question_level': '하', 'answer': 'NO', 'answer_type': 'Yes/No 단문형', 'clue': [{'clue_text': '이때 음향 반사경로 \\\\( T_{r}(z) \\\\) 의 차수는 \\\\( M_{r}+1 \\\\) 이다.', 'clue_start': '1918', 'clue_end': '1967'}]}, {'question_id': '75f83938-6480-4dc2-9a57-61cae25c4857', 'question-1': '센서에 집음된 제어신호는 어떤 것을 이용해 구할 수 있는가?', 'question-2': '무엇을 이용하여 센서에 집음된 제어신호를 구할 수 있어?', 'question_type': 'what', 'question_level': '하', 'answer': '제어필터 출력 \\\\( y(n) \\\\) 과 제어 음향 경로 \\\\( \\\\boldsymbol{t}_{c} \\\\)', 'answer_type': '정답경계추출형', 'answer_start': '2001', 'answer_end': '2055', 'clue': [{'clue_text': '한편 센서에 집음된 제어신호 \\\\( p_{c}(n) \\\\) 는 제어필터 출력 \\\\( y(n) \\\\) 과 제어 음향 경로 \\\\( \\\\boldsymbol{t}_{c} \\\\) 를 이용하여 \\\\( p_{c}(n)=\\\\boldsymbol{t}_{c}^{T}\\\\boldsymbol{y}(n), \\\\boldsymbol{y}(n)=[y(n), \\\\ldots \\\\), \\\\( \\\\left.y\\\\left(n-M_{c}+1\\\\right)\\\\right]^{T} \\\\) 와 같이 구할 수 있다.', 'clue_start': '1968', 'clue_end': '2212'}]}, {'question_id': 'a2fad3cb-0d52-43f7-a2af-97a52e1718e5', 'question-1': '\\\\( p_{c}(n)=\\\\boldsymbol{t}_{c}^{T}\\\\boldsymbol{y}(n), \\\\boldsymbol{y}(n)=[y(n), \\\\ldots \\\\), \\\\( \\\\left.y\\\\left(n-M_{c}+1\\\\right)\\\\right]^{T} \\\\)는 제어신호를 구하기 위한 식이 맞는가?', 'question-2': '제어신호를 구하기 위한 식은 \\\\( p_{c}(n)=\\\\boldsymbol{t}_{c}^{T}\\\\boldsymbol{y}(n), \\\\boldsymbol{y}(n)=[y(n), \\\\ldots \\\\), \\\\( \\\\left.y\\\\left(n-M_{c}+1\\\\right)\\\\right]^{T} \\\\)야?', 'question_level': '하', 'answer': 'YES', 'answer_type': 'Yes/No 단문형', 'clue': [{'clue_text': '한편 센서에 집음된 제어신호 \\\\( p_{c}(n) \\\\) 는 제어필터 출력 \\\\( y(n) \\\\) 과 제어 음향 경로 \\\\( \\\\boldsymbol{t}_{c} \\\\) 를 이용하여 \\\\( p_{c}(n)=\\\\boldsymbol{t}_{c}^{T}\\\\boldsymbol{y}(n), \\\\boldsymbol{y}(n)=[y(n), \\\\ldots \\\\), \\\\( \\\\left. y\\\\left(n-M_{c}+1\\\\right)\\\\right]^{T} \\\\) 와 같이 구할 수 있다.', 'clue_start': '1968', 'clue_end': '2212'}]}, {'question_id': '6bfe6735-acca-4a35-91ff-c1a89bc4de0b', 'question-1': '\\\\( M_{c} \\\\) 은 제어경로의 차수인가?', 'question-2': '제어경로의 차수는 \\\\( M_{c} \\\\) 야?', 'question_level': '하', 'answer': 'YES', 'answer_type': 'Yes/No 단문형', 'clue': [{'clue_text': '여기서 \\\\( M_{c} \\\\) 는 제어경로의 차수이다.', 'clue_start': '2213', 'clue_end': '2242'}]}, {'question_id': '999e69d8-0823-4231-a069-11f883f37c2e', 'question-1': '입사 신호와 반사신호를 추정하기 위해 주어지는 경로들은 어떤 것을 통해 주어졌는가?', 'question-2': '무엇을 통해 입사 신호와 반사신호를 추정하기 위해 주어지는 경로들이 주어졌어?', 'question_type': 'what', 'question_level': '하', 'answer': 'Eq. (5)', 'answer_type': '정답경계추출형', 'answer_start': '2243', 'answer_end': '2250', 'clue': [{'clue_text': 'Eq. (5)를 통해 반향 경로와 제어 경로가 주어지면 단일 센서 신호 \\\\( s(n) \\\\) 으로부터 입사 신호와 반사신호 \\\\( p_{i}(n), p_{r}(n) \\\\) 을 추정할 수 있다.', 'clue_start': '2243', 'clue_end': '2347'}]}, {'question_id': 'b655a2fe-9ca0-4bfa-b0f7-a6e4a829dd2b', 'question-1': 'Eq. (5)는 물리적으로 구현 가능한 시스템인가?', 'question-2': '물리적으로 구현 가능한 시스템은 Eq. (5)야?', 'question_level': '하', 'answer': 'NO', 'answer_type': 'Yes/No 단문형', 'clue': [{'clue_text': '그러나 Eq. (5)는 비인과성 문제로 인해 물리적으로 구현이 불가능한 시스템이다.', 'clue_start': '2348', 'clue_end': '2394'}]}, {'question_id': 'ceae6f6c-ff8c-415c-93c3-2e24167202bd', 'question-1': 'Eq. (5)가 물리적으로 구현이 불가능한 시스템인 이유는 무엇인가?', 'question-2': '왜 Eq. (5)가 물리적으로 구현이 불가능한 시스템이야?', 'question_type': 'what', 'question_level': '중', 'answer': '비인과성 문제', 'answer_type': '다지선다형', 'answer_start': '2361', 'answer_end': '2368', 'clue': [{'clue_text': '그러나 Eq. (5)는 비인과성 문제로 인해 물리적으로 구현이 불가능한 시스템이다.', 'clue_start': '2348', 'clue_end': '2394'}], 'wrong_answer': ['인과성 문제', '비허위성 문제', '상관성 문제']}, {'question_id': 'd0395139-188a-4411-8144-d639e371b328', 'question-1': '반향경로의 임펄스 응답 \\\\( \\\\boldsymbol{t}_{r} \\\\)이 센서에서 벽을 왕복하는 동안 시간지연이 생기는 이유는 무엇인가?', 'question-2': '왜 반향경로의 임펄스 응답 \\\\( \\\\boldsymbol{t}_{r} \\\\)이 센서에서 벽을 왕복하는 동안 시간지연이 생겨?', 'question_type': 'what', 'question_level': '하', 'answer': '센서와 거리 차이가 있기 때문', 'answer_type': '정답경계추출형', 'answer_start': '2445', 'answer_end': '2461', 'clue': [{'clue_text': '한편, 반향경로의 임펄스 응답 \\\\( \\\\boldsymbol{t}_{r} \\\\) 은 센서와 거리 차이가 있기 때문에 센서에서 벽을 왕복하는 동안 시간지연이 생기고 이에 따라 응답이 없는 초기 상태를 가지게 된다.', 'clue_start': '2401', 'clue_end': '2516'}]}, {'question_id': '785016e3-300c-48ea-b605-aa12d24cfc79', 'question-1': '반향경로의 임펄스 응답 \\\\( \\\\boldsymbol{t}_{r} \\\\)이 어떻게 응답이 없는 초기 상태를 가지게 되는가?', 'question-2': '응답이 없는 초기 상태를 반향경로의 임펄스 응답 \\\\( \\\\boldsymbol{t}_{r} \\\\)이 어떻게 가져?', 'question_type': 'how', 'question_level': '하', 'answer': '센서에서 벽을 왕복하는 동안 시간지연이 생기고', 'answer_type': '절차(방법)형', 'answer_start': '2463', 'answer_end': '2488', 'clue': [{'clue_text': '한편, 반향경로의 임펄스 응답 \\\\( \\\\boldsymbol{t}_{r} \\\\) 은 센서와 거리 차이가 있기 때문에 센서에서 벽을 왕복하는 동안 시간지연이 생기고 이에 따라 응답이 없는 초기 상태를 가지게 된다.', 'clue_start': '2401', 'clue_end': '2516'}]}, {'question_id': 'a3714b5a-a373-4c03-b366-fe1f00fcf35f', 'question-1': '반향경로의 임펄스 응답 \\\\( \\\\boldsymbol{t}_{r} \\\\)이 센서에서 벽을 왕복하는 동안 시간지연이 생기는가?', 'question-2': ' 센서에서 반향경로의 임펄스 응답 \\\\( \\\\boldsymbol{t}_{r} \\\\)이 왕복하는 동안 시간이 지연돼?', 'question_level': '하', 'answer': 'YES', 'answer_type': 'Yes/No 단문형', 'clue': [{'clue_text': '한편, 반향경로의 임펄스 응답 \\\\( \\\\boldsymbol{t}_{r} \\\\) 은 센서와 거리 차이가 있기 때문에 센서에서 벽을 왕복하는 동안 시간지연이 생기고 이에 따라 응답이 없는 초기 상태를 가지게 된다.', 'clue_start': '2401', 'clue_end': '2516'}]}, {'question_id': '110caed9-0fea-4a4f-8c81-92af2385a6ee', 'question-1': '반향경로의 임펄스 응답 \\\\( \\\\boldsymbol{t}_{r} \\\\)이 센서와 거리 차이가 있기 때문에 발생하는 상태는 어떤 상태인가?', 'question-2': '반향경로의 임펄스 응답 \\\\( \\\\boldsymbol{t}_{r} \\\\)이 센서와 거리 차이가 있으면 어떻게 돼?', 'question_type': 'what', 'question_level': '하', 'answer': '응답이 없는 초기 상태', 'answer_type': '정답경계추출형', 'answer_start': '2495', 'answer_end': '2507', 'clue': [{'clue_text': '한편, 반향경로의 임펄스 응답 \\\\( \\\\boldsymbol{t}_{r} \\\\) 은 센서와 거리 차이가 있기 때문에 센서에서 벽을 왕복하는 동안 시간지연이 생기고 이에 따라 응답이 없는 초기 상태를 가지게 된다.', 'clue_start': '2401', 'clue_end': '2516'}]}, {'question_id': '11ead5c2-de46-4a12-9a98-f62c868fb93a', 'question-1': '\\\\( \\\\boldsymbol{t}_{r} \\\\) 를 \\\\( \\\\boldsymbol{t}_{r}=\\\\left(0,0, \\\\ldots, 0, t_{r, K+1}, t_{r, K+2}, \\\\cdots, t_{r, M}\\\\right)^{T} \\\\)라는 식으로 표현해도 되는가?', 'question-2': '\\\\( \\\\boldsymbol{t}_{r}=\\\\left(0,0, \\\\ldots, 0, t_{r, K+1}, t_{r, K+2}, \\\\cdots, t_{r, M}\\\\right)^{T} \\\\)라는 식으로 나타낼 수 있어?', 'question_level': '상', 'answer': 'YES', 'answer_type': 'Yes/No 단문형', 'clue': [{'clue_text': '즉 \\\\( \\\\boldsymbol{t}_{r} \\\\) 를 다음과 같이 다시 쓸 수 있다.', 'clue_start': '2517', 'clue_end': '2563'}, {'clue_text': '\\\\( \\\\boldsymbol{t}_{r}=\\\\left(0,0, \\\\ldots, 0, t_{r, K+1}, t_{r, K+2}, \\\\cdots, t_{r, M}\\\\right)^{T} \\\\)', 'clue_start': '2570', 'clue_end': '2668'}]}, {'question_id': '7b41d956-a577-44e2-a94c-eb2320de2aff', 'question-1': '\\\\( \\\\boldsymbol{t}_{r}=\\\\left(0,0, \\\\ldots, 0, t_{r, K+1}, t_{r, K+2}, \\\\cdots, t_{r, M}\\\\right)^{T} \\\\) 식에서 \\\\( d \\\\) 는 무엇을 나타내는가?', 'question-2': ' \\\\( d \\\\) 는 \\\\( \\\\boldsymbol{t}_{r}=\\\\left(0,0, \\\\ldots, 0, t_{r, K+1}, t_{r, K+2}, \\\\cdots, t_{r, M}\\\\right)^{T} \\\\) 식에서 의미하는 것이 무엇이야?', 'question_type': 'what', 'question_level': '상', 'answer': '센서와 반사벽면 간의 거리', 'answer_type': '정답경계추출형', 'answer_start': '2726', 'answer_end': '2740', 'clue': [{'clue_text': '\\\\( \\\\boldsymbol{t}_{r}=\\\\left(0,0, \\\\ldots, 0, t_{r, K+1}, t_{r, K+2}, \\\\cdots, t_{r, M}\\\\right)^{T} \\\\)', 'clue_start': '2570', 'clue_end': '2668'}, {'clue_text': '위 식에서 초기 영 응답의 길이 \\\\( K \\\\) 는 센서와 반사벽면 간의 거리 \\\\( d \\\\) 에 의해 다음과 같이 결정된다.', 'clue_start': '2698', 'clue_end': '2766'}]}, {'question_id': '3cd372b8-b5dd-4623-856e-b2e1fd1ac4ed', 'question-1': '\\\\( \\\\boldsymbol{t}_{r}=\\\\left(0,0, \\\\ldots, 0, t_{r, K+1}, t_{r, K+2}, \\\\cdots, t_{r, M}\\\\right)^{T} \\\\) 식에서 초기 영 응답의 길이를 나타내는 것은 \\\\( d \\\\) 인가?', 'question-2': '\\\\( d \\\\)는 \\\\( \\\\boldsymbol{t}_{r}=\\\\left(0,0, \\\\ldots, 0, t_{r, K+1}, t_{r, K+2}, \\\\cdots, t_{r, M}\\\\right)^{T} \\\\) 식에서 초기 영 응답의 길이를 나타내? ', 'question_level': '상', 'answer': 'NO', 'answer_type': 'Yes/No 단문형', 'clue': [{'clue_text': '\\\\( \\\\boldsymbol{t}_{r}=\\\\left(0,0, \\\\ldots, 0, t_{r, K+1}, t_{r, K+2}, \\\\cdots, t_{r, M}\\\\right)^{T} \\\\)', 'clue_start': '2570', 'clue_end': '2668'}, {'clue_text': '위 식에서 초기 영 응답의 길이 \\\\( K \\\\) 는 센서와 반사벽면 간의 거리 \\\\( d \\\\) 에 의해 다음과 같이 결정된다.', 'clue_start': '2698', 'clue_end': '2766'}]}, {'question_id': '096f89ff-7f91-4339-a9e1-64ea5f3eb989', 'question-1': '초기 영 응답의 길이 \\\\( K \\\\) 에 대한 식으로 옳은 것은?', 'question-2': '초기 영 응답의 길이 \\\\( K \\\\) 의 식은?', 'question_type': 'what', 'question_level': '상', 'answer': '\\\\( K=\\\\lfloor(2 d / c) \\\\times F s\\\\rfloor \\\\)', 'answer_type': '다지선다형', 'answer_start': '2773', 'answer_end': '2815', 'clue': [{'clue_text': '위 식에서 초기 영 응답의 길이 \\\\( K \\\\) 는 센서와 반사벽면 간의 거리 \\\\( d \\\\) 에 의해 다음과 같이 결정된다.', 'clue_start': '2698', 'clue_end': '2766'}, {'clue_text': '\\\\( K=\\\\lfloor(2 d / c) \\\\times F s\\\\rfloor \\\\)', 'clue_start': '2773', 'clue_end': '2815'}], 'wrong_answer': ['\\\\( K=\\\\lfloor(3 d / c) \\\\times F s\\\\rfloor \\\\)', '\\\\( K=\\\\lfloor(4 d / c) \\\\times F s\\\\rfloor \\\\)', '\\\\( K=\\\\lfloor(8 d / c) \\\\times F s\\\\rfloor \\\\)']}, {'question_id': '8aa12a8e-d818-4530-ab84-40f830bad5b9', 'question-1': '\\\\( K=\\\\lfloor(2 d / c) \\\\times F s\\\\rfloor \\\\) 식에서 \\\\( F_{s} \\\\) 는 무엇을 나타내는가?', 'question-2': '\\\\( F_{s} \\\\) 는 \\\\( K=\\\\lfloor(2 d / c) \\\\times F s\\\\rfloor \\\\) 식에서 의미하는 것이 무엇이야?', 'question_type': 'what', 'question_level': '상', 'answer': '샘플링 주파수', 'answer_type': '정답경계추출형', 'answer_start': '2872', 'answer_end': '2879', 'clue': [{'clue_text': '\\\\( K=\\\\lfloor(2 d / c) \\\\times F s\\\\rfloor \\\\)', 'clue_start': '2773', 'clue_end': '2815'}, {'clue_text': '\\\\( c \\\\) 는 음속, \\\\( F_{s} \\\\) 는 샘플링 주파수를 나타내며, \\\\lfloor\\\\rfloor 는 정수 연산자이다.', 'clue_start': '2844', 'clue_end': '2913'}]}, {'question_id': '66dc55b2-696d-4eaf-a4f7-8ad67229c489', 'question-1': '식 \\\\( K=\\\\lfloor(2 d / c) \\\\times F s\\\\rfloor \\\\)에서 음속을 나타내는 것은 \\\\( c \\\\)가 맞는가?', 'question-2': '\\\\( c \\\\)는 식 \\\\( K=\\\\lfloor(2 d / c) \\\\times F s\\\\rfloor \\\\)에서 음속이야?', 'question_level': '상', 'answer': 'YES', 'answer_type': 'Yes/No 단문형', 'clue': [{'clue_text': '\\\\( K=\\\\lfloor(2 d / c) \\\\times F s\\\\rfloor \\\\)<caption>(8)</caption>', 'clue_start': '2773', 'clue_end': '2837'}, {'clue_text': '\\\\( c \\\\) 는 음속, \\\\( F_{s} \\\\) 는 샘플링 주파수를 나타내며, \\\\lfloor\\\\rfloor 는 정수 연산자이다.', 'clue_start': '2844', 'clue_end': '2913'}]}, {'question_id': '7e1216c3-54b3-426d-9f67-cd797468d751', 'question-1': '\\\\( \\\\boldsymbol{t}_{r}=(\\\\underbrace{0, \\\\ldots, 0}_{\\\\bar{K}}, \\\\tilde{\\\\boldsymbol{t}_{r}^{T}})^{T} \\\\) 식은 \\\\( \\\\boldsymbol{t}_{r}=\\\\left(0,0, \\\\ldots, 0, t_{r, K+1}, t_{r, K+2}, \\\\cdots, t_{r, M}\\\\right)^{T} \\\\) 식과 동일하다고 할 수 있는가?', 'question-2': '\\\\( \\\\boldsymbol{t}_{r}=(\\\\underbrace{0, \\\\ldots, 0}_{\\\\bar{K}}, \\\\tilde{\\\\boldsymbol{t}_{r}^{T}})^{T} \\\\) 식은 \\\\( \\\\boldsymbol{t}_{r}=\\\\left(0,0, \\\\ldots, 0, t_{r, K+1}, t_{r, K+2}, \\\\cdots, t_{r, M}\\\\right)^{T} \\\\) 식과 같아?', 'question_level': '상', 'answer': 'YES', 'answer_type': 'Yes/No 단문형', 'clue': [{'clue_text': '따라서 Eq. (7)의 \\\\(\\\\boldsymbol{t}_{r} \\\\) 를 다음과 같이 다시 쓸 수 있다.', 'clue_start': '2914', 'clue_end': '2970'}, {'clue_text': '\\\\( \\\\boldsymbol{t}_{r}=(\\\\underbrace{0, \\\\ldots, 0}_{\\\\bar{K}}, \\\\tilde{\\\\boldsymbol{t}_{r}^{T}})^{T} \\\\)', 'clue_start': '2977', 'clue_end': '3075'}, {'clue_text': '\\\\( \\\\boldsymbol{t}_{r}=\\\\left(0,0, \\\\ldots, 0, t_{r, K+1}, t_{r, K+2}, \\\\cdots, t_{r, M}\\\\right)^{T} \\\\)', 'clue_start': '2570', 'clue_end': '2668'}]}, {'question_id': 'b673d03d-5c0d-4e02-8962-0e3de8473b6c', 'question-1': '\\\\(\\\\boldsymbol{t}_{r} \\\\)에 대한 식을 작성할 때 초기 영 응답이 표시된 반향경로를 사용하여도 되는가?', 'question-2': ' 초기 영 응답이 표시된 반향경로를 \\\\(\\\\boldsymbol{t}_{r} \\\\)에 대한 식에 사용해도 돼?', 'question_level': '상', 'answer': 'YES', 'answer_type': 'Yes/No 단문형', 'clue': [{'clue_text': 'Eq. (9)와 같이 초기 영 응답이 표현된 반향경로 \\\\(\\\\tilde {\\\\boldsymbol{t}}_{r} \\\\) 를 사용 할 수 있으며 \\\\( K=1 \\\\) 로 나타낼 경우 Eq. (6)의 \\\\( M_{r}+1 \\\\) 로 표현된 식에서 Eq. (10)과 같이 \\\\( p_{i}(n), p_{r}(n) \\\\)을 제외한 \\\\( M_{r} \\\\) 차식으로 표현 가능하다.', 'clue_start': '3105', 'clue_end': '3301'}, {'clue_text': '따라서 Eq. (7)의 \\\\(\\\\boldsymbol{t}_{r} \\\\) 를 다음과 같이 다시 쓸 수 있다.', 'clue_start': '2914', 'clue_end': '2970'}]}, {'question_id': '0531e4b7-7eec-4a1c-8961-0b3ee3af4287', 'question-1': '\\\\( p_{i}(n)=s(n)-p_{c}(n)-\\\\boldsymbol{t}_{r}^{T} \\\\boldsymbol{p}_{i}(n) \\\\), \\\\( p_{r}(n)=\\\\boldsymbol{t}_{r}^{T}\\\\left[\\\\boldsymbol{s}(n)-\\\\boldsymbol{p}_{c}(n)\\\\right]-\\\\boldsymbol{t}_{r}^{T} \\\\boldsymbol{p}_{r}(n) \\\\) 식에는 비인과성 문제가 존재하는데, 이를 해결할 방법이 있는가?', 'question-2': '비인과성 문제가 \\\\( p_{i}(n)=s(n)-p_{c}(n)-\\\\boldsymbol{t}_{r}^{T} \\\\boldsymbol{p}_{i}(n) \\\\), \\\\( p_{r}(n)=\\\\boldsymbol{t}_{r}^{T}\\\\left[\\\\boldsymbol{s}(n)-\\\\boldsymbol{p}_{c}(n)\\\\right]-\\\\boldsymbol{t}_{r}^{T} \\\\boldsymbol{p}_{r}(n) \\\\) 식에 있는데 해결할 수 있어?', 'question_level': '상', 'answer': 'YES', 'answer_type': 'Yes/No 단문형', 'clue': [{'clue_text': '그러므로 Eq. (5)의 비인과성 문제를 해결할 수 있으며 최종적으로 단일 센서로 집음된 신호를 이용하여 입사음과 반사음을 추정할 수 있다.', 'clue_start': '3302', 'clue_end': '3379'}, {'clue_text': 'Eq. (9)와 같이 초기 영 응답이 표현된 반향경로 \\\\(\\\\tilde {\\\\boldsymbol{t}}_{r} \\\\) 를 사용 할 수 있으며 \\\\( K=1 \\\\) 로 나타낼 경우 Eq. (6)의 \\\\( M_{r}+1 \\\\) 로 표현된 식에서 Eq. (10)과 같이 \\\\( p_{i}(n), p_{r}(n) \\\\)을 제외한 \\\\( M_{r} \\\\) 차식으로 표현 가능하다.', 'clue_start': '3105', 'clue_end': '3301'}, {'clue_text': '\\\\( p_{i}(n)=s(n)-p_{c}(n)-\\\\boldsymbol{t}_{r}^{T} \\\\boldsymbol{p}_{i}(n) \\\\), \\\\( p_{r}(n)=\\\\boldsymbol{t}_{r}^{T}\\\\left[\\\\boldsymbol{s}(n)-\\\\boldsymbol{p}_{c}(n)\\\\right]-\\\\boldsymbol{t}_{r}^{T} \\\\boldsymbol{p}_{r}(n) \\\\)', 'clue_start': '1009', 'clue_end': '1218'}]}, {'question_id': 'da3306fe-e8b3-4684-98ea-7554e26223f6', 'question-1': '\\\\( p_{i}(n)=s(n)-p_{c}(n)-\\\\boldsymbol{t}_{r}^{T} \\\\boldsymbol{p}_{i}(n) \\\\), \\\\( p_{r}(n)=\\\\boldsymbol{t}_{r}^{T}\\\\left[\\\\boldsymbol{s}(n)-\\\\boldsymbol{p}_{c}(n)\\\\right]-\\\\boldsymbol{t}_{r}^{T} \\\\boldsymbol{p}_{r}(n) \\\\) 식의 비인과성 문제를 해결하고 단일 센서로 집음된 신호를 이용하면 무엇을 추정할 수 있는가?', 'question-2': '어떤 것을 추정하기 위해 \\\\( p_{i}(n)=s(n)-p_{c}(n)-\\\\boldsymbol{t}_{r}^{T} \\\\boldsymbol{p}_{i}(n) \\\\), \\\\( p_{r}(n)=\\\\boldsymbol{t}_{r}^{T}\\\\left[\\\\boldsymbol{s}(n)-\\\\boldsymbol{p}_{c}(n)\\\\right]-\\\\boldsymbol{t}_{r}^{T} \\\\boldsymbol{p}_{r}(n) \\\\) 식의 비인과성 문제를 해결하고 단일 센서로 집음된 신호를 이용해?', 'question_type': 'what', 'question_level': '상', 'answer': '입사음과 반사음', 'answer_type': '정답경계추출형', 'answer_start': '3360', 'answer_end': '3368', 'clue': [{'clue_text': '그러므로 Eq.(5)의 비인과성 문제를 해결할 수 있으며 최종적으로 단일 센서로 집음된 신호를 이용하여 입사음과 반사음을 추정할 수 있다.', 'clue_start': '3302', 'clue_end': '3379'}, {'clue_text': '\\\\( p_{i}(n)=s(n)-p_{c}(n)-\\\\boldsymbol{t}_{r}^{T} \\\\boldsymbol{p}_{i}(n) \\\\), \\\\( p_{r}(n)=\\\\boldsymbol{t}_{r}^{T}\\\\left[\\\\boldsymbol{s}(n)-\\\\boldsymbol{p}_{c}(n)\\\\right]-\\\\boldsymbol{t}_{r}^{T} \\\\boldsymbol{p}_{r}(n) \\\\)', 'clue_start': '1009', 'clue_end': '1218'}]}, {'question_id': '3821a576-aa25-47cd-9aea-4bf9cac45df1', 'question-1': '단일 센서로 집음된 신호로 입사음과 반사음의 추정이 가능한가?', 'question-2': '입사음과 반사음을 단일 센서로 집음된 신호로 추정할 수 있어?', 'question_level': '하', 'answer': 'YES', 'answer_type': 'Yes/No 단문형', 'clue': [{'clue_text': '그러므로 Eq. (5)의 비인과성 문제를 해결할 수 있으며 최종적으로 단일 센서로 집음된 신호를 이용하여 입사음과 반사음을 추정할 수 있다.', 'clue_start': '3302', 'clue_end': '3379'}]}, {'question_id': '080c7557-8988-4511-b7a7-38c0f7422985', 'question-1': '\\\\( p_{i}(n)=s^{\\\\prime}(n)-\\\\tilde{\\\\boldsymbol{t}_{r}^{T}} \\\\boldsymbol{p}_{i}(n-K) \\\\), \\\\( p_{r}(n)=\\\\tilde{\\\\boldsymbol{t}_{r}^{T}} \\\\dot{\\\\boldsymbol{s}}^{\\\\prime}(n-K)- \\\\tilde{\\\\boldsymbol{t}_{r}^{T}}\\\\boldsymbol{p}_{r}(n-K) \\\\) 식에서 제어 신호가 제거된 센서 신호를 의미하는 것은 어떤 것인가?', 'question-2': '제어 신호가 제거된 센서 신호는 \\\\( p_{i}(n)=s^{\\\\prime}(n)-\\\\tilde{\\\\boldsymbol{t}_{r}^{T}} \\\\boldsymbol{p}_{i}(n-K) \\\\), \\\\( p_{r}(n)=\\\\tilde{\\\\boldsymbol{t}_{r}^{T}} \\\\dot{\\\\boldsymbol{s}}^{\\\\prime}(n-K)- \\\\tilde{\\\\boldsymbol{t}_{r}^{T}}\\\\boldsymbol{p}_{r}(n-K) \\\\) 식에서 어떤 것을 의미해?', 'question_type': 'what', 'question_level': '상', 'answer': '\\\\( s^{\\\\prime}(n)=s(n)-p_{c}(n) \\\\)', 'answer_type': '정답경계추출형', 'answer_start': '3642', 'answer_end': '3675', 'clue': [{'clue_text': '\\\\( p_{i}(n)=s^{\\\\prime}(n)-\\\\tilde{\\\\boldsymbol{t}_{r}^{T}} \\\\boldsymbol{p}_{i}(n-K) \\\\), \\\\( p_{r}(n)=\\\\tilde{\\\\boldsymbol{t}_{r}^{T}} \\\\dot{\\\\boldsymbol{s}}^{\\\\prime}(n-K)- \\\\tilde{\\\\boldsymbol{t}_{r}^{T}}\\\\boldsymbol{p}_{r}(n-K) \\\\)', 'clue_start': '3386', 'clue_end': '3606'}, {'clue_text': '위식에서 \\\\( s^{\\\\prime}(n)=s(n)-p_{c}(n) \\\\) 는 제어 신호가 제거된 센서 신호를 의미한다.', 'clue_start': '3637', 'clue_end': '3701'}]}]\n",
      "<h1>요 약</h1><p>본 논문에서는 극 배치 기법을 활용하여 쿼드로터 시스템의 제어기법을 제안한다. 일반적으로 상태 게환 제어기믈 사용하여 제어된 시스템 성능을 개선하기 위해서는 많은 제어 이득 값 선정에서의 시행착오가 필요하다. 이러한 복잡성을 완화시키고, 체계적인 제어 이득 선정을 위해 쿼드로터의 페루프 시스템을 분석한다. 시스템 싱능을 개선시키기 위해 극 배치 기법을 활용한 제어 이득 결정 알고리즘을 제안한다. 제안된 제어기법은 실제 시스템인 쿼드로터에 적용하여 유효성을 입증한다.</p><h1>I. 서론</h1><p>최근 드론이 개발되면서 고정익, 회전익, 비행선 등 드론의 종류가 다양해졌다. 쿼드로터는 회전익 드론의 한 종류로써 레저용, 정찰용, 촬영용 등 다양한 분야에서 사용되고 있다. 또한 사람이 들어갈 수 없는 공간을 탐사하거나 물건을 옮기는 등 여러 분야에서 연구가 진행되고 있다.</p><p>쿼드로터는 호버링과 수직 이 - 착륙이 가능하여 이 - 착륙 시의 공간이 많이 필요하지 않다는 장점을 가지고 있다. 그러나 모델링이 복잡하고 비선형 시스템을 가지고 있어 제어하기 어렵다는 단점이 있다. 이에 따라 쿼드로터에 대한 다양한 제어방법들이 연구되었다. 예를 들어 [1]은 PID제어기가 최단 시간에 자세제어를 할 수 있는 이득 값을 얻는 알고리즘을 제안하였다. 그러나 [1]에서 제안된 제어기법은 비선형성을 잘 보상하지 못하여 비선형 시스템인 쿼드로터에 적용하면 오차로 인해 안정성이 보장되지 못한다는 단점을 가지고 있다. 이러한 단점을 보완하기 위해 비선형성을 포함하여 제어기를 설계하는 방식인 궤환 선형화 제어기법이 연구되었다[2], [3]. [4]와 [5]에서는 LQR 제어기와 PID제어기의 성능을 비교하기 위해 각도 제어 성능과 궤적추적 성능을 비교하였고, LQR 제어기의 성능이 PID 제어기의 성능보다 뛰어남을 입증하였다.</p><p>본 논문에서는 쿼드로터의 높이 및 자세제어를 위하여 상태 궤환 제어기를 사용한다. 상태 궤환 제어기를 설계 할 때 이득값을 선정하기 위해 폐루프 시스템이 안정되는 극점의 범위를 찾는 방법이 많이 사용되고 있다. 그러나 이 방법은 overshoot (오버슈트), ultimate bound(최종 수렴 범위), settling time(정착시간)과 같은 시스템의 특정 성능을 개선하기 어렵다. 따라서 이득 값과 출력간의 관계를 파악하여 이득 값 결정 알고리즘을 제안하고, 실제 쿼드로터에 적용함으로써 제어기법의 유용성을 검증한다. 본 논문은 2장에서 쿼드로터 시스템의 동역학 방정식 및 상태방정식을 유도하고 내부 모델 제어기를 실계한다. 3장에서 쿼드로터의 출력과 제어기 사이의 관계를 분석하여 제어 이득 결정 알고리즘을 제안한다. 4장에서 알고리즘을 쿼드로터에 적용하여 호버링 및 자세제어 실험을 통해 제안된 제어 기법의 유효성을 확인한다.</p>\n",
      "[{'question_id': '24d99595-a74d-4322-87a9-e3e1f0e4e4a4', 'question-1': '일반적으로 상태 게환 제어기믈 사용하여 제어된 시스템 성능을 개선하기 위해서는 많은 제어 이득 값 선정에서의 시행착오가 필요한데 이러한 복잡성을 완화시키고, 체계적인 제어 이득 선정을 위해 어떤 시스템으로 분석해?', 'question-2': None, 'question_type': 'what', 'question_level': '상', 'answer': '페루프 시스템', 'answer_type': '정답경계추출형', 'answer_start': '172', 'answer_end': '179', 'clue': [{'clue_text': '이러한 복잡성을 완화시키고, 체계적인 제어 이득 선정을 위해 쿼드로터의 페루프 시스템을 분석한다.', 'clue_start': '132', 'clue_end': '186'}, {'clue_text': '쿼드로터는 회전익 드론의 한 종류로써 레저용, 정찰용, 촬영용 등 다양한 분야에서 사용되고 있다.', 'clue_start': '342', 'clue_end': '396'}]}, {'question_id': 'e45ddb6e-75f9-4c02-be75-0a0dd688b5e9', 'question-1': '쿼드로터의 높이 및 자세제어를 위하여 사용한 제어기는 뭐야?', 'question-2': None, 'question_type': 'what', 'question_level': '하', 'answer': '상태 궤환 제어기', 'answer_type': '다지선다형', 'answer_start': '968', 'answer_end': '977', 'clue': [{'clue_text': '본 논문에서는 쿼드로터의 높이 및 자세제어를 위하여 상태 궤환 제어기를 사용한다.', 'clue_start': '939', 'clue_end': '984'}], 'wrong_answer': ['LQR 제어기', 'PID 제어기', 'CLS 제어기']}, {'question_id': 'cc5b5a40-9af0-42ed-b8a6-76e5e62703ef', 'question-1': '상태 궤환 제어기를 설계 할 때 이득값을 선정하기 위해 overshoot (오버슈트), ultimate bound(최종 수렴 범위), settling time(정착시간)과 같은 시스템의 특정 성능을 개선한 폐루프 시스템이 안정되는 극점의 범위를 찾는 방법이 많이 사용되고 있다.', 'question-2': None, 'question_level': '상', 'answer': 'NO', 'answer_type': 'Yes/No 단문형', 'clue': [{'clue_text': '그러나 이 방법은 overshoot (오버슈트), ultimate bound(최종 수렴 범위), settling time(정착시간)과 같은 시스템의 특정 성능을 개선하기 어렵다.', 'clue_start': '1057', 'clue_end': '1156'}]}, {'question_id': '2b8f7253-8ffe-4714-b81a-14daa28efa0b', 'question-1': '이극값과 출력간의 관계를 파악하여 시스템 성능을 개선하기 위해 제안된 알고리즘은 뭐야?', 'question-2': None, 'question_type': 'what', 'question_level': '상', 'answer': '제어 이득 결정 알고리즘', 'answer_type': '정답경계추출형', 'answer_start': '217', 'answer_end': '230', 'clue': [{'clue_text': '시스템 싱능을 개선시키기 위해 극 배치 기법을 활용한 제어 이득 결정 알고리즘을 제안한다.', 'clue_start': '187', 'clue_end': '237'}, {'clue_text': '따라서 이득 값과 출력간의 관계를 파악하여 이득 값 결정 알고리즘을 제안하고, 실제 쿼드로터에 적용함으로써 제어기법의 유용성을 검증한다.', 'clue_start': '1157', 'clue_end': '1233'}]}, {'question_id': '5c3a92b8-4e19-46c2-abc1-14b65adc5028', 'question-1': 'LQR 제어기와 PID 제어기의 성능을 비교했을때 PID 제어기의 성능이 LQ R제어기의 성능보다 뛰어나다.', 'question-2': None, 'question_level': '하', 'answer': 'NO', 'answer_type': 'Yes/No 단문형', 'clue': [{'clue_text': 'LQR 제어기와 PID제어기의 성능을 비교하기 위해 각도 제어 성능과 궤적추적 성능을 비교하였고, LQR 제어기의 성능이 PID 제어기의 성능보다 뛰어남을 입증하였다.', 'clue_start': '839', 'clue_end': '932'}]}, {'question_id': '1ebb6230-5ba4-4066-8c19-754d8e73b12a', 'question-1': '퀘드로터 시스템은 어떤 방정식을 유도하고 내부 모델 제어기를 설계해?', 'question-2': None, 'question_type': 'what', 'question_level': '하', 'answer': '동역학 방정식 및 상태방정식', 'answer_type': '정답경계추출형', 'answer_start': '1255', 'answer_end': '1270', 'clue': [{'clue_text': '논문은 2장에서 쿼드로터 시스템의 동역학 방정식 및 상태방정식을 유도하고 내부 모델 제어기를 실계한다.', 'clue_start': '1236', 'clue_end': '1293'}]}, {'question_id': 'e4f99040-11c9-473a-9470-46706c330654', 'question-1': '쿼드로터의 높이 및 자세제어를 위헤 어떤 제어기를 사용해?', 'question-2': None, 'question_type': 'what', 'question_level': '상', 'answer': '상태 궤환 제어기', 'answer_type': '정답경계추출형', 'answer_start': '985', 'answer_end': '994', 'clue': [{'clue_text': '본 논문에서는 쿼드로터의 높이 및 자세제어를 위하여 상태 궤환 제어기를 사용한다.', 'clue_start': '939', 'clue_end': '984'}, {'clue_text': '상태 궤환 제어기를 설계 할 때 이득값을 선정하기 위해 폐루프 시스템이 안정되는 극점의 범위를 찾는 방법이 많이 사용되고 있다.', 'clue_start': '985', 'clue_end': '1056'}]}, {'question_id': '7ad7b156-5bcc-4e3f-ae16-9ae6beaa1db7', 'question-1': '쿼드로터는 고정익 드론의 한 종류로써 레저용, 정찰용,촬영용 등의 다양한 분야에 사용되고있다.', 'question-2': None, 'question_level': '하', 'answer': 'NO', 'answer_type': 'Yes/No 단문형', 'clue': [{'clue_text': '쿼드로터는 회전익 드론의 한 종류로써 레저용, 정찰용, 촬영용 등 다양한 분야에서 사용되고 있다.', 'clue_start': '342', 'clue_end': '396'}]}]\n",
      "<h1>요약</h1><p>MPPT가 미적용된 기존 태양광 가로등은 최대 \\( 30 \\% \\) 의 출력저하를 유발한다고 보고되고 있다. 본 논문에서는 이러한 출력 저하로부터 태양광발전시스템의 효율을 향상시키기 위해 다이렉트 듀티비 제어 알고리즘을 적용한 \\( 250 \\mathrm{W} \\) 태양광가로등을 위한 충전제어기를 제안하였으며, PWM 제어기와 전력 토폴로지를 다루고, MPPT 알고리즘을 분석하였다. 전력변환부는 푸쉬풀 강압 컨버터로 구성하고, PWM 제어기는 8 비트 MCU를 기반으로 해서 제조 원가를 낮추도록 하였다. 다이렉트 듀티비 제어 알고리즘을 적용한 PWM 제어기는 태양광모듈의 최대전력점을 지속적으로 추적하여 출력 전력을 증가시킨다. 실험 결과, \\( 241 \\mathrm{W} \\) 태양광시뮬레이터 환경에서 97.1 97.4\\%의 MPPT 효율을 나타내었으며, 실제 응용제품에 적용할 수 있을 것으로 예상된다.</p>\n",
      "[{'question_id': '46909fbe-20af-41ef-a66c-17b5a58b8135', 'question-1': '다이렉트 듀티비 제어를 통한 P&O 알고리즘이 그냥 P&O 알고리즘보다 제조단가를 더 낮출수 있을까?', 'question-2': None, 'question_level': '하', 'answer': 'YES', 'answer_type': 'Yes/No 단문형', 'clue': [{'clue_text': '기존에 주로 사용되고 있는 P&O 알고리즘은 레퍼런스 전압으로 제어되기 때문에 복잡하지만, 본 논문에서 제안된 다이렉트 듀티비 제어방법은 제어가 간단하고 저사양 MCU를 사용하기 때문에 제조원가를 낮출 수 있는 장점이 있다.', 'clue_start': '118', 'clue_end': '243'}]}, {'question_id': '45aa9f1d-4742-4dd6-b5bf-3ab300ad4bef', 'question-1': 'P&O 알고리즘은 다이렉트 듀티비로 제어 받을 때보다 레퍼런스 전압으로 제어받았을 때 전압-전류 변동폭이 더 클까?', 'question-2': None, 'question_level': '상', 'answer': 'YES', 'answer_type': 'Yes/No 단문형', 'clue': [{'clue_text': '다이렉트 듀티비 제어에 의한 P&O 알고리즘 적용했을 때 전압-전류 변동폭이 작았으며 \\\\(3. 3\\\\%\\\\)이상 효율이 높게 측정되었으며, 이를 통하여 태양광가로등용 충전제어기로써의 타당성을 확인하였다', 'clue_start': '534', 'clue_end': '643'}, {'clue_text': '일사량 \\\\( 1,000 \\\\mathrm{W} / \\\\mathrm{m}^{2} \\\\) 상태에서 태양광시뮬레이터를 이용해 레퍼런스 전압 제어에 의한 P&O 알고리즘과 다이렉트 듀티비 제어에 의한 P&O 알고리즘을 적용하여 충전제어기 실험을 진행하였다', 'clue_start': '392', 'clue_end': '526'}]}, {'question_id': 'fc078635-bcd1-4215-a3b7-cd46dfc8ad8b', 'question-1': '기존 P&O 알고리즘은 어떻게 통제되었지', 'question-2': '기존 P&O 알고리즘은 어떻게 컨트롤되니', 'question_type': 'how', 'question_level': '상', 'answer': '레퍼런스 전압 제어', 'answer_type': '정답경계추출형', 'answer_start': '455', 'answer_end': '465', 'clue': [{'clue_text': '기존에 주로 사용되고 있는 P&O 알고리즘은 레퍼런스 전압으로 제어되기 때문에 복잡하지만, 본 논문에서 제안된 다이렉트 듀티비 제어방법은 제어가 간단하고 저사양 MCU를 사용하기 때문에 제조원가를 낮출 수 있는 장점이 있다', 'clue_start': '118', 'clue_end': '242'}, {'clue_text': '일사량 \\\\( 1,000 \\\\mathrm{W} / \\\\mathrm{m}^{2} \\\\) 상태에서 태양광시뮬레이터를 이용해 레퍼런스 전압 제어에 의한 P&O 알고리즘과 다이렉트 듀티비 제어에 의한 P&O 알고리즘을 적용하여 충전제어기 실험을 진행하였다', 'clue_start': '392', 'clue_end': '526'}]}]\n",
      "<h1>III 결론</h1><p>본 논문에서는 실내의 쾌적 상태(PMV)를 검출하고, 목표 소비 전력 내에서 냉난방 온도, 습도, 풍량을 제어함으로써 에너지를 절감하고 근무자에게 쾌적한 환경을 제공할 수 있도록 스마트 쾌적 제어 알고리즘을 제안하였다.</p><p>시뮬레이션 결과, 열 쾌적 제어에 의한 냉난방제어는 기존의 일반 냉난방기에 비해서 실내의 쾌적도는 그대로 유지한 상태에서 \\( 0.5 \\mathrm{~kW} \\) 의 전력을 절감할 수 있고, 조명제어 알고리즘에 의한 조명제어는 \\( 49.2 \\% \\) 의 조명 개선 효과가 이루어짐을 알 수 있었다.</p><p>시뮬레이션을 통해서 검증된 쾌적 제어 알고리즘을 기존의 냉난방기에 적용할 경우 에너지를 절감할 수 있고, 실내의 쾌적도를 유지할 수 있을 것으로 예상된다.</p>\n",
      "[{'question_id': 'e4145edc-72c9-4097-8f10-1c77ddccfc58', 'question-1': '에너지를 절감하면서도 실내 거주자의 만족감을 확보할 수 있는 냉난방 시스템에 대한 연구가 필요한 이유는 무엇인가?', 'question-2': None, 'question_type': 'what', 'question_level': '상', 'answer': '현재 대부분의 에너지 절감을 위한 냉난방 시스템은 실내 쾌적 상태와는 상관없이 실내 온도만을 검출하여 냉난방 온도를 제어 하고 목표 소비전력을 만족하기 위하여 운영되기 때문에 실내 쾌적도를 확보하기 어려우며, 거주자의 능률 저하의 원인이 되고 있다', 'answer_type': '정답경계추출형', 'answer_start': '386', 'answer_end': '524', 'clue': [{'clue_text': '그러나 현재 대부분의 에너지 절감을 위한 냉난방 시스템은 실내 쾌적 상태와는 상관없이 실내 온도만을 검출하여 냉난방 온도를 제어 하고 목표 소비전력을 만족하기 위하여 운영되기 때문에 실내 쾌적도를 확보하기 어려우며, 거주자의 능률 저하의 원인이 되고 있다', 'clue_start': '382', 'clue_end': '524'}, {'clue_text': '따라서 에너지를 절감하면서도 실내 거주자의 만족감을 확보할 수 있는 냉난방 시스템에 대한 연구가 필요하다', 'clue_start': '532', 'clue_end': '590'}]}, {'question_id': '0110a4c3-b1f4-4071-a0b2-917a7ffda00a', 'question-1': '에너지 절감을 위해 수요전력제어기가 냉난방 시스템에 적용되어야 하는 이유는 무엇인가?', 'question-2': None, 'question_type': 'how', 'question_level': '중', 'answer': '거주용 및 비주거용 건물의 에너지의 \\\\( 50\\\\)\\\\( \\\\sim 60 \\\\% \\\\) 는 실내 열환경(냉난방, 조명)의 조성에 사용되기 때문', 'answer_type': '다지선다형', 'answer_start': '259', 'answer_end': '333', 'clue': [{'clue_text': '특히, 거주용 및 비주거용 건물의 에너지의 \\\\( 50\\\\)\\\\( \\\\sim 60 \\\\% \\\\) 는 실내 열환경(냉난방, 조명)의 조성에 사용되기 때문에 이에 대한 에너지를 절감하기 위하여 수요전력제어기가 냉난방 시스템에 적용되고 있다.', 'clue_start': '255', 'clue_end': '381'}], 'wrong_answer': ['거주용 및 비주거용 건물의 에너지의 \\\\( 10\\\\)\\\\( \\\\sim 60 \\\\% \\\\) 는 실내 열환경(냉난방, 조명)의 조성에 사용되기 때문', '거주용 및 비주거용 건물의 에너지의 \\\\( 20\\\\)\\\\( \\\\sim 60 \\\\% \\\\) 는 실내 열환경(냉난방, 조명)의 조성에 사용되기 때문', '거주용 및 비주거용 건물의 에너지의 \\\\( 30\\\\)\\\\( \\\\sim 60 \\\\% \\\\) 는 실내 열환경(냉난방, 조명)의 조성에 사용되기 때문']}, {'question_id': '314470d6-dc9a-4c9f-85ad-b09492a08595', 'question-1': '건물에서 사용되는 에너지를 절감하고 실내 거주자의 쾌적도를 확보하기 위하여 제안된 알고리즘은 무엇인가?', 'question-2': None, 'question_type': 'how', 'question_level': '중', 'answer': '스마트 쾌적 알고리즘을 제안', 'answer_type': '정답경계추출형', 'answer_start': '648', 'answer_end': '663', 'clue': [{'clue_text': '본 논문에서는 건물에서 사용되는 에너지를 절감하고 실내 거주자의 쾌적도를 확보하기 위하여 스마트 쾌적 알고리즘을 제안하고 실내 쾌적 제어기을 개발하였으며, 실제 운전을 통해서 타당성을 검토하였다', 'clue_start': '598', 'clue_end': '706'}]}]\n",
      "<h1>요 약</h1><p>열 쾌적 제어는 실내 환경의 질을 나타내는 기본 요소로써 건물에서 사용되는 에너지와 거주자의 만족도에 매우 밀접하게 연관되어 있다. 본 논문에서는 실내의 쾌적 상태(Predictive Mean Vote)를 검출하고, 목표 소비 전력 내에서 냉난방 온도, 습도, 풍량을 제어함으로씨 에너지를 절감하고 근무자에게 쾌직한 환경을 제공할 수 있는 스마트 쾌적 제어 알고리즘을 제안하였다. 시뮬레이션 결과, 열 쾌적 제어에 의한 냉난방제어는 기존의 일반 냉난방기에 비해서 실내의 쾌적도는 그대로 유지한 상태에서 \\( 0.5 \\mathrm{~kW} \\) 의 전력을 절감할 수 있고, 조명제어 알고리즘이 적용된 조명 제어에 의해서 \\( 49.2 \\% \\) 의 조명 개선 효과가 이루어짐을 알 수 있었다. 시뮬레이선을 통해서 검증된 쾌적 제어 알고리즘을 기존의 냉난방기에 적용할 경우 퀘적도는 유지하고 에너지는 절감할 수 있을 것으로 예상된다.</p>\n",
      "[{'question_id': 'e4145edc-72c9-4097-8f10-1c77ddccfc58', 'question-1': '에너지를 절감하면서도 실내 거주자의 만족감을 확보할 수 있는 냉난방 시스템에 대한 연구가 필요한 이유는 무엇인가?', 'question-2': None, 'question_type': 'what', 'question_level': '상', 'answer': '현재 대부분의 에너지 절감을 위한 냉난방 시스템은 실내 쾌적 상태와는 상관없이 실내 온도만을 검출하여 냉난방 온도를 제어 하고 목표 소비전력을 만족하기 위하여 운영되기 때문에 실내 쾌적도를 확보하기 어려우며, 거주자의 능률 저하의 원인이 되고 있다', 'answer_type': '정답경계추출형', 'answer_start': '386', 'answer_end': '524', 'clue': [{'clue_text': '그러나 현재 대부분의 에너지 절감을 위한 냉난방 시스템은 실내 쾌적 상태와는 상관없이 실내 온도만을 검출하여 냉난방 온도를 제어 하고 목표 소비전력을 만족하기 위하여 운영되기 때문에 실내 쾌적도를 확보하기 어려우며, 거주자의 능률 저하의 원인이 되고 있다', 'clue_start': '382', 'clue_end': '524'}, {'clue_text': '따라서 에너지를 절감하면서도 실내 거주자의 만족감을 확보할 수 있는 냉난방 시스템에 대한 연구가 필요하다', 'clue_start': '532', 'clue_end': '590'}]}, {'question_id': '0110a4c3-b1f4-4071-a0b2-917a7ffda00a', 'question-1': '에너지 절감을 위해 수요전력제어기가 냉난방 시스템에 적용되어야 하는 이유는 무엇인가?', 'question-2': None, 'question_type': 'how', 'question_level': '중', 'answer': '거주용 및 비주거용 건물의 에너지의 \\\\( 50\\\\)\\\\( \\\\sim 60 \\\\% \\\\) 는 실내 열환경(냉난방, 조명)의 조성에 사용되기 때문', 'answer_type': '다지선다형', 'answer_start': '259', 'answer_end': '333', 'clue': [{'clue_text': '특히, 거주용 및 비주거용 건물의 에너지의 \\\\( 50\\\\)\\\\( \\\\sim 60 \\\\% \\\\) 는 실내 열환경(냉난방, 조명)의 조성에 사용되기 때문에 이에 대한 에너지를 절감하기 위하여 수요전력제어기가 냉난방 시스템에 적용되고 있다.', 'clue_start': '255', 'clue_end': '381'}], 'wrong_answer': ['거주용 및 비주거용 건물의 에너지의 \\\\( 10\\\\)\\\\( \\\\sim 60 \\\\% \\\\) 는 실내 열환경(냉난방, 조명)의 조성에 사용되기 때문', '거주용 및 비주거용 건물의 에너지의 \\\\( 20\\\\)\\\\( \\\\sim 60 \\\\% \\\\) 는 실내 열환경(냉난방, 조명)의 조성에 사용되기 때문', '거주용 및 비주거용 건물의 에너지의 \\\\( 30\\\\)\\\\( \\\\sim 60 \\\\% \\\\) 는 실내 열환경(냉난방, 조명)의 조성에 사용되기 때문']}, {'question_id': '314470d6-dc9a-4c9f-85ad-b09492a08595', 'question-1': '건물에서 사용되는 에너지를 절감하고 실내 거주자의 쾌적도를 확보하기 위하여 제안된 알고리즘은 무엇인가?', 'question-2': None, 'question_type': 'how', 'question_level': '중', 'answer': '스마트 쾌적 알고리즘을 제안', 'answer_type': '정답경계추출형', 'answer_start': '648', 'answer_end': '663', 'clue': [{'clue_text': '본 논문에서는 건물에서 사용되는 에너지를 절감하고 실내 거주자의 쾌적도를 확보하기 위하여 스마트 쾌적 알고리즘을 제안하고 실내 쾌적 제어기을 개발하였으며, 실제 운전을 통해서 타당성을 검토하였다', 'clue_start': '598', 'clue_end': '706'}]}]\n",
      "<h1>Ⅳ. 웨이크업/슬립 프레임워크</h1><h2>1. 데이터처리 프레임워크</h2><p>제시된 하드웨어 아키텍처를 이용한 저전력 신호처리 운용, 특히 타겟 탐지 및 식별을 목적으로 하는 신호처리를 위해서, 본 논문에서는 웨이크업 모듈에서의 초기 탐지 결과에 따라 고성능 신호처리 알고리즘이 필요시 동작하는 소프트웨어 아키텍처 즉, 웨이크업/슬립 프레임워크를 제시한다.</p><p>그림 3은 저전력 신호처리를 수행하는 저전력 웨이크업 모듈의 웨이크업/슬립 프레임워크 동작을 나타내는 상태도이다. 웨이크업 프로세서의 동작 시작과 함께 초기화 상태(Wakeup=0xFF)에서 웨이크업 프로세싱을 위한 초기화를 수행한다. 초기화 완료 후, 장착된 웨이크업 센서의 신호를 처리하여, 타겟 탐지를 시작하고 타겟이 탐지 될 때까지(EVENT_DETECT_FLAG 값이 0 이외의 값으로 바뀜) 웨이크업 프로세싱 상태(Wakeup=0x00)에서 신호처리를 수행한다. 저전력 웨이크업모듈의 신호처리는 리소스가 제한된 프로세서에서 수행되므로, 음향센서는 이동평균을 이용한 에너지탐지알고리즘을 기반으로 신호처리를 수행하여 타겟을 탐지한다. 타겟이 탐지 되면 웨이크업 제어 상태(Wakeup=0x01)에서 동작하고, 프로세서는 고성능 신호처리 모듈의 전원을 켜주고, 음향과 PIR 센서를 고성능 신호처리모듈로 스위칭 하는 웨이크업 기능을 수행한다. 고성능 신호처리 모듈의 전원이 켜지고 난 후, DSP는 초기화를 수행하고 웨이크업 완료인터럽트를 생성하여 웨이크업 프로세서로 보내고, 정밀 타겟 탐지를 시작한다. 정밀 타겟 탐지 신호처리는 필터링, 주파수 변환, 센서 융합 등의 알고리즘을 적용한 탐지 및 식별 등, 저전력 프로세서에서 리소스의 제한으로 수행하기 어려웠던 정밀 신호처리를 수행하고, 웨이크업 프로세서는 고성능 센서 탁지 상태(Wakeup=0x03)에서 고성능 신호처리 모듈의 슬립인터럽트를 기다린다. 고성능 신호처리에 의해 타겟이 탐지되면 DSP는 메인 프로세서로 타겟 탐지 인터럽트를 발생하고, 정밀 신호처리된 타겟 정보를 메인프로세서로 전달하는 과정을 수행한다. 타겟이 미리 정해진 시간 동안 계속해서 탐지되지 않으면 DSP는 슬립 인터럽트를 웨이크업 프로세서로 보내게 되고, 인터럽트 발생 후(DSP_SLEEP_FLAG가 0xFF 로 설정), 웨이크업 프로세서는 슬립 제어 상태(Wakeup=0x0F)에 들어가서 고성능 신호처리 모듈의 전원을 꺼주고 다시 음향과 PIR 센서를 웨이크업 센서모듈로 스위칭 하여 준다. 고성능 신호처리 모듈의 전원이 꺼진 후, 다시 초기화, 웨이크업 프로세싱 등의 과정을 반복하게 된다.</p><h2>2. 웨이크업 프로세싱</h2><p>웨이크업 프로세싱은 웨이크업/슬립 프레임워크에서 저전력 초기 타겟 탐지 및 고성능 모듈 웨이크업을 수행하기위한 신호처리 과정으로 웨이크업 센서모듈에 대한 센서 신호처리 및 센서융합 등의 알고리즘으로 구성된다. 본 논문에서는 아날로그센서인 음향센서를 중심으로 웨이크업 신호처리 알고리즘을 제안하며 초기화, 샘플링, 전처리, 후처리과정의 순서로 수행된다.</p><h3>가. 초기화(Initialization)</h3><p>초기화 과정은 웨이크업 결정을 위한 임계값(threshold)을 정하는 과정으로, 타겟이 존재하지 않는 초기 상태에서 센서 값의 통계적 특성, 즉, 노이즈 오프셋 \\( \\left(\\bar{n}_{o}\\right) \\), 평균 노이즈 에너지 및 표준편차 \\( \\left(\\bar{m}_{n}, \\sigma_{n}\\right) \\) 를 계산하는 과정이다.</p><h3>나. 센서데이터 획득(Sampling)</h3><p>센서데이터획득은 정해진 샘플링시간에 따라 발생하는 ADC 인터럽트에 의해 AD 변환된 센서 신호 \\( (M(n)) \\) 를 획득하는 과정이다.</p><h3>다. 전처리(Preprocessing)</h3><p>(1) Exponential weighted moving average</p><p>\\( M_{b}(0)=\\bar{n}_{o} \\) \\( M_{b}(n)=(1-\\alpha) M_{b}(n-1)+\\alpha M(n) \\)<caption>(1)</caption></p><p>EWMA는 현재의 \\( a \\) 값을 어떻게 정하느냐에 따라서, 신호의 smoothing 정도를 결정하는 것으로, thermal drift와 같이 현재 신호에 더해지는 저주파 노이즈와 기타 주변 환경 변화에 따른 센서 오프셋 변화 등을 보정하는 알고리즘으로 사용가능하다.</p><p>(2) 에너지 계산(Energy Calculation)</p><p>샘플링 한 센서 값에서 EWMA의 결과 값을 빼주고, 절대 값을 취해 현재 샘플에 대한 에너지 값을 구하는 과정으로 수식 (2)와 같다.</p><p>\\( M_{e}(n)=\\left|M(n)-M_{b}(n)\\right| \\)<caption>(2)</caption></p><p>현재 샘플의 에너지 값 계산 후, 현재까지 획득된 샘플들에 대한 평균 에너지 값을 구한다. 평균 에너지는 메모리 사용을 줄이기 위해 이동평균에 의해 계산 하며, 이동평균은 수식 (3)과 같다.</p><p>\\( M_{a v e}(0)=0 \\) \\( M_{\\text {ave }}(n)=M_{\\text {ave }}(n-1)+\\frac{M_{e}(n)-M_{\\text {ave }}(n-1)}{n} \\)<caption>(3)</caption></p><h3>라. 후처리(Postprocessing)</h3><p>후처리 과정은 미리 정해진 샘플의 개수(N)만큼 전처리를 수행한 데이터의 이동평균 에너지 값을 가지고, 웨이크업을 결정하는 과정을 포함한다.</p><p>이동평균 에너지 값 과 타겟 탐지를 위한 임계값을 비교하여 에너지 값이 큰 경우 \\( \\left(M_{a v e}(N)>\\bar{m}_{n}+\\sigma_{n}\\right) \\) 타겟이 존재하는 것으로 결정하고, 타겟이 탐지 될 경우 웨이크업을 수행하며, 타겟이 탐지되지 않을 경우에는 샘플링, 전처리, 후처리의 과정을 지속하게 된다.</p>\n",
      "[{'question_id': 'b89cd46d-c2c4-493f-87e5-48e318d36ff9', 'question-1': 'RF 모듈은 어떤 모듈을 포함하는가?', 'question-2': None, 'question_type': 'what', 'question_level': '하', 'answer': 'TI CC2420으로 이루어진 \\\\( 2.4 \\\\mathrm{GHz} \\\\) 무선 송수신 모듈과 CC1101로 이루어진 \\\\( 400 \\\\mathrm{MHz} \\\\) 무선 송수신 모듈을 포함', 'answer_type': '정답경계추출형', 'answer_start': '609', 'answer_end': '709', 'clue': [{'clue_text': 'RF 모듈은 TI CC2420으로 이루어진 \\\\( 2.4 \\\\mathrm{GHz} \\\\) 무선 송수신 모듈과 CC1101로 이루어진 \\\\( 400 \\\\mathrm{MHz} \\\\) 무선 송수신 모듈을 포함한다.', 'clue_start': '602', 'clue_end': '712'}]}, {'question_id': '507d9a4a-f83e-47fd-b5a9-d1b9be044a77', 'question-1': '고성능 신호처리 모듈은 저전력 센서신호처리 모듈 적용에 어려움이 있던 것들을 적용이 가능하게 만들어졌다. 그러나 이것에도 어려움이 있는데 이는 무엇인가?', 'question-2': None, 'question_type': 'what', 'question_level': '하', 'answer': '에너지 소모가 많아 배터리로 동작하는 유비쿼터스 센서네트워크에 적용하는데 어려움이 있다.', 'answer_type': '정답경계추출형', 'answer_start': '248', 'answer_end': '297', 'clue': [{'clue_text': '고성능 신호처리 모듈은 전용 신호처리 프로세서를 탑재한 센서모듈로, 저전력 센서신호처리 모듈에 적용의 어려움이 있던 주파수 분석, 복합 센서퓨전, 영상처리 둥의 알고리즘 적용은 가능하다. 그러나 에너지 소모가 많아 배터리로 동작하는 유비쿼터스 센서네트워크에 적용하는데 어려움이 있다', 'clue_start': '139', 'clue_end': '296'}]}, {'question_id': '7cb52b28-fa96-43be-98e9-60564721cc63', 'question-1': '하이브리드 센서모듈은 저전력 웨이크업 및 고성능 신호처리 모듈로 구성되며 이 외에는 웨이크업 센서모듈에는 어떤 것들이 장착되는가?', 'question-2': None, 'question_type': 'what', 'question_level': '하', 'answer': '웨이크업 센서모듈에는 음향, 4개의 PIR(Passive InfraRed)센서, 3축 진동센서, 3축 자계 센서가 장착된다.', 'answer_type': '정답경계추출형', 'answer_start': '1037', 'answer_end': '1106', 'clue': [{'clue_text': '하이브리드 센서모듈은 저전력 웨이크업 및 고성능 신호처리 모듈로 구성되며, 웨이크업 센서모듈에는 음향, 4개의 PIR(Passive InfraRed)센서, 3축 진동센서, 3축 자계 센서가 장착된다.', 'clue_start': '995', 'clue_end': '1106'}]}, {'question_id': 'ffedae75-e2ea-4c89-878d-64780e607fd0', 'question-1': '본 연구에서 저전력 및 고성능 센서신호처리의 문제를 보완하기위해 제시한 것이 있다. 이것은 무엇인가?', 'question-2': None, 'question_type': 'what', 'question_level': '하', 'answer': '하이브리드 센서모듈기반 센서노드', 'answer_type': '정답경계추출형', 'answer_start': '420', 'answer_end': '437', 'clue': [{'clue_text': '본 연구에서는 이벤트 기반 타겟 탐지 및 식별을 목적으로 하는 무선센서네트워크 서비스에서 언급된 문제를 해결하기 위해 저전력 및 고성능 센서신호처리를 목적으로 저전력 웨이크업 센서모듈과 고성능 신호처리 모듈로 이루어진 하이브리드 센서모듈기반 센서노드를 제시한다.', 'clue_start': '298', 'clue_end': '444'}]}, {'question_id': 'a3453c1e-3f33-43f7-bf50-89b36332e17e', 'question-1': '기존의 관련 연구에서 저전력 센서모듈의 단점에는 어떤 것이 있는가?', 'question-2': None, 'question_type': 'what', 'question_level': '하', 'answer': '주파수 분석, 영상처리 및 변환 등 복잡한 신호처리 알고리즘의 구현이 어려운 단점이 있다.', 'answer_type': '정답경계추출형', 'answer_start': '88', 'answer_end': '138', 'clue': [{'clue_text': '기존의 관련 연구에서 저전력 센서모듈은 리소스가 제한된 프로세서를 이용하여 저전력 신호처리가 가능하나, 주파수 분석, 영상처리 및 변환 등 복잡한 신호처리 알고리즘의 구현이 어려운 단점이 있다.', 'clue_start': '30', 'clue_end': '138'}]}]\n"
     ]
    }
   ],
   "source": [
    "for k, result in enumerate(bm25_result['retrieval']['documents']):\n",
    "    print(result.content)\n",
    "    print(result.meta.get(\"context_meta\")[\"qas\"])\n",
    "    # if result.content == documents[0].content:\n",
    "    #     print(True)\n",
    "    if k == 5:\n",
    "        break"
   ]
  },
  {
   "cell_type": "markdown",
   "id": "5c672d97-c5b6-453f-88a6-9e000332e7ba",
   "metadata": {},
   "source": [
    "## Huggingface"
   ]
  },
  {
   "cell_type": "markdown",
   "id": "bb3bc318-ba57-4863-b30d-2cd47106dddd",
   "metadata": {},
   "source": [
    "### Default\n",
    "\n",
    "TODO:\n",
    "- `pipeline`에서 add된 component 제거하는 법\n",
    "- 해당 방안을 elegant하게 넣는 방법 찾기:\n",
    "    - > For example, if you use BAAI/bge-large-en-v1.5, you should prefix your query with the following instruction: “Represent this sentence for searching relevant passages:”"
   ]
  },
  {
   "cell_type": "code",
   "execution_count": 11,
   "id": "67a26bab-b0d0-4189-b1cc-e6637aa6a350",
   "metadata": {},
   "outputs": [
    {
     "name": "stdout",
     "output_type": "stream",
     "text": [
      "Sentence embeddings: tensor([[-0.0353, -0.0043, -0.0646,  ..., -0.0182, -0.0646, -0.0215],\n",
      "        [-0.0352, -0.0018, -0.0519,  ..., -0.0066, -0.0633, -0.0185]])\n"
     ]
    }
   ],
   "source": [
    "from transformers import AutoTokenizer, AutoModel\n",
    "import torch\n",
    "# Sentences we want sentence embeddings for\n",
    "sentences = [\"样例数据-1\", \"样例数据-2\"]\n",
    "\n",
    "# Load model from HuggingFace Hub\n",
    "tokenizer = AutoTokenizer.from_pretrained(\"BAAI/bge-m3\")\n",
    "model = AutoModel.from_pretrained(\"BAAI/bge-m3\")\n",
    "model.eval()\n",
    "\n",
    "# Tokenize sentences\n",
    "encoded_input = tokenizer(sentences, padding=True, truncation=True, return_tensors='pt')\n",
    "# for s2p(short query to long passage) retrieval task, add an instruction to query (not add instruction for passages)\n",
    "# encoded_input = tokenizer([instruction + q for q in queries], padding=True, truncation=True, return_tensors='pt')\n",
    "\n",
    "# Compute token embeddings\n",
    "with torch.no_grad():\n",
    "    model_output = model(**encoded_input)\n",
    "    # Perform pooling. In this case, cls pooling.\n",
    "    sentence_embeddings = model_output[0][:, 0]\n",
    "\n",
    "# normalize embeddings\n",
    "sentence_embeddings = torch.nn.functional.normalize(sentence_embeddings, p=2, dim=1)\n",
    "print(\"Sentence embeddings:\", sentence_embeddings)"
   ]
  },
  {
   "cell_type": "code",
   "execution_count": 2,
   "id": "af7d4471-46c1-4e2c-8fb0-2283c37db5ca",
   "metadata": {
    "tags": []
   },
   "outputs": [
    {
     "data": {
      "text/plain": [
       "18270"
      ]
     },
     "execution_count": 2,
     "metadata": {},
     "output_type": "execute_result"
    }
   ],
   "source": [
    "from haystack.document_stores.in_memory import InMemoryDocumentStore\n",
    "\n",
    "document_store = InMemoryDocumentStore()\n",
    "document_store.write_documents(documents)"
   ]
  },
  {
   "cell_type": "code",
   "execution_count": null,
   "id": "eb39e1d5-ac98-41ff-9a32-c6c89f03e74c",
   "metadata": {
    "tags": []
   },
   "outputs": [
    {
     "name": "stderr",
     "output_type": "stream",
     "text": [
      "Batches:   0%|                                                                                 | 0/571 [00:00<?, ?it/s]"
     ]
    }
   ],
   "source": [
    "from haystack import Pipeline\n",
    "from haystack.document_stores.in_memory import InMemoryDocumentStore\n",
    "from haystack.components.embedders import SentenceTransformersTextEmbedder, SentenceTransformersDocumentEmbedder\n",
    "from haystack.components.retrievers.in_memory import InMemoryEmbeddingRetriever\n",
    "from haystack.utils import ComponentDevice\n",
    "\n",
    "document_store = InMemoryDocumentStore(embedding_similarity_function=\"cosine\")\n",
    "\n",
    "device = ComponentDevice.from_str(\"cpu\")\n",
    "\n",
    "text_embedder = SentenceTransformersTextEmbedder(\n",
    "\tmodel=\"BAAI/bge-m3\",\n",
    "    device=device)\n",
    "\n",
    "document_embedder = SentenceTransformersDocumentEmbedder(\n",
    "\tmodel=\"BAAI/bge-m3\", device=device)\n",
    "document_embedder.warm_up()\n",
    "\n",
    "documents_with_embeddings = document_embedder.run(documents)[\"documents\"]\n",
    "document_store.write_documents(documents_with_embeddings)\n",
    "\n",
    "query_pipeline = Pipeline()\n",
    "# query_pipeline.add_component(\"text_embedder\", SentenceTransformersTextEmbedder())\n",
    "query_pipeline.add_component(\"text_embedder\", text_embedder)\n",
    "query_pipeline.add_component(\"retriever\", InMemoryEmbeddingRetriever(document_store=document_store))\n",
    "query_pipeline.connect(\"text_embedder.embedding\", \"retriever.query_embedding\")"
   ]
  },
  {
   "cell_type": "code",
   "execution_count": 93,
   "id": "056b5198-1c8a-4aa4-b92f-100c6b6354a1",
   "metadata": {
    "tags": []
   },
   "outputs": [
    {
     "name": "stderr",
     "output_type": "stream",
     "text": [
      "Batches: 100%|███████████████████████████████████████████████████████████████████████████| 1/1 [00:00<00:00,  5.35it/s]\n"
     ]
    }
   ],
   "source": [
    "query = documents[1].meta[\"context_meta\"]['qas'][0]['question-1']\n",
    "print(query)\n",
    "result = query_pipeline.run({\"text_embedder\": {\"text\": query}})"
   ]
  },
  {
   "cell_type": "code",
   "execution_count": 105,
   "id": "ac279eac-4229-4f69-8de9-c744c77600d3",
   "metadata": {
    "tags": []
   },
   "outputs": [
    {
     "name": "stdout",
     "output_type": "stream",
     "text": [
      "수심 약 \\( 7 \\mathrm{~m} \\) 까지 음속이 양(+)의 기울기를 나타내는 것의 이유는 어떻게 돼?\n",
      "9a3c98dd-7da7-40d0-be75-23666341298d\n",
      "D-4 정점의 표충에서 급격한 음속의 감소로 인해\n"
     ]
    },
    {
     "data": {
      "text/plain": [
       "'D-4 정점의 표충에서 급격한 음속의 감소로 인해 수심 약 \\\\( 7 \\\\mathrm{~m} \\\\) 까지 음속이 양(+)의 기울기를 나타내고 있다.'"
      ]
     },
     "execution_count": 105,
     "metadata": {},
     "output_type": "execute_result"
    }
   ],
   "source": [
    "print(query)\n",
    "print(documents[1].meta[\"context_meta\"][\"context_id\"])\n",
    "print(documents[1].meta[\"context_meta\"]['qas'][0][\"answer\"])\n",
    "documents[1].meta[\"context_meta\"]['qas'][0]['clue'][0]['clue_text']"
   ]
  },
  {
   "cell_type": "code",
   "execution_count": 94,
   "id": "62a45eff-4085-4d43-b9ac-d8b20efe4ec4",
   "metadata": {
    "collapsed": true,
    "jupyter": {
     "outputs_hidden": true
    },
    "tags": []
   },
   "outputs": [
    {
     "name": "stdout",
     "output_type": "stream",
     "text": [
      "0.7973745490994785\n",
      "<h1>IV. 실 험</h1><p>본 연구에서 개발한 수중 음향 모뎀의 성능을 검증하기 위해 그림 6에 나타낸 경기도 양평군 양서면 양수리에 위치한 북한강 수역에서 실증 실험을 수행하였다. 해당 위치에서의 수심은 약 \\( 7 \\sim 8 \\mathrm{~m} \\), 유속은 \\( 0.1 \\mathrm{~m} / \\mathrm{s} \\)이었다.</p><p>그림 7에 나타낸 바와 같이 선박을 이용하여 거리를 늘려가면서 각각의 거리에 대해 전송 속도를 변경하는 방법으로 실험을 진행하였고, 선박에 배치한 송신 모뎀에서 미리 지정된 데이터를 주기적으로 송신하고 선착장 인근에 위치한 수신 모뎀에서 수신한 데이터를 그림 8에 나타낸 컴퓨터 모니터링 화면을 통해 확인하였다. 각 실험 환경에서 비트오율(bit error rate, BER)을 획득하기 위해 128 비트의 정보 데이터를 포함하고 있는 프레임을 100 회 반복 전송한 후 수신한 데이터의 오류율을 계산하였다.</p><p>실험을 통해 획득한 비트오율 측정 결과를 표 3 과 표 4에 나타내었다.</p><p>표 3은 \\( 50 \\mathrm{m}, 100 \\mathrm{m}, 150 \\mathrm{m}, 200 \\mathrm{m}, 250 \\mathrm{m} \\) 의 거리에서 각각 전송 속도를 \\( 50 \\mathrm{bps}, 100 \\mathrm{bps}, 150 \\mathrm{bps}, 200 \\) \\( \\mathrm{bps} \\) 로 변경하면서 유속과 동일하게 선박이 떠내려가며 실측된 비트오율 결과이다. 전송 거리가 짧거나 전송 속도가 낮을 때에는 거의 오류 없는 통신이 가능하였으나, 거리 및 속도가 증가함에 따라 비트오율이 서서히 증가하였다. 한편, \\( 200 \\mathrm{m} \\) 전송 거리에서는 다른 전송 거리와는 달리 매우 낮은 비트오율을 획득하였다. 이는, \\( 200 \\mathrm{m} \\)가 강의 중간 지점에 해당하고 이 지점에서 수심이 가장 깊어 다중경로에 의한 수신 성능 저하가 덜 발생한 것으로 분석할 수 있다.</p>\n",
      "****************************************************************************************************\n",
      "0.7863307832101382\n",
      "<h1>IV. 실 험</h1><p>실험에 사용한 적외선 스테레오 카메라는 7um - 14 \\( \\mathrm{um} \\) 파장영역을 검출하며 \\( 384 \\times 288 \\) 해상도, 초점거리는 \\( 25 \\mathrm{~mm} \\), 화각은 \\( 30^{\\circ} \\times 23^{\\circ}, 50 \\mathrm{hz} \\) 를 가진다. Base line은 \\( 300 \\mathrm{~mm} \\) 로 설정하였다. 그림 8은 적외선 스테레오 카메라를 구축한 모습이다. 이동체의 속도는 3차원 궤적 \\( (\\mathrm{x}, \\mathrm{y}, \\mathrm{z}) \\) 측정기로 평균 \\( 172 \\mathrm{~m} / \\mathrm{s} \\) 속도를 가진다.</p><h2>1. 실험 결과</h2><p>적외선카메라의 좌측카메라를 기준으로 \\( 83 \\mathrm{~m} \\) 거리에 떨어져있는 소형 이동체를 추적해서 왼쪽으로 \\( 5 \\mathrm{~m} \\) 가량 비껴나가는 비디오 데이터를 여러 차례 촬영하였다. 그림 9 는 실험공간으로. 3 차원 궤적 \\( (x, y, z) \\) 측정기는 \\( 52 \\mathrm{~m} \\sim 30 \\mathrm{~m} \\) 구간을 측정하였으며 기준을 적외선 좌측 카메라로 설정을 하였다. 즉 3차원측정기와 스테레오 정합 알고리즘은 동일한 기준을 가지고 있으므로 실제 물체의 거리의 Z축만 비교하여도 오차율을 구할 수 있다.</p><p>그림 10은 실험한 관측데이터를 그래프를 사용하여 나타내었다. 3차원 궤적 \\( (\\mathrm{x}, \\mathrm{y}, \\mathrm{z}) \\) 측정기는 약 \\( 52 \\mathrm{~m} \\sim 30 \\mathrm{~m} \\) 구간을 \\( 2 \\mathrm{msec} \\) 단위로 측량하였고 적외선 카메라는 \\( 83 \\mathrm{~m} \\sim 10 \\mathrm{~m} \\) 측정구간 중 3 차원 궤적 \\( (\\mathrm{x}, \\mathrm{y}, \\mathrm{z}) \\) 측정기의 \\( 52 \\mathrm{~m} \\sim 30 \\mathrm{~m} \\) 구간은 8 프레임이 그 안에 포함이 되었다.</p><p>\\( \\mathrm{Y} \\) 축은 이동체의 실제 거리를 나타내며 \\( \\mathrm{X} \\) 축은 8 프레임의 시간변화에 따라 나타내었다. 계산된 적외선 스테레오 정합거리의 그래프에서 중간에 삭제된 부분은 프레임 밀림현상으로 관측데이터가 소실된 부분이다.</p><p>3 차원 궤적 \\( (\\mathrm{x}, \\mathrm{y}, \\mathrm{z}) \\) 측정기는 프레임에 따라 일정한 직선 그래프로 ground truth 역할을 한다. 신뢰 구간에서 총 오차율은 \\( 9.68 \\% \\) 가지며 jitter가 발생하는 적외선 카메라에서도 거리측정이 가능함을 보였다. 스테레오 정합특성상 먼 거리 구간에서 오차가 더 발생하는 것을 보여준다.</p><h2>2. 실험결과 분석 및 향후 할 일</h2><p>여러 차례에 걸친 비디오 데이터를 이용한 실험을 통하여 본 논문에서 제안한 적외선 스테레오 카메라를 이용한 고온/소형 이동체의 거리 측정 기술은 그 가능성을 보여주었다. \\( 9.68 \\% \\) 정도의 거리측정 오차는 실험과정에서 포함된 몇 가지 기계적인 오류가 누적된 것으로 분석할 수 있다. 우선, 좌우 스테레오 적외선 카메라를 취득하는 과정에서 적외선 카메라의 특성상 좌우 스테레오 카메라의 정확한 동기(synchronization)가 불가능하여 trigger 신호를 생성하여 좌우 카메라의 프레임을 맞추게 된다.</p><p>이로 인하여 연속된 모든 프레임에서 올바른 실험결과를 확인할 수 없었으며, 오류가 다소 커진 경향이 발생하였다. 또한 적외선 카메라의 고유의 문제로서 jittering이 고속 촬영시 크게 영향을 미친다는 점이다. 즉, 50 분의 1 초마다 정확하게 50 프레임을 1 초 동안 촬영하는 것이 아니라, 프레임간의 시간 간격 및 프레임 개수가 \\( 10 \\% \\) 정도 차이가 발생한다. 이 때문에, 전기적으로 동기가 이루어지지 않은 3 차원 궤적 \\( (x, y, z) \\) 측정기의 공간 거리와 스테레오 정합에 의하여 측정한 공간거리가 다른 시간일 수 있게 된다. 특히 이러한 문제는 \\( 170 \\mathrm{~m} / \\mathrm{s} \\) 이상으로 날아가는 고속 이동체의 경우에 10 \\( \\mathrm{msec} \\) 차이에 대해서도 수 미터의 오류를 발생시키기 때문에, 정확한 실험결과를 도출하는데 어려움을 주고 있다.</p><p>향후 연구에서는 적외선 카메라의 jittering에 대한 확률적 모델을 활용하여 오류를 보정하면서 더욱 정확하게 거리를 측정하는 연구개발이 필요하다. 아울러, 매우 빠르고 고온/소형 이동체에 대한 검출 기술 및 추적 기술을 개발하고, 적외선 카메라에 대한 스테레오 정합 알고리즘을 최적화할 필요가 있다.</p>\n",
      "****************************************************************************************************\n",
      "0.7789304786295292\n",
      "<p>그림 \\( 7 \\)은 속도 검출을 위해 구현된 함수 중 일부를 나타낸 것으로 시스템이 경고모드로 동작하고 있는 경우를 나타낸 것이다. 함수에서 \\( n, m \\)은 데이터의 유효성을 검사하기 위한 것으로 과거의 데이터를 매개 변수로 \\( P(D) \\) 함수를 이용하여 추세예측 값을 구하고, 현재의 거리데이터(D)가 예측되는 범위 \\( (n, m) \\) 내에 있는지를 검사하는 것으로 만약 현재의 거리 데이터가 범위를 벗어나면 속도 계산에서 현재의 데이터를 제외시킨다. 시스템이 차량의 속도와 거리를 사용자에게 송신하는 경우는 차량이 정해진 거리이내로 진입했고 그때의 속도가 제한속도 이상이 되는 경우이다.</p><p>구현된 시스템이 속도 계신을 수행하기 위한 전체적인 순서를 그림 \\( 8 \\)에 상태도로 간략히 나타내었다. 그림에서 알 수 있듯이 알고리즘의 상태는 기본적으로 다음 4가지 상태를 가지게 된다.</p><p>S\\( 1 \\) : 초기화 상태</p><p>S\\( 2 \\) : 초기 데이터 수집 \\( (p \\) 개 \\( ) \\)</p><p>S\\( 3 \\) : 속도 연산을 위한 데이터 수집 ( \\( q \\) 개)</p><p>S \\(4 \\) : 속도 계산</p><p>S1은 기존에 저장된 데이터들과 변수들을 초기화시켜 처음부터 나시 데이터를 수집하기 위한 상태로서, S\\( 1 \\) 상태에서 데이터가 하나 입력되면 S\\( 2 \\) 상태로 이동한다. S\\( 2 \\) 상태에서는 유효하지 않은 데이터가 하나라도 들어오면 S\\( 1 \\) 상태로 이동하고, 수집된 데이터의 수가 \\( p \\)개 이상이 되면 S\\( 3 \\)로 이동한다. S\\( 3 \\)에서는 속도 연산에 필요한 \\( q \\)개의 데이터를 수집할 때까지 데이터를 수집하며, 만약 중간에 유효하지 않은 데이터가 연속해서 \\( e \\)개 이상 입력되면 S\\(1 \\) 상태로 이동한다. S \\(4 \\) 상태에서는 \\( q \\)개의 데이터를 이용하여 속도 계산을 수행하며, 만약 데이터 수집 중 유효하지 않은 데이터가 \\( e \\)개 이상 수신되면 S\\( 1 \\) 상태로 이동하고, 알고리즘에 의해 정상적으로 속도가 연산되면 계산된 속도와 거리 데이터를 출력하고 다음 차량의 속도 연산을 위해 S\\( 1 \\) 상태로 이동한다.</p><p>속도 연산을 위한 S\\(4 \\) 상태에서는 슬라이딩 원도우 (Sliding Window) 기법을 이용하여 속도를 계산하게 된다. 즉, 적정 데이터 수가 수집되면 속도 계산을 수행하고 다시 새로운 데이터가 수신되면 원도우를 옆으로 이동하여 새로운 데이터를 포함하여 속도를 재 계산하게 된다.</p>\n",
      "****************************************************************************************************\n",
      "0.7777256895184574\n",
      "<h1>IV. 결 론</h1><p>서해는 수심이 비교적 낮아 수온이 기온에 영향을 많이 받으므로 음속의 수직분포가 계절변동에 크케 변화하는 특성을 보인다. 수직음속분포의 변화는 음과 전달 경로에 영향을 미치게 되어 수중 통신 채널의 변화를 초래한다. 본 논문에서는 서해 백령도 남방해역의 최근 10년간 수온, 염분데이터를 가지고 각 계절의 평균음속분포를 구하였으며 이를 가지고 고유음선모델에 적용하는 방법으로 수중채널을 추정하였다. 송신기 수심 \\( 15 \\mathrm{~m} \\), 수신기 수심 \\( 10 \\mathrm{~m} \\)로 두고 \\( 1 \\mathrm{~km} \\) 거리에서의 통신을 모의 하였으며 잔향음의 영향을 줄이기 위해 시역전 방법을 적용하였다. 가을철의 경우 혼합층이 발달함에 따라 표층에서 음파채널이 형성되었으며 그로인해 상대적으로 수신강도가 센 직접파가 수신되었으며 비교적 잔향음의 영향을 덜 받는 것을 확인하였다. 여름철의 경우 표층에서 중층까지 급격한 수온약층의 형성으로 표층에서의 음파는 대부분 해저면 방향으로 굴절되며 그로인해 많은 잔향음들이 수신되었다. 잔향음들은 그것들의 상호작용에 의해 신호의 인접심볼간섬(ISI) 현상을 발생시키며 주파수 선택성을 보인다. 여름철 환경에 채널효과를 보상하여 수신하였더니 잔향음의 영향이 감소되는 것을 확인 하였으며 이를 통해 여름철과 가을철 표층에서의 통신성능을 비교하였다. 그 결과 여름철에 비해 대략 \\( 15 \\mathrm{~dB} \\)정도의 신호대 잡음비 이득을 볼 수 있다는 것은 확인하였다.</p>\n",
      "****************************************************************************************************\n",
      "0.770723345177128\n",
      "<h1>Ⅲ. 실험결과</h1><p>그림 7은 센서통합히터의 전기적 성능을 검사하는 성능검사기이다. 제품을 지그판에 안착하고 지그판을 성능검사기 챔버안에 넣는다. 시작 버튼을 눌러 바이메탈과 저항검사를 실시한다. 바이메탈은 \\( 7 \\pm 4.5^{\\circ} \\mathrm{C} \\) 에서 On, \\(24 \\pm 3.5^{\\circ} \\mathrm{C} \\) 에서 Off 동작을 수행한다. 저항은 \\( 2.5^{\\circ} \\mathrm{C} \\) 에서 \\( 4.5 \\Omega \\sim 5.8 \\Omega, 25{ }^{\\circ} \\mathrm{C} \\) 에서 \\( 3.8 \\Omega \\sim 4.8 \\Omega \\), 이 때 전류 \\( 4 \\sim 10 \\mathrm{A} \\) 범위, 전압 \\( 28.6 \\mathrm{V} \\) 에서 동작해야 한다. 성능검사 공정화면에 전기적 시험규격을 입력하면, 부품에 문제가 발생하였을 때, 판넬에 빨간불이 들어온다.</p><p>표 2 는 저온유동성 시험기를 이용하여 센서통합 연료히터에서 연료필터의 동작조건과 측정된 최대 온도 데이터를 나타낸다.</p><p>그림 8은 시간에 따른 (a)센서통합히터의 전류와 전압 변화이고, (b) 헤드부와 히터의 온도특성을 나타낸다.</p><p>표 3은 290 초 후 최대 전류 \\( 19.57 \\mathrm{A} \\), 최대 가열 전력 \\( 251.9 \\mathrm{W} \\) 에서 센서통연료히터의 필터가 원활한 구동을 시작하고 온도변화를 시험한 결과이다.</p><p>그림 9는 경유공급압력 \\( 3.4 \\mathrm{kgf} / \\mathrm{cm}^{2} \\), 연료공급량 \\( 60 \\mathrm{l} / \\mathrm{H} \\), 인가전압, \\( 13 V_{d c} \\) 에서 최대전류 \\( 20.26 \\mathrm{A} \\) 및 최대소비전력 \\( 263.9 \\mathrm{W} \\) 인 블록히터에 대해 바이메탈을 동작시키고, 시간변화에 따른 전류, 전압 및 전력의 변화를 나타낸다. 세로축은 온도와 전력, 가로축은 시간변화이다.</p><p><table border><caption>표 3. 필터의 온도 변화</caption><tbody><tr><td>Test time</td><td></td><td>\\( 25 \\mathrm{s} \\)</td><td>\\( 200 \\mathrm{s} \\)</td><td>\\( 225 \\mathrm{s} \\)</td><td>\\( 250 \\mathrm{s} \\)</td><td>\\( 275 \\mathrm{s} \\)</td><td>\\( 300 \\mathrm{s} \\)</td></tr><tr><td rowspan=4>Test Temperature \\( \\left[{ }^{\\circ} \\mathrm{C}\\right] \\)</td><td>Inlet</td><td>-20.6</td><td>-20.4</td><td>-20.4</td><td>-20.2</td><td>-20.2</td><td>-19.9</td></tr><tr><td>Outlet</td><td>-20.6</td><td>-18.1</td><td>-17.0</td><td>-16.0</td><td>-14.8</td><td>-11.4</td></tr><tr><td>Head</td><td>-20.5</td><td>-0.6</td><td>3.2</td><td>6</td><td>8.5</td><td>10.5</td></tr><tr><td>Heater</td><td>-20.1</td><td>-2.2</td><td>0.7</td><td>3.4</td><td>6</td><td>8</td></tr></tbody></table></p>\n",
      "****************************************************************************************************\n",
      "0.7693788826371691\n",
      "<h1>IV. 모의실험</h1><p>본 장에서는 임의의 환경 내에서의 모의 실험을 통해 본 논문에서 제시한 두 개 센서 항적 추적 어뢰의 성능을 실험적으로 고찰한다. 어뢰의 초기 위치는 \\( (0 \\mathrm{~m}, 0 \\mathrm{~m}) \\)이고, 수상함 표직은 초기 위치 \\( (3000 \\mathrm{~m}, 0 \\mathrm{~m}) \\)에서 공격각에 따른 방향으로 움직인다. 입수 거리는 포직과 표적 후면의 어뢰 목표 항적 압수 지점과의 거리를 의미하며, 항적 축소비에 의해 결정된다. 항적 축소비는 항적 접촉 최대 가능 거리 대비 입수 거리의 비율이다. 공격각은 어뢰의 초기 위치와 표적의 초기 위치를 지나는 선을 기준으로하여 표적 진행 방향까지의 시계 방향 각도를 의미한다. 그림 9는 공격각이 약 30도인 방향으로 표적이 운동하는 예이다. 그림 9에서 \\( c_{max} \\)는 항적 접촉 최대 가능거리를 나타내며, \\( c\\)는 항적 축소비에 따른 입수 거리를 나타낸다. 또한 본 실험에서는 어뢰가 경보 거리 내에 들어오게 되면 표적은 회피 기동 밎 음향 대항 수단을 사용한다고 가정하였다. 어뢰가 경보 거리 내에 들어오게 되면 침로를 변경함과 동시에 부유식 기만기 4기를 발사한다. 회피 침로와 기만기 투하 방위는 어뢰 접촉 방위에 따라 정해진다. 어뢰 및 표적의 기본적인 세부 파라메터 항목은 표 1과 같다고 가정한다.</p><table border><caption>표 1. 기본 파라메터</caption><tbody><tr><td>변수명</td><td>변수값</td></tr><tr><td>어뢰 속도</td><td>\\(35 \\mathrm{~knot}\\)</td></tr><tr><td>항적 접촉 최대 가능 거리</td><td>\\(4500 \\mathrm{~m}\\)</td></tr><tr><td>항적이 퍼지는 각도</td><td>\\(2 ^{\\circ}\\)</td></tr><tr><td>배터리 수명</td><td>\\(20 \\mathrm{~min}\\)</td></tr><tr><td>탐색 형태</td><td>두 개 센서 탐색</td></tr><tr><td>선회 각속도</td><td>\\( 8 ^{\\circ} / \\mathrm{sec} \\)</td></tr><tr><td>재탐색 어뢰 속도\\( /\\) 재탐색 선회 각속도</td><td>\\(40 \\mathrm{~knot} / 6^{\\circ} / \\mathrm{sec} \\)</td></tr><tr><td>표적 속도</td><td>\\(25 \\mathrm{~knot} \\)</td></tr><tr><td>표적 제원(길이 \\( \\times\\) 폭 \\( \\times\\) 높이)</td><td>\\(100 \\times 20 \\times 5 \\mathrm{~m} \\)</td></tr><tr><td>표적 속도 오차</td><td>\\(5 \\mathrm{~knot} \\)</td></tr><tr><td>공격각 오차</td><td>\\(5 ^{\\circ} \\)</td></tr></tbody></table><p>본 논문의 상황은 초기 발사각 계산 시 사용회는 TMA를 통해 추정된 표적의 속도와 진행 방향이 오차를 가질 수 있는 랜덤 프로세스 상황이다. Monte-Carlo 실험은 랜덤 프로세스 환경에서 제안되는 알고리즘의 검증을 위해 사용되는 통상적인 실험 방법이다. 본 논문에서는 표적의 진행 방향과 공격각을 랜덤 변수로 하는 Monte-Carlo 실험을 통해서 어뢰의 탐색 성공률 \\( (P_{S}) \\), 평균 탐색 시간 \\( (t_{a}) \\)을 구하고, 이 값을 통해 어뢰의 성능을 평가하였다. 식 (5)의 \\( \\text{sucess(i)} \\)는 탐색 성공 여부로서 어뢰가 표적 근방 \\( 100 \\mathrm{~m} \\) 이내로 접근한 경우 탐색 성공으로 간주되어 그 값이 1이 되며, 실패할 경우는 0이 된다. 식 (6)의 \\( \\text{sucess}_{\\text{name}} (i) \\)는 탐색 성공까지 걸린 시간을 의미한다. 두 식에서의 \\( m \\)은 Monte-Carlo 신험 회수를 의미하며, 본 실험에서는 100회의 반복 실험을 통해 성능지수를 계산하였다.</p><p>탐색 성공률\\( (P_{s})=\\frac{1}{m} \\sum \\limits_{i=1}^{m} \\text{sucess(i)} \\times 100 \\)<caption>(5)</caption></p><p>평균 탐색 시간 \\( (t_{a})=\\frac{1}{m} \\sum \\limits_{i=1}^{m} \\text{sucess}_{\\text{name}} (i) \\)<caption>(6)</caption></p>\n",
      "****************************************************************************************************\n"
     ]
    }
   ],
   "source": [
    "for i, item in enumerate(result['retriever']['documents']):\n",
    "    print(item.score)\n",
    "    print(item.content)\n",
    "    print(\"*\"*100)\n",
    "    if i == 5:\n",
    "        break"
   ]
  },
  {
   "cell_type": "markdown",
   "id": "f6122d56-24dc-44df-ad3e-c8c6a4b58e6c",
   "metadata": {
    "tags": []
   },
   "source": [
    "### KorDPR\n",
    "\n",
    "KorDPR 모델이 `BertModel` 인데 과연 호출이 가능할지?"
   ]
  },
  {
   "cell_type": "code",
   "execution_count": 46,
   "id": "839ebfa8-d935-4c41-895f-b9e1b7e47160",
   "metadata": {
    "collapsed": true,
    "jupyter": {
     "outputs_hidden": true
    },
    "tags": []
   },
   "outputs": [
    {
     "name": "stderr",
     "output_type": "stream",
     "text": [
      "WARNING:sentence_transformers.SentenceTransformer:No sentence-transformers model found with name /home/inhyeok/llms/models/kordpr-context-encocder/. Creating a new one with MEAN pooling.\n"
     ]
    },
    {
     "ename": "OSError",
     "evalue": "Can't load tokenizer for '/home/inhyeok/llms/models/kordpr-context-encocder/'. If you were trying to load it from 'https://huggingface.co/models', make sure you don't have a local directory with the same name. Otherwise, make sure '/home/inhyeok/llms/models/kordpr-context-encocder/' is the correct path to a directory containing all relevant files for a BertTokenizerFast tokenizer.",
     "output_type": "error",
     "traceback": [
      "\u001b[0;31m---------------------------------------------------------------------------\u001b[0m",
      "\u001b[0;31mOSError\u001b[0m                                   Traceback (most recent call last)",
      "Cell \u001b[0;32mIn[46], line 12\u001b[0m\n\u001b[1;32m      8\u001b[0m document_embedder \u001b[38;5;241m=\u001b[39m SentenceTransformersDocumentEmbedder(\n\u001b[1;32m      9\u001b[0m \tmodel\u001b[38;5;241m=\u001b[39m\u001b[38;5;124m\"\u001b[39m\u001b[38;5;124m/home/inhyeok/llms/models/kordpr-context-encocder/\u001b[39m\u001b[38;5;124m\"\u001b[39m)\n\u001b[1;32m     10\u001b[0m text_embedder \u001b[38;5;241m=\u001b[39m SentenceTransformersTextEmbedder(\n\u001b[1;32m     11\u001b[0m \tmodel\u001b[38;5;241m=\u001b[39m\u001b[38;5;124m\"\u001b[39m\u001b[38;5;124m/home/inhyeok/llms/models/kordpr-question-encocder/\u001b[39m\u001b[38;5;124m\"\u001b[39m)\n\u001b[0;32m---> 12\u001b[0m \u001b[43mdocument_embedder\u001b[49m\u001b[38;5;241;43m.\u001b[39;49m\u001b[43mwarm_up\u001b[49m\u001b[43m(\u001b[49m\u001b[43m)\u001b[49m\n\u001b[1;32m     14\u001b[0m documents_with_embeddings \u001b[38;5;241m=\u001b[39m document_embedder\u001b[38;5;241m.\u001b[39mrun(documents)[\u001b[38;5;124m\"\u001b[39m\u001b[38;5;124mdocuments\u001b[39m\u001b[38;5;124m\"\u001b[39m]\n\u001b[1;32m     15\u001b[0m document_store\u001b[38;5;241m.\u001b[39mwrite_documents(documents_with_embeddings)\n",
      "File \u001b[0;32m/opt/conda/envs/haystack/lib/python3.10/site-packages/haystack/components/embedders/sentence_transformers_document_embedder.py:111\u001b[0m, in \u001b[0;36mSentenceTransformersDocumentEmbedder.warm_up\u001b[0;34m(self)\u001b[0m\n\u001b[1;32m    107\u001b[0m \u001b[38;5;250m\u001b[39m\u001b[38;5;124;03m\"\"\"\u001b[39;00m\n\u001b[1;32m    108\u001b[0m \u001b[38;5;124;03mLoad the embedding backend.\u001b[39;00m\n\u001b[1;32m    109\u001b[0m \u001b[38;5;124;03m\"\"\"\u001b[39;00m\n\u001b[1;32m    110\u001b[0m \u001b[38;5;28;01mif\u001b[39;00m \u001b[38;5;129;01mnot\u001b[39;00m \u001b[38;5;28mhasattr\u001b[39m(\u001b[38;5;28mself\u001b[39m, \u001b[38;5;124m\"\u001b[39m\u001b[38;5;124membedding_backend\u001b[39m\u001b[38;5;124m\"\u001b[39m):\n\u001b[0;32m--> 111\u001b[0m     \u001b[38;5;28mself\u001b[39m\u001b[38;5;241m.\u001b[39membedding_backend \u001b[38;5;241m=\u001b[39m \u001b[43m_SentenceTransformersEmbeddingBackendFactory\u001b[49m\u001b[38;5;241;43m.\u001b[39;49m\u001b[43mget_embedding_backend\u001b[49m\u001b[43m(\u001b[49m\n\u001b[1;32m    112\u001b[0m \u001b[43m        \u001b[49m\u001b[43mmodel\u001b[49m\u001b[38;5;241;43m=\u001b[39;49m\u001b[38;5;28;43mself\u001b[39;49m\u001b[38;5;241;43m.\u001b[39;49m\u001b[43mmodel\u001b[49m\u001b[43m,\u001b[49m\u001b[43m \u001b[49m\u001b[43mdevice\u001b[49m\u001b[38;5;241;43m=\u001b[39;49m\u001b[38;5;28;43mself\u001b[39;49m\u001b[38;5;241;43m.\u001b[39;49m\u001b[43mdevice\u001b[49m\u001b[38;5;241;43m.\u001b[39;49m\u001b[43mto_torch_str\u001b[49m\u001b[43m(\u001b[49m\u001b[43m)\u001b[49m\u001b[43m,\u001b[49m\u001b[43m \u001b[49m\u001b[43mauth_token\u001b[49m\u001b[38;5;241;43m=\u001b[39;49m\u001b[38;5;28;43mself\u001b[39;49m\u001b[38;5;241;43m.\u001b[39;49m\u001b[43mtoken\u001b[49m\n\u001b[1;32m    113\u001b[0m \u001b[43m    \u001b[49m\u001b[43m)\u001b[49m\n",
      "File \u001b[0;32m/opt/conda/envs/haystack/lib/python3.10/site-packages/haystack/components/embedders/backends/sentence_transformers_backend.py:23\u001b[0m, in \u001b[0;36m_SentenceTransformersEmbeddingBackendFactory.get_embedding_backend\u001b[0;34m(model, device, auth_token)\u001b[0m\n\u001b[1;32m     21\u001b[0m \u001b[38;5;28;01mif\u001b[39;00m embedding_backend_id \u001b[38;5;129;01min\u001b[39;00m _SentenceTransformersEmbeddingBackendFactory\u001b[38;5;241m.\u001b[39m_instances:\n\u001b[1;32m     22\u001b[0m     \u001b[38;5;28;01mreturn\u001b[39;00m _SentenceTransformersEmbeddingBackendFactory\u001b[38;5;241m.\u001b[39m_instances[embedding_backend_id]\n\u001b[0;32m---> 23\u001b[0m embedding_backend \u001b[38;5;241m=\u001b[39m \u001b[43m_SentenceTransformersEmbeddingBackend\u001b[49m\u001b[43m(\u001b[49m\u001b[43mmodel\u001b[49m\u001b[38;5;241;43m=\u001b[39;49m\u001b[43mmodel\u001b[49m\u001b[43m,\u001b[49m\u001b[43m \u001b[49m\u001b[43mdevice\u001b[49m\u001b[38;5;241;43m=\u001b[39;49m\u001b[43mdevice\u001b[49m\u001b[43m,\u001b[49m\u001b[43m \u001b[49m\u001b[43mauth_token\u001b[49m\u001b[38;5;241;43m=\u001b[39;49m\u001b[43mauth_token\u001b[49m\u001b[43m)\u001b[49m\n\u001b[1;32m     24\u001b[0m _SentenceTransformersEmbeddingBackendFactory\u001b[38;5;241m.\u001b[39m_instances[embedding_backend_id] \u001b[38;5;241m=\u001b[39m embedding_backend\n\u001b[1;32m     25\u001b[0m \u001b[38;5;28;01mreturn\u001b[39;00m embedding_backend\n",
      "File \u001b[0;32m/opt/conda/envs/haystack/lib/python3.10/site-packages/haystack/components/embedders/backends/sentence_transformers_backend.py:35\u001b[0m, in \u001b[0;36m_SentenceTransformersEmbeddingBackend.__init__\u001b[0;34m(self, model, device, auth_token)\u001b[0m\n\u001b[1;32m     33\u001b[0m \u001b[38;5;28;01mdef\u001b[39;00m \u001b[38;5;21m__init__\u001b[39m(\u001b[38;5;28mself\u001b[39m, model: \u001b[38;5;28mstr\u001b[39m, device: Optional[\u001b[38;5;28mstr\u001b[39m] \u001b[38;5;241m=\u001b[39m \u001b[38;5;28;01mNone\u001b[39;00m, auth_token: Optional[Secret] \u001b[38;5;241m=\u001b[39m \u001b[38;5;28;01mNone\u001b[39;00m):\n\u001b[1;32m     34\u001b[0m     sentence_transformers_import\u001b[38;5;241m.\u001b[39mcheck()\n\u001b[0;32m---> 35\u001b[0m     \u001b[38;5;28mself\u001b[39m\u001b[38;5;241m.\u001b[39mmodel \u001b[38;5;241m=\u001b[39m \u001b[43mSentenceTransformer\u001b[49m\u001b[43m(\u001b[49m\n\u001b[1;32m     36\u001b[0m \u001b[43m        \u001b[49m\u001b[43mmodel_name_or_path\u001b[49m\u001b[38;5;241;43m=\u001b[39;49m\u001b[43mmodel\u001b[49m\u001b[43m,\u001b[49m\u001b[43m \u001b[49m\u001b[43mdevice\u001b[49m\u001b[38;5;241;43m=\u001b[39;49m\u001b[43mdevice\u001b[49m\u001b[43m,\u001b[49m\u001b[43m \u001b[49m\u001b[43muse_auth_token\u001b[49m\u001b[38;5;241;43m=\u001b[39;49m\u001b[43mauth_token\u001b[49m\u001b[38;5;241;43m.\u001b[39;49m\u001b[43mresolve_value\u001b[49m\u001b[43m(\u001b[49m\u001b[43m)\u001b[49m\u001b[43m \u001b[49m\u001b[38;5;28;43;01mif\u001b[39;49;00m\u001b[43m \u001b[49m\u001b[43mauth_token\u001b[49m\u001b[43m \u001b[49m\u001b[38;5;28;43;01melse\u001b[39;49;00m\u001b[43m \u001b[49m\u001b[38;5;28;43;01mNone\u001b[39;49;00m\n\u001b[1;32m     37\u001b[0m \u001b[43m    \u001b[49m\u001b[43m)\u001b[49m\n",
      "File \u001b[0;32m/opt/conda/envs/haystack/lib/python3.10/site-packages/sentence_transformers/SentenceTransformer.py:199\u001b[0m, in \u001b[0;36mSentenceTransformer.__init__\u001b[0;34m(self, model_name_or_path, modules, device, prompts, default_prompt_name, cache_folder, trust_remote_code, revision, token, use_auth_token)\u001b[0m\n\u001b[1;32m    191\u001b[0m         modules \u001b[38;5;241m=\u001b[39m \u001b[38;5;28mself\u001b[39m\u001b[38;5;241m.\u001b[39m_load_sbert_model(\n\u001b[1;32m    192\u001b[0m             model_name_or_path,\n\u001b[1;32m    193\u001b[0m             token\u001b[38;5;241m=\u001b[39mtoken,\n\u001b[0;32m   (...)\u001b[0m\n\u001b[1;32m    196\u001b[0m             trust_remote_code\u001b[38;5;241m=\u001b[39mtrust_remote_code,\n\u001b[1;32m    197\u001b[0m         )\n\u001b[1;32m    198\u001b[0m     \u001b[38;5;28;01melse\u001b[39;00m:\n\u001b[0;32m--> 199\u001b[0m         modules \u001b[38;5;241m=\u001b[39m \u001b[38;5;28;43mself\u001b[39;49m\u001b[38;5;241;43m.\u001b[39;49m\u001b[43m_load_auto_model\u001b[49m\u001b[43m(\u001b[49m\n\u001b[1;32m    200\u001b[0m \u001b[43m            \u001b[49m\u001b[43mmodel_name_or_path\u001b[49m\u001b[43m,\u001b[49m\n\u001b[1;32m    201\u001b[0m \u001b[43m            \u001b[49m\u001b[43mtoken\u001b[49m\u001b[38;5;241;43m=\u001b[39;49m\u001b[43mtoken\u001b[49m\u001b[43m,\u001b[49m\n\u001b[1;32m    202\u001b[0m \u001b[43m            \u001b[49m\u001b[43mcache_folder\u001b[49m\u001b[38;5;241;43m=\u001b[39;49m\u001b[43mcache_folder\u001b[49m\u001b[43m,\u001b[49m\n\u001b[1;32m    203\u001b[0m \u001b[43m            \u001b[49m\u001b[43mrevision\u001b[49m\u001b[38;5;241;43m=\u001b[39;49m\u001b[43mrevision\u001b[49m\u001b[43m,\u001b[49m\n\u001b[1;32m    204\u001b[0m \u001b[43m            \u001b[49m\u001b[43mtrust_remote_code\u001b[49m\u001b[38;5;241;43m=\u001b[39;49m\u001b[43mtrust_remote_code\u001b[49m\u001b[43m,\u001b[49m\n\u001b[1;32m    205\u001b[0m \u001b[43m        \u001b[49m\u001b[43m)\u001b[49m\n\u001b[1;32m    207\u001b[0m \u001b[38;5;28;01mif\u001b[39;00m modules \u001b[38;5;129;01mis\u001b[39;00m \u001b[38;5;129;01mnot\u001b[39;00m \u001b[38;5;28;01mNone\u001b[39;00m \u001b[38;5;129;01mand\u001b[39;00m \u001b[38;5;129;01mnot\u001b[39;00m \u001b[38;5;28misinstance\u001b[39m(modules, OrderedDict):\n\u001b[1;32m    208\u001b[0m     modules \u001b[38;5;241m=\u001b[39m OrderedDict([(\u001b[38;5;28mstr\u001b[39m(idx), module) \u001b[38;5;28;01mfor\u001b[39;00m idx, module \u001b[38;5;129;01min\u001b[39;00m \u001b[38;5;28menumerate\u001b[39m(modules)])\n",
      "File \u001b[0;32m/opt/conda/envs/haystack/lib/python3.10/site-packages/sentence_transformers/SentenceTransformer.py:1134\u001b[0m, in \u001b[0;36mSentenceTransformer._load_auto_model\u001b[0;34m(self, model_name_or_path, token, cache_folder, revision, trust_remote_code)\u001b[0m\n\u001b[1;32m   1126\u001b[0m \u001b[38;5;250m\u001b[39m\u001b[38;5;124;03m\"\"\"\u001b[39;00m\n\u001b[1;32m   1127\u001b[0m \u001b[38;5;124;03mCreates a simple Transformer + Mean Pooling model and returns the modules\u001b[39;00m\n\u001b[1;32m   1128\u001b[0m \u001b[38;5;124;03m\"\"\"\u001b[39;00m\n\u001b[1;32m   1129\u001b[0m logger\u001b[38;5;241m.\u001b[39mwarning(\n\u001b[1;32m   1130\u001b[0m     \u001b[38;5;124m\"\u001b[39m\u001b[38;5;124mNo sentence-transformers model found with name \u001b[39m\u001b[38;5;132;01m{}\u001b[39;00m\u001b[38;5;124m. Creating a new one with MEAN pooling.\u001b[39m\u001b[38;5;124m\"\u001b[39m\u001b[38;5;241m.\u001b[39mformat(\n\u001b[1;32m   1131\u001b[0m         model_name_or_path\n\u001b[1;32m   1132\u001b[0m     )\n\u001b[1;32m   1133\u001b[0m )\n\u001b[0;32m-> 1134\u001b[0m transformer_model \u001b[38;5;241m=\u001b[39m \u001b[43mTransformer\u001b[49m\u001b[43m(\u001b[49m\n\u001b[1;32m   1135\u001b[0m \u001b[43m    \u001b[49m\u001b[43mmodel_name_or_path\u001b[49m\u001b[43m,\u001b[49m\n\u001b[1;32m   1136\u001b[0m \u001b[43m    \u001b[49m\u001b[43mcache_dir\u001b[49m\u001b[38;5;241;43m=\u001b[39;49m\u001b[43mcache_folder\u001b[49m\u001b[43m,\u001b[49m\n\u001b[1;32m   1137\u001b[0m \u001b[43m    \u001b[49m\u001b[43mmodel_args\u001b[49m\u001b[38;5;241;43m=\u001b[39;49m\u001b[43m{\u001b[49m\u001b[38;5;124;43m\"\u001b[39;49m\u001b[38;5;124;43mtoken\u001b[39;49m\u001b[38;5;124;43m\"\u001b[39;49m\u001b[43m:\u001b[49m\u001b[43m \u001b[49m\u001b[43mtoken\u001b[49m\u001b[43m,\u001b[49m\u001b[43m \u001b[49m\u001b[38;5;124;43m\"\u001b[39;49m\u001b[38;5;124;43mtrust_remote_code\u001b[39;49m\u001b[38;5;124;43m\"\u001b[39;49m\u001b[43m:\u001b[49m\u001b[43m \u001b[49m\u001b[43mtrust_remote_code\u001b[49m\u001b[43m,\u001b[49m\u001b[43m \u001b[49m\u001b[38;5;124;43m\"\u001b[39;49m\u001b[38;5;124;43mrevision\u001b[39;49m\u001b[38;5;124;43m\"\u001b[39;49m\u001b[43m:\u001b[49m\u001b[43m \u001b[49m\u001b[43mrevision\u001b[49m\u001b[43m}\u001b[49m\u001b[43m,\u001b[49m\n\u001b[1;32m   1138\u001b[0m \u001b[43m    \u001b[49m\u001b[43mtokenizer_args\u001b[49m\u001b[38;5;241;43m=\u001b[39;49m\u001b[43m{\u001b[49m\u001b[38;5;124;43m\"\u001b[39;49m\u001b[38;5;124;43mtoken\u001b[39;49m\u001b[38;5;124;43m\"\u001b[39;49m\u001b[43m:\u001b[49m\u001b[43m \u001b[49m\u001b[43mtoken\u001b[49m\u001b[43m,\u001b[49m\u001b[43m \u001b[49m\u001b[38;5;124;43m\"\u001b[39;49m\u001b[38;5;124;43mtrust_remote_code\u001b[39;49m\u001b[38;5;124;43m\"\u001b[39;49m\u001b[43m:\u001b[49m\u001b[43m \u001b[49m\u001b[43mtrust_remote_code\u001b[49m\u001b[43m,\u001b[49m\u001b[43m \u001b[49m\u001b[38;5;124;43m\"\u001b[39;49m\u001b[38;5;124;43mrevision\u001b[39;49m\u001b[38;5;124;43m\"\u001b[39;49m\u001b[43m:\u001b[49m\u001b[43m \u001b[49m\u001b[43mrevision\u001b[49m\u001b[43m}\u001b[49m\u001b[43m,\u001b[49m\n\u001b[1;32m   1139\u001b[0m \u001b[43m\u001b[49m\u001b[43m)\u001b[49m\n\u001b[1;32m   1140\u001b[0m pooling_model \u001b[38;5;241m=\u001b[39m Pooling(transformer_model\u001b[38;5;241m.\u001b[39mget_word_embedding_dimension(), \u001b[38;5;124m\"\u001b[39m\u001b[38;5;124mmean\u001b[39m\u001b[38;5;124m\"\u001b[39m)\n\u001b[1;32m   1141\u001b[0m \u001b[38;5;28;01mreturn\u001b[39;00m [transformer_model, pooling_model]\n",
      "File \u001b[0;32m/opt/conda/envs/haystack/lib/python3.10/site-packages/sentence_transformers/models/Transformer.py:38\u001b[0m, in \u001b[0;36mTransformer.__init__\u001b[0;34m(self, model_name_or_path, max_seq_length, model_args, cache_dir, tokenizer_args, do_lower_case, tokenizer_name_or_path)\u001b[0m\n\u001b[1;32m     35\u001b[0m config \u001b[38;5;241m=\u001b[39m AutoConfig\u001b[38;5;241m.\u001b[39mfrom_pretrained(model_name_or_path, \u001b[38;5;241m*\u001b[39m\u001b[38;5;241m*\u001b[39mmodel_args, cache_dir\u001b[38;5;241m=\u001b[39mcache_dir)\n\u001b[1;32m     36\u001b[0m \u001b[38;5;28mself\u001b[39m\u001b[38;5;241m.\u001b[39m_load_model(model_name_or_path, config, cache_dir, \u001b[38;5;241m*\u001b[39m\u001b[38;5;241m*\u001b[39mmodel_args)\n\u001b[0;32m---> 38\u001b[0m \u001b[38;5;28mself\u001b[39m\u001b[38;5;241m.\u001b[39mtokenizer \u001b[38;5;241m=\u001b[39m \u001b[43mAutoTokenizer\u001b[49m\u001b[38;5;241;43m.\u001b[39;49m\u001b[43mfrom_pretrained\u001b[49m\u001b[43m(\u001b[49m\n\u001b[1;32m     39\u001b[0m \u001b[43m    \u001b[49m\u001b[43mtokenizer_name_or_path\u001b[49m\u001b[43m \u001b[49m\u001b[38;5;28;43;01mif\u001b[39;49;00m\u001b[43m \u001b[49m\u001b[43mtokenizer_name_or_path\u001b[49m\u001b[43m \u001b[49m\u001b[38;5;129;43;01mis\u001b[39;49;00m\u001b[43m \u001b[49m\u001b[38;5;129;43;01mnot\u001b[39;49;00m\u001b[43m \u001b[49m\u001b[38;5;28;43;01mNone\u001b[39;49;00m\u001b[43m \u001b[49m\u001b[38;5;28;43;01melse\u001b[39;49;00m\u001b[43m \u001b[49m\u001b[43mmodel_name_or_path\u001b[49m\u001b[43m,\u001b[49m\n\u001b[1;32m     40\u001b[0m \u001b[43m    \u001b[49m\u001b[43mcache_dir\u001b[49m\u001b[38;5;241;43m=\u001b[39;49m\u001b[43mcache_dir\u001b[49m\u001b[43m,\u001b[49m\n\u001b[1;32m     41\u001b[0m \u001b[43m    \u001b[49m\u001b[38;5;241;43m*\u001b[39;49m\u001b[38;5;241;43m*\u001b[39;49m\u001b[43mtokenizer_args\u001b[49m\u001b[43m,\u001b[49m\n\u001b[1;32m     42\u001b[0m \u001b[43m\u001b[49m\u001b[43m)\u001b[49m\n\u001b[1;32m     44\u001b[0m \u001b[38;5;66;03m# No max_seq_length set. Try to infer from model\u001b[39;00m\n\u001b[1;32m     45\u001b[0m \u001b[38;5;28;01mif\u001b[39;00m max_seq_length \u001b[38;5;129;01mis\u001b[39;00m \u001b[38;5;28;01mNone\u001b[39;00m:\n",
      "File \u001b[0;32m/opt/conda/envs/haystack/lib/python3.10/site-packages/transformers/models/auto/tokenization_auto.py:843\u001b[0m, in \u001b[0;36mAutoTokenizer.from_pretrained\u001b[0;34m(cls, pretrained_model_name_or_path, *inputs, **kwargs)\u001b[0m\n\u001b[1;32m    841\u001b[0m tokenizer_class_py, tokenizer_class_fast \u001b[38;5;241m=\u001b[39m TOKENIZER_MAPPING[\u001b[38;5;28mtype\u001b[39m(config)]\n\u001b[1;32m    842\u001b[0m \u001b[38;5;28;01mif\u001b[39;00m tokenizer_class_fast \u001b[38;5;129;01mand\u001b[39;00m (use_fast \u001b[38;5;129;01mor\u001b[39;00m tokenizer_class_py \u001b[38;5;129;01mis\u001b[39;00m \u001b[38;5;28;01mNone\u001b[39;00m):\n\u001b[0;32m--> 843\u001b[0m     \u001b[38;5;28;01mreturn\u001b[39;00m \u001b[43mtokenizer_class_fast\u001b[49m\u001b[38;5;241;43m.\u001b[39;49m\u001b[43mfrom_pretrained\u001b[49m\u001b[43m(\u001b[49m\u001b[43mpretrained_model_name_or_path\u001b[49m\u001b[43m,\u001b[49m\u001b[43m \u001b[49m\u001b[38;5;241;43m*\u001b[39;49m\u001b[43minputs\u001b[49m\u001b[43m,\u001b[49m\u001b[43m \u001b[49m\u001b[38;5;241;43m*\u001b[39;49m\u001b[38;5;241;43m*\u001b[39;49m\u001b[43mkwargs\u001b[49m\u001b[43m)\u001b[49m\n\u001b[1;32m    844\u001b[0m \u001b[38;5;28;01melse\u001b[39;00m:\n\u001b[1;32m    845\u001b[0m     \u001b[38;5;28;01mif\u001b[39;00m tokenizer_class_py \u001b[38;5;129;01mis\u001b[39;00m \u001b[38;5;129;01mnot\u001b[39;00m \u001b[38;5;28;01mNone\u001b[39;00m:\n",
      "File \u001b[0;32m/opt/conda/envs/haystack/lib/python3.10/site-packages/transformers/tokenization_utils_base.py:2032\u001b[0m, in \u001b[0;36mPreTrainedTokenizerBase.from_pretrained\u001b[0;34m(cls, pretrained_model_name_or_path, cache_dir, force_download, local_files_only, token, revision, trust_remote_code, *init_inputs, **kwargs)\u001b[0m\n\u001b[1;32m   2026\u001b[0m     logger\u001b[38;5;241m.\u001b[39minfo(\n\u001b[1;32m   2027\u001b[0m         \u001b[38;5;124mf\u001b[39m\u001b[38;5;124m\"\u001b[39m\u001b[38;5;124mCan\u001b[39m\u001b[38;5;124m'\u001b[39m\u001b[38;5;124mt load following files from cache: \u001b[39m\u001b[38;5;132;01m{\u001b[39;00munresolved_files\u001b[38;5;132;01m}\u001b[39;00m\u001b[38;5;124m and cannot check if these \u001b[39m\u001b[38;5;124m\"\u001b[39m\n\u001b[1;32m   2028\u001b[0m         \u001b[38;5;124m\"\u001b[39m\u001b[38;5;124mfiles are necessary for the tokenizer to operate.\u001b[39m\u001b[38;5;124m\"\u001b[39m\n\u001b[1;32m   2029\u001b[0m     )\n\u001b[1;32m   2031\u001b[0m \u001b[38;5;28;01mif\u001b[39;00m \u001b[38;5;28mall\u001b[39m(full_file_name \u001b[38;5;129;01mis\u001b[39;00m \u001b[38;5;28;01mNone\u001b[39;00m \u001b[38;5;28;01mfor\u001b[39;00m full_file_name \u001b[38;5;129;01min\u001b[39;00m resolved_vocab_files\u001b[38;5;241m.\u001b[39mvalues()):\n\u001b[0;32m-> 2032\u001b[0m     \u001b[38;5;28;01mraise\u001b[39;00m \u001b[38;5;167;01mEnvironmentError\u001b[39;00m(\n\u001b[1;32m   2033\u001b[0m         \u001b[38;5;124mf\u001b[39m\u001b[38;5;124m\"\u001b[39m\u001b[38;5;124mCan\u001b[39m\u001b[38;5;124m'\u001b[39m\u001b[38;5;124mt load tokenizer for \u001b[39m\u001b[38;5;124m'\u001b[39m\u001b[38;5;132;01m{\u001b[39;00mpretrained_model_name_or_path\u001b[38;5;132;01m}\u001b[39;00m\u001b[38;5;124m'\u001b[39m\u001b[38;5;124m. If you were trying to load it from \u001b[39m\u001b[38;5;124m\"\u001b[39m\n\u001b[1;32m   2034\u001b[0m         \u001b[38;5;124m\"\u001b[39m\u001b[38;5;124m'\u001b[39m\u001b[38;5;124mhttps://huggingface.co/models\u001b[39m\u001b[38;5;124m'\u001b[39m\u001b[38;5;124m, make sure you don\u001b[39m\u001b[38;5;124m'\u001b[39m\u001b[38;5;124mt have a local directory with the same name. \u001b[39m\u001b[38;5;124m\"\u001b[39m\n\u001b[1;32m   2035\u001b[0m         \u001b[38;5;124mf\u001b[39m\u001b[38;5;124m\"\u001b[39m\u001b[38;5;124mOtherwise, make sure \u001b[39m\u001b[38;5;124m'\u001b[39m\u001b[38;5;132;01m{\u001b[39;00mpretrained_model_name_or_path\u001b[38;5;132;01m}\u001b[39;00m\u001b[38;5;124m'\u001b[39m\u001b[38;5;124m is the correct path to a directory \u001b[39m\u001b[38;5;124m\"\u001b[39m\n\u001b[1;32m   2036\u001b[0m         \u001b[38;5;124mf\u001b[39m\u001b[38;5;124m\"\u001b[39m\u001b[38;5;124mcontaining all relevant files for a \u001b[39m\u001b[38;5;132;01m{\u001b[39;00m\u001b[38;5;28mcls\u001b[39m\u001b[38;5;241m.\u001b[39m\u001b[38;5;18m__name__\u001b[39m\u001b[38;5;132;01m}\u001b[39;00m\u001b[38;5;124m tokenizer.\u001b[39m\u001b[38;5;124m\"\u001b[39m\n\u001b[1;32m   2037\u001b[0m     )\n\u001b[1;32m   2039\u001b[0m \u001b[38;5;28;01mfor\u001b[39;00m file_id, file_path \u001b[38;5;129;01min\u001b[39;00m vocab_files\u001b[38;5;241m.\u001b[39mitems():\n\u001b[1;32m   2040\u001b[0m     \u001b[38;5;28;01mif\u001b[39;00m file_id \u001b[38;5;129;01mnot\u001b[39;00m \u001b[38;5;129;01min\u001b[39;00m resolved_vocab_files:\n",
      "\u001b[0;31mOSError\u001b[0m: Can't load tokenizer for '/home/inhyeok/llms/models/kordpr-context-encocder/'. If you were trying to load it from 'https://huggingface.co/models', make sure you don't have a local directory with the same name. Otherwise, make sure '/home/inhyeok/llms/models/kordpr-context-encocder/' is the correct path to a directory containing all relevant files for a BertTokenizerFast tokenizer."
     ]
    }
   ],
   "source": [
    "from haystack import Pipeline\n",
    "from haystack.document_stores.in_memory import InMemoryDocumentStore\n",
    "from haystack.components.embedders import SentenceTransformersTextEmbedder, SentenceTransformersDocumentEmbedder\n",
    "from haystack.components.retrievers.in_memory import InMemoryEmbeddingRetriever\n",
    "\n",
    "document_store = InMemoryDocumentStore(embedding_similarity_function=\"cosine\")\n",
    "\n",
    "document_embedder = SentenceTransformersDocumentEmbedder(\n",
    "\tmodel=\"/home/inhyeok/llms/models/kordpr-context-encocder/\")\n",
    "text_embedder = SentenceTransformersTextEmbedder(\n",
    "\tmodel=\"/home/inhyeok/llms/models/kordpr-question-encocder/\")\n",
    "document_embedder.warm_up()\n",
    "text_embedder.warm_up()\n",
    "\n",
    "documents_with_embeddings = document_embedder.run(documents)[\"documents\"]\n",
    "document_store.write_documents(documents_with_embeddings)\n",
    "\n",
    "query_pipeline = Pipeline()\n",
    "# query_pipeline.add_component(\"text_embedder\", SentenceTransformersTextEmbedder())\n",
    "query_pipeline.add_component(\"text_embedder\", text_embedder)\n",
    "query_pipeline.add_component(\"retriever\", InMemoryEmbeddingRetriever(document_store=document_store))\n",
    "query_pipeline.connect(\"text_embedder.embedding\", \"retriever.query_embedding\")"
   ]
  },
  {
   "cell_type": "markdown",
   "id": "ee6190c6-ae93-4104-b398-2e8cd01251ed",
   "metadata": {
    "tags": []
   },
   "source": [
    "# QA"
   ]
  },
  {
   "cell_type": "markdown",
   "id": "4d01e546-f1d5-47df-a078-b8f3e0f6130f",
   "metadata": {
    "jp-MarkdownHeadingCollapsed": true,
    "tags": []
   },
   "source": [
    "## Extractive QA"
   ]
  },
  {
   "cell_type": "code",
   "execution_count": 6,
   "id": "9f3be91e-a03b-4aa2-922f-b8781ab32e02",
   "metadata": {
    "tags": []
   },
   "outputs": [
    {
     "name": "stderr",
     "output_type": "stream",
     "text": [
      "config.json: 100%|████████████████████████████████████████████████████████████████████| 729/729 [00:00<00:00, 4.10MB/s]\n",
      "model.safetensors: 100%|████████████████████████████████████████████████████████████| 496M/496M [00:26<00:00, 19.0MB/s]\n",
      "tokenizer_config.json: 100%|██████████████████████████████████████████████████████████| 295/295 [00:00<00:00, 1.69MB/s]\n",
      "vocab.json: 100%|███████████████████████████████████████████████████████████████████| 798k/798k [00:00<00:00, 2.11MB/s]\n",
      "merges.txt: 100%|███████████████████████████████████████████████████████████████████| 456k/456k [00:00<00:00, 2.40MB/s]\n",
      "tokenizer.json: 100%|█████████████████████████████████████████████████████████████| 1.36M/1.36M [00:00<00:00, 6.24MB/s]\n",
      "special_tokens_map.json: 100%|████████████████████████████████████████████████████████| 239/239 [00:00<00:00, 1.73MB/s]\n",
      "Ranking by BM25...: 100%|██████████████████████████████████████████████████████████| 4/4 [00:00<00:00, 66841.50 docs/s]\n"
     ]
    },
    {
     "data": {
      "text/plain": [
       "{'reader': {'answers': [ExtractedAnswer(query='What is the capital of France?', score=0.8202020525932312, data='Paris', document=Document(id=0f5beda04153dbfc462c8b31f8536749e43654709ecf0cfe22c6d009c9912214, content: 'Paris is the capital of France.', score: 2.0317685836965502), context=None, document_offset=ExtractedAnswer.Span(start=0, end=5), context_offset=None, meta={}),\n",
       "   ExtractedAnswer(query='What is the capital of France?', score=0.42226263880729675, data='France', document=Document(id=0f5beda04153dbfc462c8b31f8536749e43654709ecf0cfe22c6d009c9912214, content: 'Paris is the capital of France.', score: 2.0317685836965502), context=None, document_offset=ExtractedAnswer.Span(start=24, end=30), context_offset=None, meta={}),\n",
       "   ExtractedAnswer(query='What is the capital of France?', score=0.10387599168265105, data=None, document=None, context=None, document_offset=None, context_offset=None, meta={})]}}"
      ]
     },
     "execution_count": 6,
     "metadata": {},
     "output_type": "execute_result"
    }
   ],
   "source": [
    "from haystack import Document, Pipeline\n",
    "from haystack.document_stores.in_memory import InMemoryDocumentStore\n",
    "from haystack.components.retrievers.in_memory import InMemoryBM25Retriever\n",
    "from haystack.components.readers import ExtractiveReader\n",
    "\n",
    "docs = [Document(content=\"Paris is the capital of France.\"),\n",
    "        Document(content=\"Berlin is the capital of Germany.\"),\n",
    "        Document(content=\"Rome is the capital of Italy.\"),\n",
    "        Document(content=\"Madrid is the capital of Spain.\")]\n",
    "\n",
    "document_store = InMemoryDocumentStore()\n",
    "document_store.write_documents(docs)\n",
    "\n",
    "retriever = InMemoryBM25Retriever(document_store=document_store)\n",
    "reader = ExtractiveReader(model=\"deepset/roberta-base-squad2-distilled\")\n",
    "\n",
    "extractive_qa_pipeline = Pipeline()\n",
    "extractive_qa_pipeline.add_component(instance=retriever, name=\"retriever\")\n",
    "extractive_qa_pipeline.add_component(instance=reader, name=\"reader\")\n",
    "\n",
    "extractive_qa_pipeline.connect(\"retriever.documents\", \"reader.documents\")\n",
    "\n",
    "query = \"What is the capital of France?\"\n",
    "extractive_qa_pipeline.run(data={\"retriever\": {\"query\": query, \"top_k\": 3}, \n",
    "                                   \"reader\": {\"query\": query, \"top_k\": 2}})"
   ]
  },
  {
   "cell_type": "markdown",
   "id": "9600d703-5bf4-4548-b515-7821c846f4aa",
   "metadata": {
    "tags": []
   },
   "source": [
    "## LLM"
   ]
  },
  {
   "cell_type": "code",
   "execution_count": 28,
   "id": "a7d3acb4-118b-45da-9f1d-61aba8773d2d",
   "metadata": {
    "tags": []
   },
   "outputs": [],
   "source": [
    "from haystack_integrations.components.generators.google_ai import GoogleAIGeminiGenerator\n",
    "\n",
    "generator = GoogleAIGeminiGenerator(model=\"gemini-pro\")"
   ]
  },
  {
   "cell_type": "code",
   "execution_count": 29,
   "id": "829857bd-49da-4b60-8792-e030954f3b61",
   "metadata": {
    "tags": []
   },
   "outputs": [],
   "source": [
    "from haystack.components.builders import PromptBuilder\n",
    "\n",
    "template = \"\"\"\n",
    "Given the following information, answer the question.\n",
    "\n",
    "Context:\n",
    "{% for document in documents %}\n",
    "    {{ document.content }}\n",
    "{% endfor %}\n",
    "\n",
    "Question: {{question}}\n",
    "Answer:\n",
    "\"\"\"\n",
    "\n",
    "prompt_builder = PromptBuilder(template=template)"
   ]
  },
  {
   "cell_type": "code",
   "execution_count": 30,
   "id": "726d928d-408a-47b5-aee3-3545b28c7545",
   "metadata": {
    "tags": []
   },
   "outputs": [
    {
     "data": {
      "image/jpeg": "[encoded data removed]",
      "text/plain": [
       "<IPython.core.display.Image object>"
      ]
     },
     "metadata": {},
     "output_type": "display_data"
    },
    {
     "data": {
      "text/plain": []
     },
     "execution_count": 30,
     "metadata": {},
     "output_type": "execute_result"
    }
   ],
   "source": [
    "query_pipeline.add_component(\"prompt_builder\", prompt_builder)\n",
    "query_pipeline.add_component(\"llm\", generator)\n",
    "\n",
    "query_pipeline.connect(\"retriever\", \"prompt_builder.documents\")\n",
    "query_pipeline.connect(\"prompt_builder\", \"llm\")"
   ]
  },
  {
   "cell_type": "code",
   "execution_count": 41,
   "id": "04c8501f-2fb8-49a2-947c-5448a3c81211",
   "metadata": {
    "tags": []
   },
   "outputs": [
    {
     "data": {
      "text/plain": [
       "'본 논문에서는 제어 알고리즘을 어떻게 구현했어?'"
      ]
     },
     "execution_count": 41,
     "metadata": {},
     "output_type": "execute_result"
    }
   ],
   "source": [
    "documents[0].meta[\"context_meta\"]['qas'][0]['question-1']"
   ]
  },
  {
   "cell_type": "code",
   "execution_count": 44,
   "id": "3adb025e-2dc1-415e-8f28-e08e6e83b773",
   "metadata": {
    "tags": []
   },
   "outputs": [
    {
     "name": "stderr",
     "output_type": "stream",
     "text": [
      "Batches: 100%|███████████████████████████████████████████████████████████████████████████| 1/1 [00:00<00:00,  7.94it/s]\n"
     ]
    },
    {
     "name": "stdout",
     "output_type": "stream",
     "text": [
      "['이 질문에 대한 답변은 제공된 텍스트에서 찾을 수 없습니다.']\n"
     ]
    }
   ],
   "source": [
    "question = '본 논문에서는 제어 알고리즘을 어떻게 구현했어?'\n",
    "\n",
    "response = query_pipeline.run({\"text_embedder\": {\"text\": question}, \"prompt_builder\": {\"question\": question}})\n",
    "# result = query_pipeline.run({\"text_embedder\":{\"text\": query}})\n",
    "print(response[\"llm\"][\"answers\"])"
   ]
  },
  {
   "cell_type": "code",
   "execution_count": 45,
   "id": "ababa450-5153-4943-9e26-e48d11daa525",
   "metadata": {
    "tags": []
   },
   "outputs": [
    {
     "data": {
      "text/plain": [
       "{'llm': {'answers': ['이 질문에 대한 답변은 제공된 텍스트에서 찾을 수 없습니다.']}}"
      ]
     },
     "execution_count": 45,
     "metadata": {},
     "output_type": "execute_result"
    }
   ],
   "source": [
    "response"
   ]
  }
 ],
 "metadata": {
  "kernelspec": {
   "display_name": "haystack",
   "language": "python",
   "name": "haystack"
  },
  "language_info": {
   "codemirror_mode": {
    "name": "ipython",
    "version": 3
   },
   "file_extension": ".py",
   "mimetype": "text/x-python",
   "name": "python",
   "nbconvert_exporter": "python",
   "pygments_lexer": "ipython3",
   "version": "3.10.13"
  }
 },
 "nbformat": 4,
 "nbformat_minor": 5
}
