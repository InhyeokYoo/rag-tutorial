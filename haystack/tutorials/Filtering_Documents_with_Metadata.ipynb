{
 "cells": [
  {
   "cell_type": "markdown",
   "id": "95edb488",
   "metadata": {},
   "source": [
    "# Overview\n",
    "\n",
    "📚 Useful Documentation: [Metadata Filtering](https://docs.haystack.deepset.ai/v2.0/docs/metadata-filtering)\n",
    "\n",
    "Although new retrieval techniques are great, sometimes you just know that you want to perform search on a specific group of documents in your document store. This can be anything from all the documents that are related to a specific user, or that were published after a certain date and so on. Metadata filtering is very useful in these situations. In this tutorial, we will create a few simple documents containing information about Haystack, where the metadata includes information on what version of Haystack the information relates to. We will then do metadata filtering to make sure we are answering the question based only on information about Haystack 2.0."
   ]
  },
  {
   "cell_type": "markdown",
   "id": "1b7c22e9",
   "metadata": {
    "tags": []
   },
   "source": [
    "## Enabling Telemetry\n",
    "\n",
    "Knowing you’re using this tutorial helps us decide where to invest our efforts to build a better product but you can always opt out by commenting the following line. See Telemetry for more details."
   ]
  },
  {
   "cell_type": "code",
   "execution_count": 1,
   "id": "55b363dc",
   "metadata": {},
   "outputs": [
    {
     "name": "stderr",
     "output_type": "stream",
     "text": [
      "/opt/conda/envs/haystack/lib/python3.10/site-packages/tqdm/auto.py:21: TqdmWarning: IProgress not found. Please update jupyter and ipywidgets. See https://ipywidgets.readthedocs.io/en/stable/user_install.html\n",
      "  from .autonotebook import tqdm as notebook_tqdm\n",
      "None of PyTorch, TensorFlow >= 2.0, or Flax have been found. Models won't be available and only tokenizers, configuration and file/data utilities can be used.\n"
     ]
    }
   ],
   "source": [
    "from haystack.telemetry import tutorial_running\n",
    "\n",
    "tutorial_running(31)"
   ]
  },
  {
   "cell_type": "markdown",
   "id": "e9b90cee",
   "metadata": {
    "jp-MarkdownHeadingCollapsed": true,
    "tags": []
   },
   "source": [
    "## Metadata Filtering\n",
    "\n",
    "말 나온김에 가볍게 확인"
   ]
  },
  {
   "cell_type": "markdown",
   "id": "bd588d33-78dc-4269-8b9b-b93c69fc3fd2",
   "metadata": {},
   "source": [
    "When you index Documents into your Document Store, you can attach metadata to them.\n",
    "One example is the `DocumentLanguageClassifier`, which adds the language of the Document's content to its metadata.\n",
    "Components like `MetadataRouter` can then route Documents based on their metadata.\n",
    "Additionally, you can apply filters to queries used with Retrievers to limit the scope of your search based on this metadata and ensure that your Answers come from a specific slice of your data."
   ]
  },
  {
   "cell_type": "markdown",
   "id": "68a83430-5274-43de-bb78-ac7e8fe4f8bd",
   "metadata": {},
   "source": [
    "### Filters\n",
    "\n",
    "To illustrate how filters work, imagine you have a set of annual reports from various companies.\n",
    "You may want to perform a search on just a specific year and just on a small selection of companies.\n",
    "This can reduce the workload of the Retriever and also ensure that you get more relevant results.\n",
    "\n",
    "Filters are applied via the `filters` argument of the `Retriever` class.\n",
    "When working with a Pipeline, the filter can be given to `Pipeline.run()`, which will then route it to the `Retriever` class (see Pipelines docs on how to work with a Pipeline).\n",
    "\n",
    "For example, you can supply a filter in the form of a nested dictionary where `field` is set to a Document metadata field, an operator is set to `in`, and the values are a list of accepted values.\n",
    "In the example below, the filter ensures that any returned Document has a value of `2019` in the `years` metadata field and either `BMW` or `Mercedes` in the `companies` metadata field."
   ]
  },
  {
   "cell_type": "code",
   "execution_count": 1,
   "id": "9efab1cf-12de-4d11-a326-dead3bfd4686",
   "metadata": {
    "collapsed": true,
    "jupyter": {
     "outputs_hidden": true
    },
    "tags": []
   },
   "outputs": [
    {
     "ename": "NameError",
     "evalue": "name 'pipeline' is not defined",
     "output_type": "error",
     "traceback": [
      "\u001b[0;31m---------------------------------------------------------------------------\u001b[0m",
      "\u001b[0;31mNameError\u001b[0m                                 Traceback (most recent call last)",
      "Cell \u001b[0;32mIn[1], line 11\u001b[0m\n\u001b[1;32m      1\u001b[0m data \u001b[38;5;241m=\u001b[39m {\u001b[38;5;124m\"\u001b[39m\u001b[38;5;124mretrieval\u001b[39m\u001b[38;5;124m\"\u001b[39m: \n\u001b[1;32m      2\u001b[0m         {\n\u001b[1;32m      3\u001b[0m             \u001b[38;5;124m\"\u001b[39m\u001b[38;5;124mquery\u001b[39m\u001b[38;5;124m\"\u001b[39m: \u001b[38;5;124m\"\u001b[39m\u001b[38;5;124mWhy did the revenue increase?\u001b[39m\u001b[38;5;124m\"\u001b[39m,\n\u001b[0;32m   (...)\u001b[0m\n\u001b[1;32m      9\u001b[0m         }\n\u001b[1;32m     10\u001b[0m        }\n\u001b[0;32m---> 11\u001b[0m \u001b[43mpipeline\u001b[49m\u001b[38;5;241m.\u001b[39mrun(data\u001b[38;5;241m=\u001b[39mdata)\n",
      "\u001b[0;31mNameError\u001b[0m: name 'pipeline' is not defined"
     ]
    }
   ],
   "source": [
    "data = {\"retrieval\": \n",
    "        {\n",
    "            \"query\": \"Why did the revenue increase?\",\n",
    "            \"filters\": {\"operator\": \"AND\",\n",
    "                        \"conditions\": [\n",
    "                            {\"filed\": \"meta.years\", \"operator\": \"==\", \"value\": \"2019\"},\n",
    "                            {\"filed\": \"meta.companies\", \"operator\": \"in\", \"value\": [\"BMW\", \"Mercedes\"]}]\n",
    "                       }\n",
    "        }\n",
    "       }\n",
    "pipeline.run(data=data)"
   ]
  },
  {
   "cell_type": "markdown",
   "id": "090b15ff-44cb-4cb0-911d-a02a07018d99",
   "metadata": {
    "tags": []
   },
   "source": [
    "### Filtering Logic\n",
    "\n",
    "Technically speaking, filters are defined as nested dictionaries that can be of two types: Comparison or Logic.\n",
    "\n",
    "#### Comparison\n",
    "\n",
    "Comparison dictionaries must contain the following keys:\n",
    "- field\n",
    "- operator\n",
    "- value\n",
    "\n",
    "The `field` value in Comparison dictionaries **must be the name of one of the meta fields** of a document, such as `meta.years`.\n",
    "\n",
    "The operator value in Comparison dictionaries must be one of the following:\n",
    "- ==\n",
    "- !=\n",
    "- \\>\n",
    "- \\>=\n",
    "- <\n",
    "- <=\n",
    "- in\n",
    "- not in\n",
    "\n",
    "The field `value` takes a single value or (in the case of \"in\" and “not in”) a list of values as value."
   ]
  },
  {
   "cell_type": "markdown",
   "id": "89575c6b-cde0-4419-8d8b-87fee8edb469",
   "metadata": {},
   "source": [
    "#### Logic\n",
    "\n",
    "Logic dictionaries must contain the following keys:\n",
    "- operator\n",
    "- conditions\n",
    "\n",
    "The `conditions` key must be a list of dictionaries, either of type Comparison or Logic.\n",
    "\n",
    "The `operator` values in Logic dictionaries must be one of the following:\n",
    "- NOT\n",
    "- OR\n",
    "- AND\n",
    "\n",
    "In the Haystack code base, the filtering logic is defined in the DocumentStore protocol."
   ]
  },
  {
   "cell_type": "markdown",
   "id": "837de787",
   "metadata": {},
   "source": [
    "## Preparing Documents\n",
    "\n",
    "First, let’s prepare some documents. \n",
    "Below, we’re manually creating 3 simple documents with `meta` attached.\n",
    "We’re then writing these documents to an `InMemoryDocumentStore`, but you can use any of the available document stores instead such as OpenSearch, Chroma, Pinecone and more.. (Note that not all of them have options to store in memory and may require extra setup).\n",
    "\n",
    "> ⭐️ For more information on how to write documents into different document stores, you can follow our tutorial on indexing different file types."
   ]
  },
  {
   "cell_type": "code",
   "execution_count": 3,
   "id": "273e68a3-62ec-46e4-ac46-9b05524beb5f",
   "metadata": {
    "tags": []
   },
   "outputs": [
    {
     "data": {
      "text/plain": [
       "3"
      ]
     },
     "execution_count": 3,
     "metadata": {},
     "output_type": "execute_result"
    }
   ],
   "source": [
    "from datetime import datetime\n",
    "\n",
    "from haystack import Document  # text, metadata, etc\n",
    "from haystack.document_stores.in_memory import InMemoryDocumentStore  # DocumentStore: Object that stores Documents\n",
    "from haystack.components.retrievers.in_memory import InMemoryBM25Retriever  # Retrieval: Search Document in DocumentStore\n",
    "\n",
    "documents = [Document(content=\"Use pip to install a basic version of Haystack's latest release: pip install farm-haystack. All the core Haystack components live in the haystack repo. But there's also the haystack-extras repo which contains components that are not as widely used, and you need to install them separately.\",\n",
    "                      meta={\"version\": 1.15, \"date\": datetime(2023, 3, 30)}),\n",
    "             Document(content=\"Use pip to install a basic version of Haystack's latest release: pip install farm-haystack[inference]. All the core Haystack components live in the haystack repo. But there's also the haystack-extras repo which contains components that are not as widely used, and you need to install them separately.\",\n",
    "                      meta={\"version\": 1.22, \"date\": datetime(2023, 11, 7)}),\n",
    "             Document(content=\"Use pip to install only the Haystack 2.0 code: pip install haystack-ai. The haystack-ai package is built on the main branch which is an unstable beta version, but it's useful if you want to try the new features as soon as they are merged.\",\n",
    "                      meta={\"version\": 2.0, \"date\": datetime(2023, 12, 4)}),\n",
    "]\n",
    "document_store = InMemoryDocumentStore(bm25_algorithm=\"BM25Plus\")\n",
    "document_store.write_documents(documents=documents)"
   ]
  },
  {
   "cell_type": "markdown",
   "id": "8bde7fdd-2b0c-410a-ae36-07a1e8b8ce7e",
   "metadata": {},
   "source": [
    "# Building a Document Search Pipeline\n",
    "\n",
    "As an example, below we are building a simple document search pipeline that simply has a retriever. However, you can also change this pipeline to do more, such as generating answers to questions or more."
   ]
  },
  {
   "cell_type": "code",
   "execution_count": 9,
   "id": "681b9eab-a10a-4a10-b359-b41469878dbd",
   "metadata": {
    "tags": []
   },
   "outputs": [],
   "source": [
    "from haystack import Pipeline\n",
    "\n",
    "pipeline = Pipeline()\n",
    "pipeline.add_component(instance=InMemoryBM25Retriever(document_store=document_store), name=\"retrieval\")"
   ]
  },
  {
   "cell_type": "markdown",
   "id": "084d86d1-1879-42a3-95b8-d034891f566b",
   "metadata": {},
   "source": [
    "# Do Metadata Filtering\n",
    "\n",
    "이제 \"version\" > 1.21이라는 filter를 document에 걸고 질문해보자.\n",
    "\n",
    "어떠한 종류의 필터링이 가능한지는 위를 참고."
   ]
  },
  {
   "cell_type": "code",
   "execution_count": 10,
   "id": "d58a56c2-22f2-4538-be70-ad4813565cf0",
   "metadata": {
    "tags": []
   },
   "outputs": [
    {
     "name": "stderr",
     "output_type": "stream",
     "text": [
      "Ranking by BM25...: 100%|██████████████████████████████████████████████████████████| 2/2 [00:00<00:00, 20919.22 docs/s]\n"
     ]
    },
    {
     "data": {
      "text/plain": [
       "{'retrieval': {'documents': [Document(id=b53625c67fee5ba5ac6dc86e7ca0adff567bf8376e86ae4b3fc6f6f858ccf1e5, content: 'Use pip to install a basic version of Haystack's latest release: pip install farm-haystack[inference...', meta: {'version': 1.22, 'date': datetime.datetime(2023, 11, 7, 0, 0)}, score: 1.1808764808011376),\n",
       "   Document(id=8ac1f8119bdec5c898d5a5c69f49ff47f64056bce1a0f95073e34493bbaf9354, content: 'Use pip to install only the Haystack 2.0 code: pip install haystack-ai. The haystack-ai package is b...', meta: {'version': 2.0, 'date': datetime.datetime(2023, 12, 4, 0, 0)}, score: 1.0867343954443756)]}}"
      ]
     },
     "execution_count": 10,
     "metadata": {},
     "output_type": "execute_result"
    }
   ],
   "source": [
    "query = \"Haystack installation\"\n",
    "data = {\"retrieval\": {\"query\": query,\n",
    "                     \"filters\": {\"field\": \"meta.version\",\n",
    "                                 \"operator\": \">\",\n",
    "                                 \"value\": 1.21\n",
    "                                }\n",
    "                     }\n",
    "       }\n",
    "pipeline.run(data=data)"
   ]
  },
  {
   "cell_type": "markdown",
   "id": "97b9ae57-71fe-4064-9136-efbf73557766",
   "metadata": {},
   "source": [
    "마지막 단계로 logical operator 필터를 추가해보자.\n",
    "이번에는 version > 1.21와(AND) 2023년 11월 7일 이후로 나온 것으로 해보자"
   ]
  },
  {
   "cell_type": "code",
   "execution_count": 12,
   "id": "cc411925-d01a-4c33-bc45-a45033caaccd",
   "metadata": {
    "tags": []
   },
   "outputs": [
    {
     "name": "stderr",
     "output_type": "stream",
     "text": [
      "Ranking by BM25...: 100%|██████████████████████████████████████████████████████████| 1/1 [00:00<00:00, 10866.07 docs/s]\n"
     ]
    },
    {
     "data": {
      "text/plain": [
       "{'retrieval': {'documents': [Document(id=8ac1f8119bdec5c898d5a5c69f49ff47f64056bce1a0f95073e34493bbaf9354, content: 'Use pip to install only the Haystack 2.0 code: pip install haystack-ai. The haystack-ai package is b...', meta: {'version': 2.0, 'date': datetime.datetime(2023, 12, 4, 0, 0)}, score: 1.8483924814931876)]}}"
      ]
     },
     "execution_count": 12,
     "metadata": {},
     "output_type": "execute_result"
    }
   ],
   "source": [
    "query = \"Haystack installation\"\n",
    "data = {\"retrieval\": {\"query\": query,\n",
    "                      \"filters\": {\"operator\": \"AND\",\n",
    "                                 \"conditions\": [{\"field\": \"meta.version\", \"operator\": \">\", \"value\": 1.21},\n",
    "                                                {\"field\": \"meta.date\", \"operator\": \">\", \"value\": datetime(2023, 11, 7)}\n",
    "                                     \n",
    "                                 ]}\n",
    "                     }}\n",
    "pipeline.run(data=data)"
   ]
  },
  {
   "cell_type": "markdown",
   "id": "6c911b52-f72b-4392-9bc2-a008aee5cf5e",
   "metadata": {},
   "source": [
    "## 번외: Custom retrieval 달기"
   ]
  },
  {
   "cell_type": "code",
   "execution_count": null,
   "id": "15cda2a3-8973-4e6b-83d4-fc524ceb1193",
   "metadata": {},
   "outputs": [],
   "source": []
  }
 ],
 "metadata": {
  "kernelspec": {
   "display_name": "haystack",
   "language": "python",
   "name": "haystack"
  },
  "language_info": {
   "codemirror_mode": {
    "name": "ipython",
    "version": 3
   },
   "file_extension": ".py",
   "mimetype": "text/x-python",
   "name": "python",
   "nbconvert_exporter": "python",
   "pygments_lexer": "ipython3",
   "version": "3.10.13"
  }
 },
 "nbformat": 4,
 "nbformat_minor": 5
}
