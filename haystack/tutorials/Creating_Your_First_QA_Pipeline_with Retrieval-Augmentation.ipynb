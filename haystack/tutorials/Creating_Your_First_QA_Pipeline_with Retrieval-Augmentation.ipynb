{
 "cells": [
  {
   "cell_type": "markdown",
   "id": "bc9c33eb",
   "metadata": {},
   "source": [
    "- Level: Beginner\n",
    "- Time to complete: 10 minutes\n",
    "- Components Used: `InMemoryDocumentStore`, `InMemoryBM25Retriever`, `PromptBuilder`, `OpenAIGenerator`\n",
    "- Prerequisites: You must have an API key from an active OpenAI account as this tutorial is using the gpt-3.5-turbo model by OpenAI.\n",
    "- Goal: After completing this tutorial, you’ll have learned the new prompt syntax and how to use PromptBuilder and OpenAIGenerator to build a generative question-answering pipeline with retrieval-augmentation."
   ]
  },
  {
   "cell_type": "markdown",
   "id": "54c3b0dc",
   "metadata": {},
   "source": [
    "# Overview\n",
    "\n",
    "This tutorial shows you how to create a generative question-answering pipeline using the retrieval-augmentation ( RAG) approach with Haystack 2.0.\n",
    "The process involves three main components: `InMemoryBM25Retriever` for fetching relevant documents, `PromptBuilder` for creating a template prompt, and `OpenAIGenerator` for generating responses.\n",
    "\n",
    "For this tutorial, you’ll use the Wikipedia pages of Seven Wonders of the Ancient World as Documents, but you can replace them with any text you want."
   ]
  },
  {
   "cell_type": "code",
   "execution_count": 1,
   "id": "5d8762e8",
   "metadata": {},
   "outputs": [
    {
     "name": "stdout",
     "output_type": "stream",
     "text": [
      "Looking in indexes: https://pypi.org/simple, https://pypi.ngc.nvidia.com\n",
      "Requirement already satisfied: datasets>=2.6.1 in /opt/conda/lib/python3.8/site-packages (2.17.1)\n",
      "Requirement already satisfied: packaging in /opt/conda/lib/python3.8/site-packages (from datasets>=2.6.1) (21.3)\n",
      "Requirement already satisfied: xxhash in /opt/conda/lib/python3.8/site-packages (from datasets>=2.6.1) (3.4.1)\n",
      "Requirement already satisfied: requests>=2.19.0 in /opt/conda/lib/python3.8/site-packages (from datasets>=2.6.1) (2.27.1)\n",
      "Requirement already satisfied: pyarrow-hotfix in /opt/conda/lib/python3.8/site-packages (from datasets>=2.6.1) (0.6)\n",
      "Requirement already satisfied: tqdm>=4.62.1 in /opt/conda/lib/python3.8/site-packages (from datasets>=2.6.1) (4.64.0)\n",
      "Requirement already satisfied: numpy>=1.17 in /opt/conda/lib/python3.8/site-packages (from datasets>=2.6.1) (1.22.4)\n",
      "Requirement already satisfied: pandas in /opt/conda/lib/python3.8/site-packages (from datasets>=2.6.1) (1.4.3)\n",
      "Requirement already satisfied: huggingface-hub>=0.19.4 in /opt/conda/lib/python3.8/site-packages (from datasets>=2.6.1) (0.20.3)\n",
      "Requirement already satisfied: pyyaml>=5.1 in /opt/conda/lib/python3.8/site-packages (from datasets>=2.6.1) (6.0)\n",
      "Requirement already satisfied: multiprocess in /opt/conda/lib/python3.8/site-packages (from datasets>=2.6.1) (0.70.16)\n",
      "Requirement already satisfied: filelock in /opt/conda/lib/python3.8/site-packages (from datasets>=2.6.1) (3.7.1)\n",
      "Requirement already satisfied: fsspec[http]<=2023.10.0,>=2023.1.0 in /opt/conda/lib/python3.8/site-packages (from datasets>=2.6.1) (2023.10.0)\n",
      "Requirement already satisfied: aiohttp in /opt/conda/lib/python3.8/site-packages (from datasets>=2.6.1) (3.9.3)\n",
      "Requirement already satisfied: dill<0.3.9,>=0.3.0 in /opt/conda/lib/python3.8/site-packages (from datasets>=2.6.1) (0.3.8)\n",
      "Requirement already satisfied: pyarrow>=12.0.0 in /opt/conda/lib/python3.8/site-packages (from datasets>=2.6.1) (15.0.0)\n",
      "Requirement already satisfied: yarl<2.0,>=1.0 in /opt/conda/lib/python3.8/site-packages (from aiohttp->datasets>=2.6.1) (1.9.4)\n",
      "Requirement already satisfied: multidict<7.0,>=4.5 in /opt/conda/lib/python3.8/site-packages (from aiohttp->datasets>=2.6.1) (6.0.5)\n",
      "Requirement already satisfied: attrs>=17.3.0 in /opt/conda/lib/python3.8/site-packages (from aiohttp->datasets>=2.6.1) (21.4.0)\n",
      "Requirement already satisfied: aiosignal>=1.1.2 in /opt/conda/lib/python3.8/site-packages (from aiohttp->datasets>=2.6.1) (1.3.1)\n",
      "Requirement already satisfied: async-timeout<5.0,>=4.0 in /opt/conda/lib/python3.8/site-packages (from aiohttp->datasets>=2.6.1) (4.0.3)\n",
      "Requirement already satisfied: frozenlist>=1.1.1 in /opt/conda/lib/python3.8/site-packages (from aiohttp->datasets>=2.6.1) (1.4.1)\n",
      "Requirement already satisfied: typing-extensions>=3.7.4.3 in /opt/conda/lib/python3.8/site-packages (from huggingface-hub>=0.19.4->datasets>=2.6.1) (4.9.0)\n",
      "Requirement already satisfied: pyparsing!=3.0.5,>=2.0.2 in /opt/conda/lib/python3.8/site-packages (from packaging->datasets>=2.6.1) (3.0.9)\n",
      "Requirement already satisfied: urllib3<1.27,>=1.21.1 in /opt/conda/lib/python3.8/site-packages (from requests>=2.19.0->datasets>=2.6.1) (1.26.9)\n",
      "Requirement already satisfied: charset-normalizer~=2.0.0 in /opt/conda/lib/python3.8/site-packages (from requests>=2.19.0->datasets>=2.6.1) (2.0.12)\n",
      "Requirement already satisfied: idna<4,>=2.5 in /opt/conda/lib/python3.8/site-packages (from requests>=2.19.0->datasets>=2.6.1) (3.3)\n",
      "Requirement already satisfied: certifi>=2017.4.17 in /opt/conda/lib/python3.8/site-packages (from requests>=2.19.0->datasets>=2.6.1) (2022.6.15)\n",
      "Requirement already satisfied: pytz>=2020.1 in /opt/conda/lib/python3.8/site-packages (from pandas->datasets>=2.6.1) (2022.1)\n",
      "Requirement already satisfied: python-dateutil>=2.8.1 in /opt/conda/lib/python3.8/site-packages (from pandas->datasets>=2.6.1) (2.8.2)\n",
      "Requirement already satisfied: six>=1.5 in /opt/conda/lib/python3.8/site-packages (from python-dateutil>=2.8.1->pandas->datasets>=2.6.1) (1.16.0)\n",
      "\u001b[33mWARNING: Running pip as the 'root' user can result in broken permissions and conflicting behaviour with the system package manager. It is recommended to use a virtual environment instead: https://pip.pypa.io/warnings/venv\u001b[0m\n"
     ]
    }
   ],
   "source": [
    "!pip install \"datasets>=2.6.1\""
   ]
  },
  {
   "cell_type": "code",
   "execution_count": 2,
   "id": "2b1b4d72",
   "metadata": {},
   "outputs": [],
   "source": [
    "from haystack.telemetry import tutorial_running\n",
    "\n",
    "tutorial_running(27)"
   ]
  },
  {
   "cell_type": "markdown",
   "id": "1eda2b5c",
   "metadata": {},
   "source": [
    "# Initializing the DocumentStore\n",
    "\n",
    "You’ll start creating your question answering system by initializing a DocumentStore.\n",
    "A `DocumentStore` stores the `Documents` that the question answering system uses to find answers to your questions.\n",
    "In this tutorial, you’ll be using the `InMemoryDocumentStore`."
   ]
  },
  {
   "cell_type": "code",
   "execution_count": 25,
   "id": "518c4c89",
   "metadata": {},
   "outputs": [],
   "source": [
    "from haystack.document_stores.in_memory import InMemoryDocumentStore\n",
    "\n",
    "document_store = InMemoryDocumentStore()"
   ]
  },
  {
   "cell_type": "markdown",
   "id": "b1ccb501",
   "metadata": {},
   "source": [
    "`InMemoryDocumentStore` is the simplest DocumentStore to get started with.\n",
    "It requires no external dependencies and it’s a good option for smaller projects and debugging.\n",
    "But it doesn’t scale up so well to larger Document collections, so it’s not a good choice for production systems. \n",
    "To learn more about the different types of external databases that Haystack supports, see DocumentStore Integrations."
   ]
  },
  {
   "cell_type": "markdown",
   "id": "4bffb283",
   "metadata": {},
   "source": [
    "The DocumentStore is now ready. Now it’s time to fill it with some Documents."
   ]
  },
  {
   "cell_type": "markdown",
   "id": "d06b72bf",
   "metadata": {},
   "source": [
    "# Fetching and Writing Documents\n",
    "\n",
    "You’ll use the Wikipedia pages of Seven Wonders of the Ancient World as Documents.\n",
    "We preprocessed the data and uploaded to a Hugging Face Space: Seven Wonders.\n",
    "Thus, you don’t need to perform any additional cleaning or splitting.\n",
    "\n",
    "Fetch the data and write it to the DocumentStore:"
   ]
  },
  {
   "cell_type": "code",
   "execution_count": 26,
   "id": "582b1bb3",
   "metadata": {},
   "outputs": [
    {
     "data": {
      "text/plain": [
       "151"
      ]
     },
     "execution_count": 26,
     "metadata": {},
     "output_type": "execute_result"
    }
   ],
   "source": [
    "from datasets import load_dataset\n",
    "from haystack import Document\n",
    "\n",
    "dataset = load_dataset(\"bilgeyucel/seven-wonders\", split=\"train\")\n",
    "docs = [Document(content=doc[\"content\"], meta=doc[\"meta\"]) for doc in dataset]\n",
    "document_store.write_documents(docs)"
   ]
  },
  {
   "cell_type": "markdown",
   "id": "bc445cce",
   "metadata": {},
   "source": [
    "# Initializing the Retriever\n",
    "\n",
    "Initialize a `InMemoryBM25Retriever` and make it use the `InMemoryDocumentStore` we initialized earlier in this tutorial. \n",
    "This Retriever will get the relevant documents to the query:"
   ]
  },
  {
   "cell_type": "code",
   "execution_count": 27,
   "id": "bc0c9ae7",
   "metadata": {},
   "outputs": [],
   "source": [
    "from haystack.components.retrievers.in_memory import InMemoryBM25Retriever\n",
    "\n",
    "retriever = InMemoryBM25Retriever(document_store)"
   ]
  },
  {
   "cell_type": "markdown",
   "id": "671db021",
   "metadata": {},
   "source": [
    "# Defining a Template Prompt\n",
    "\n",
    "Create a custom prompt for a generative question answering task using the RAG approach.\n",
    "The prompt should take in two parameters\n",
    "- documents, which are retrieved from a document store\n",
    "- a question from the user\n",
    "\n",
    "Use the Jinja2 looping syntax to combine the content of the retrieved documents in the prompt.\n",
    "\n",
    "Next, initialize a `PromptBuilder` instance with your prompt template.\n",
    "The `PromptBuilder`, when given the necessary values, will automatically fill in the variable values and generate a complete prompt.\n",
    "This approach allows for a more tailored and effective question-answering experience."
   ]
  },
  {
   "cell_type": "code",
   "execution_count": 28,
   "id": "8a3f24d6",
   "metadata": {},
   "outputs": [],
   "source": [
    "from haystack.components.builders import PromptBuilder\n",
    "\n",
    "template = \"\"\"\n",
    "Given the following information, answer the question.\n",
    "\n",
    "Context:\n",
    "{% for document in documents %}\n",
    "    {{ document.content }}\n",
    "{% endfor %}\n",
    "\n",
    "Question: {{question}}\n",
    "Answer:\n",
    "\"\"\"\n",
    "\n",
    "prompt_builder = PromptBuilder(template=template)"
   ]
  },
  {
   "cell_type": "markdown",
   "id": "234ebd57",
   "metadata": {},
   "source": [
    "# Initializing a Generator\n",
    "\n",
    "Generators are the components that interacts with large language models (LLMs).\n",
    "Now, set `OPENAI_API_KEY` environment variable and initialize a OpenAIGenerator that can communicate with OpenAI GPT models.\n",
    "If you don’t provide any model, the OpenAIGenerator defaults to gpt-3.5-turbo:"
   ]
  },
  {
   "cell_type": "code",
   "execution_count": 29,
   "id": "6227216c",
   "metadata": {},
   "outputs": [],
   "source": [
    "import os\n",
    "from haystack.components.generators import OpenAIGenerator\n",
    "\n",
    "# Set LLM as OpenAI model\n",
    "# os.environ[\"OPENAI_API_KEY\"] = \"\"\n",
    "# generator = OpenAIGenerator()\n",
    "\n",
    "# I don't have any OpenAI key, I'm going to use Gemini model\n",
    "from haystack_integrations.components.generators.google_ai import GoogleAIGeminiGenerator\n",
    "\n",
    "# os.environ[\"GOOGLE_API_KEY\"] = \"\"\n",
    "generator = GoogleAIGeminiGenerator(model=\"gemini-pro\")"
   ]
  },
  {
   "cell_type": "markdown",
   "id": "fff6e2e6",
   "metadata": {},
   "source": [
    "You can replace `OpenAIGenerator` in your pipeline with another `Generator`.\n",
    "Check out the full list of generators [here](https://docs.haystack.deepset.ai/v2.0/docs/generators)."
   ]
  },
  {
   "cell_type": "markdown",
   "id": "1b0ceb91",
   "metadata": {},
   "source": [
    "# Building the Pipeline\n",
    "\n",
    "To build a pipeline, add all components to your pipeline and connect them.\n",
    "Create connections from `retriever` to the `prompt_builder` and from `prompt_builder` to `llm`.\n",
    "Explicitly connect the output of `retriever` with \"documents\" input of the `prompt_builder` to make the connection obvious as `prompt_builder` has two inputs (\"documents\" and \"question\"). For more information on pipelines and creating connections, refer to Creating Pipelines documentation."
   ]
  },
  {
   "cell_type": "code",
   "execution_count": 30,
   "id": "2cd6a2fd",
   "metadata": {},
   "outputs": [
    {
     "data": {
      "image/jpeg": "[encoded data removed]",
      "text/plain": [
       "<IPython.core.display.Image object>"
      ]
     },
     "metadata": {},
     "output_type": "display_data"
    },
    {
     "data": {
      "text/plain": []
     },
     "execution_count": 30,
     "metadata": {},
     "output_type": "execute_result"
    }
   ],
   "source": [
    "from haystack import Pipeline\n",
    "\n",
    "basic_rag_pipeline = Pipeline()\n",
    "# Add components to your pipeline\n",
    "basic_rag_pipeline.add_component(\"retriever\", retriever)\n",
    "basic_rag_pipeline.add_component(\"prompt_builder\", prompt_builder)\n",
    "basic_rag_pipeline.add_component(\"llm\", generator)\n",
    "\n",
    "# Now, connect the components to each other\n",
    "basic_rag_pipeline.connect(\"retriever\", \"prompt_builder.documents\")\n",
    "basic_rag_pipeline.connect(\"prompt_builder\", \"llm\")"
   ]
  },
  {
   "cell_type": "markdown",
   "id": "1eeaecf7",
   "metadata": {},
   "source": [
    "## Visualize the Pipeline"
   ]
  },
  {
   "cell_type": "code",
   "execution_count": 31,
   "id": "a9607ea3",
   "metadata": {},
   "outputs": [],
   "source": [
    "basic_rag_pipeline.draw(\"basic-rag-pipeline.png\")"
   ]
  },
  {
   "cell_type": "markdown",
   "id": "33709722",
   "metadata": {},
   "source": [
    "# Asking a Question\n",
    "\n",
    "When asking a question, use the `run()` method of the pipeline.\n",
    "Make sure to provide the question to both the retriever and the `prompt_builder`.\n",
    "This ensures that the `{{question}}` variable in the template prompt gets replaced with your specific question.\n",
    "\n"
   ]
  },
  {
   "cell_type": "code",
   "execution_count": 38,
   "id": "8ca6b8f3",
   "metadata": {},
   "outputs": [
    {
     "name": "stderr",
     "output_type": "stream",
     "text": [
      "Ranking by BM25...: 100%|███████████████████████████████████████████████████████| 151/151 [00:00<00:00, 22855.18 docs/s]\n"
     ]
    },
    {
     "name": "stdout",
     "output_type": "stream",
     "text": [
      "['The location of the Gardens of Babylon has not been definitively established. There are three theories:\\n\\n1. They were purely mythical.\\n2. They existed in Babylon but were destroyed sometime around the first century AD.\\n3. The legend refers to a well-documented garden that the Assyrian King Sennacherib (704–681 BC) built in his capital city of Nineveh on the River Tigris, near the modern city of Mosul.']\n"
     ]
    }
   ],
   "source": [
    "question = \"Where is Gardens of Babylon?\"\n",
    "\n",
    "response = basic_rag_pipeline.run({\"retriever\": {\"query\": question}, \"prompt_builder\": {\"question\": question}})\n",
    "\n",
    "print(response[\"llm\"][\"answers\"])"
   ]
  },
  {
   "cell_type": "code",
   "execution_count": 39,
   "id": "21a5231d",
   "metadata": {},
   "outputs": [
    {
     "name": "stdout",
     "output_type": "stream",
     "text": [
      "The location of the Gardens of Babylon has not been definitively established. There are three theories:\n",
      "\n",
      "1. They were purely mythical.\n",
      "2. They existed in Babylon but were destroyed sometime around the first century AD.\n",
      "3. The legend refers to a well-documented garden that the Assyrian King Sennacherib (704–681 BC) built in his capital city of Nineveh on the River Tigris, near the modern city of Mosul.\n"
     ]
    }
   ],
   "source": [
    "for item in response[\"llm\"][\"answers\"]:\n",
    "    print(item)"
   ]
  },
  {
   "cell_type": "code",
   "execution_count": 1,
   "id": "e7a0db0a",
   "metadata": {},
   "outputs": [
    {
     "ename": "NameError",
     "evalue": "name 'retriev' is not defined",
     "output_type": "error",
     "traceback": [
      "\u001b[0;31m---------------------------------------------------------------------------\u001b[0m",
      "\u001b[0;31mNameError\u001b[0m                                 Traceback (most recent call last)",
      "Cell \u001b[0;32mIn[1], line 1\u001b[0m\n\u001b[0;32m----> 1\u001b[0m \u001b[43mretriev\u001b[49m\n",
      "\u001b[0;31mNameError\u001b[0m: name 'retriev' is not defined"
     ]
    }
   ],
   "source": [
    "retriev"
   ]
  }
 ],
 "metadata": {
  "kernelspec": {
   "display_name": "haystack",
   "language": "python",
   "name": "haystack"
  },
  "language_info": {
   "codemirror_mode": {
    "name": "ipython",
    "version": 3
   },
   "file_extension": ".py",
   "mimetype": "text/x-python",
   "name": "python",
   "nbconvert_exporter": "python",
   "pygments_lexer": "ipython3",
   "version": "3.10.13"
  }
 },
 "nbformat": 4,
 "nbformat_minor": 5
}
