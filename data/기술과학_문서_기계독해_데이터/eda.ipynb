{
 "cells": [
  {
   "cell_type": "markdown",
   "id": "3a83831d-95fc-4b6b-aa7d-a69d9c6fc328",
   "metadata": {
    "tags": []
   },
   "source": [
    "# 과학기술 문서 EDA"
   ]
  },
  {
   "cell_type": "markdown",
   "id": "26bf246e-cf24-4a7b-b6dc-7791ca1e84a6",
   "metadata": {},
   "source": [
    "시작에 앞서 `aihubshell`을 통해 데이터셋을 다운로드: `aihubshell -mode d -datasetkey 71533`"
   ]
  },
  {
   "cell_type": "markdown",
   "id": "ce00fef6-4f8c-433c-a435-1e55817e2e60",
   "metadata": {
    "tags": []
   },
   "source": [
    "## Table type\n",
    "\n",
    "- llama-index의 PandasQueryEngine으로 처리할 수 있을듯"
   ]
  },
  {
   "cell_type": "markdown",
   "id": "4dab7876-31de-42ac-8f14-1e051985c55e",
   "metadata": {},
   "source": [
    "\n",
    "### `table_type == 0`\n",
    "\n",
    "없음."
   ]
  },
  {
   "cell_type": "markdown",
   "id": "daba6a53-1501-4d52-b3d4-ad53bc8c64b3",
   "metadata": {
    "tags": []
   },
   "source": [
    "\n",
    "### `table_type == 1`\n",
    "\n",
    "간략한 표인듯.\n",
    "\n",
    "<table border><caption>표 1 전동기 제정수</caption> <tbody><tr><td>전기자 저항 \\( \\left(R_{s}\\right) \\)</td><td>5.7 [Q]</td></tr><tr><td>인덕턴스 \\( \\left(L_{s}\\right) \\)</td><td>30 [mH]</td></tr><tr><td>역기전력 상수 \\( \\left(\\lambda_{P M}\\right) \\)</td><td>0.066 [V/rad/sec]</td></tr><tr><td>극 수</td><td>12</td></tr></tbody></table>\n",
    "\n",
    "<table border><caption>표 \\( 1 \\). 전기적 특성 비교</caption><tbody><tr><td>Structure</td><td>\\( \\mathrm{V}_{\\mathrm{t}}[\\mathrm{V}] \\)</td><td>\\( \\mathrm{V}_{\\mathrm{H}}[\\mathrm{V}] \\)</td></tr><tr><td>GGNMOS</td><td>\\( 7.95\\)</td><td>\\( 5.19\\)</td></tr><tr><td>GCNMOS</td><td>\\( 5.94\\)</td><td>\\( 4.06\\)</td></tr><tr><td>Proposed</td><td>\\( 4.86\\)</td><td>\\( 3.34\\)</td></tr></tbody></table>\n",
    "\n",
    "<p>그림\\(4\\)와 표\\(1\\)에 IV 시뮬레이션 결과를 살펴보면 제안된 소자의 트리거 전압은 \\( 4.86 \\mathrm{~V} \\), 홀딩 전압은 \\( 3.34 \\mathrm{~V} \\) 로 트리거전압이 낮은 기존의 GCNMOS 보다도 \\( 1.08 \\mathrm{~V} \\) 의 트리거 전압이 감소한 전압 특성을 보여준다.</p>\n",
    "\n",
    "<table border><caption>표 \\(2\\). 턴-온-타임 시뮬레이션 결과</caption><tbody><tr><td>Structure</td><td>Turn-on-time</td></tr><tr><td>GGNMOS</td><td>\\( 1.60 \\mathrm{~ns} \\)</td></tr><tr><td>GCNMOS</td><td>\\( 1.55 \\mathrm{~ns} \\)</td></tr><tr><td>Proposed</td><td>\\( 1.47 \\mathrm{~ns} \\)</td></tr></tbody></table>"
   ]
  },
  {
   "cell_type": "markdown",
   "id": "be8e2947-8388-4e0d-bbf6-667b310da86e",
   "metadata": {},
   "source": [
    "### `table_type == 2`\n",
    "\n",
    "좀 더 복잡한 형태의 표 인듯? \n",
    "\n",
    "<table border><caption>Table 1. Some values of each term in the sound speed formula of Medwin regarding variation of temperature andsalinity with depth in normal salinity and low salinity environments using the averaged data for 30 years(1980~2009).</caption> <tbody><tr><td rowspan=\"2\"></td><td colspan=\"3\">Normal salinity environment</td><td colspan=\"3\">Low salinity environment</td></tr><tr><td>0 m</td><td>10 m</td><td>difference</td><td>0 m</td><td>10 m</td><td>difference</td></tr><tr><td>Temperature (°C)</td><td>26.74</td><td>24.76</td><td>-1.98</td><td>28.74</td><td>26.80</td><td>-1.94</td></tr><tr><td>Salinity (psu)</td><td>30.53</td><td>30.92</td><td>0.39</td><td>25.34</td><td>29.58</td><td>4.24</td></tr><tr><td>Sound speed (m/s)</td><td>1533.62</td><td>1529.48</td><td>-4.14</td><td>1532.70</td><td>1532.91</td><td>0.21</td></tr><tr><td>Term of temperature (A, m/s)</td><td>89.23</td><td>84.58</td><td>-4.64</td><td>93.67</td><td>89.36</td><td>-4.31</td></tr><tr><td>Term of salinity (B, m/s)</td><td>-4.80</td><td>-4.46</td><td>0.34</td><td>-10.16</td><td>-5.81</td><td>4.35</td></tr></tbody></table>\n",
    "\n",
    "\n",
    "<table border><caption>표 1. 열처리 온도에 따른 \\(\\mathrm{SnO}_{2} \\)와 \\(\\mathrm{SnO}_{2} / \\mathrm{Pt} \\), \\( \\mathrm{Ca}(0.1 \\mathrm{wt}. \\%)\\) 분말의 입자 크기</caption><tbody><tr><td rowspan=2>Calcining temperature \\( \\left({ }^{\\circ} \\mathrm{C}\\right) \\)</td><td colspan=2>Pure \\( \\mathrm{SnO}_{2} (\\mathrm{nm}) \\)</td><td colspan=2>Commercial \\(\\left.\\mathrm{SnO}_{2} \\text { (nm }\\right)\\)</td><td colspan=2>\\( \\mathrm{SnO}_{2} / \\mathrm{Pt}, \\mathrm{Ca} \\)\\( (0.1 \\mathrm{wt} \\%\\mathrm{nm}) \\)<nm)</td></tr><tr><td>XRD</td><td>TEM</td><td>XRD</td><td>TEM</td><td>XRD</td><td>TEM</td></tr><tr><td>room temp.</td><td>5</td><td>5.5</td><td>15.8</td><td>16.5</td><td>2.5</td><td>2</td></tr><tr><td>500</td><td></td><td></td><td></td><td></td><td>5.6</td><td>5</td></tr><tr><td>600</td><td>9</td><td>10</td><td>34.8</td><td>35</td><td>7.2</td><td>7.5</td></tr><tr><td>700</td><td>15</td><td>15.5</td><td></td><td></td><td>10.8</td><td>10</td></tr><tr><td>800</td><td>20</td><td>20</td><td></td><td></td><td>12.1</td><td>12.5</td></tr><tr><td>900</td><td>24</td><td>24.5</td><td></td><td></td><td>17.6</td><td>18</td></tr><tr><td>10RO</td><td>28</td><td>29</td><td></td><td></td><td>26.5</td><td>27</td></tr></tbody></table>"
   ]
  },
  {
   "cell_type": "code",
   "execution_count": 1,
   "id": "8d8b786f-04ac-43ef-8359-f02c892642ab",
   "metadata": {
    "tags": []
   },
   "outputs": [
    {
     "name": "stdout",
     "output_type": "stream",
     "text": [
      "==========================================\n",
      "aihubshell version 24.01.29 v0.3\n",
      "==========================================\n",
      "Invalid mode. Please use 'd', 'l' for dataset list, 'l [datasetkey]' for file tree\n"
     ]
    }
   ],
   "source": [
    "!aihubshell -d "
   ]
  },
  {
   "cell_type": "code",
   "execution_count": 97,
   "id": "09ef0b0d-017f-4232-8867-4050afd2f393",
   "metadata": {
    "tags": []
   },
   "outputs": [],
   "source": [
    "import json\n",
    "from pathlib import Path\n",
    "from typing import Dict\n",
    "\n",
    "tabels = []\n",
    "\n",
    "def read_doc():\n",
    "    path = Path(\"../data/기술과학_문서_기계독해_데이터/Training/02.라벨링데이터/\")\n",
    "\n",
    "    for item in path.glob(\"*/*.json\"):\n",
    "        name = item.name\n",
    "        category = name.split(\"_\")[0]\n",
    "\n",
    "        with item.open() as file:\n",
    "            lines = json.load(file)\n",
    "        dataset = lines[\"dataset\"]\n",
    "        for context in dataset['context_info']:\n",
    "            # print(context.keys())\n",
    "            # print(context[\"table_type\"])\n",
    "            if context[\"table_type\"] == 1:\n",
    "                tabels.append(context['context'])\n",
    "dataset = read_doc()"
   ]
  },
  {
   "cell_type": "markdown",
   "id": "1478c69b-b3ff-40b3-96aa-62b0be1f27e3",
   "metadata": {
    "tags": []
   },
   "source": [
    "## qas\n",
    "\n",
    "하나의 context에 대해 여러 qas가 있을 수 있음"
   ]
  },
  {
   "cell_type": "code",
   "execution_count": 2,
   "id": "89a09667-272f-454e-8d55-94da95d2d380",
   "metadata": {
    "tags": []
   },
   "outputs": [
    {
     "name": "stdout",
     "output_type": "stream",
     "text": [
      "{'question_id': '52079ee2-7019-4ead-b76d-6c57bd035422', 'question-1': 'ESD event때문에, 어디에 전압이 인가되는가?', 'question-2': '어디에 ESD eveny로 인해 전압이 인가되는거야?', 'question_type': 'where', 'question_level': '하', 'answer': 'Anode단', 'answer_type': '정답경계추출형', 'answer_start': '230', 'answer_end': '236', 'clue': [{'clue_text': 'ESD event로 인하여 Anode단에 전압이 인가됨에따라 Body와 Drain 간 역방향 바이어스에서 애벌런치 항복이 발생하게 된다.', 'clue_start': '215', 'clue_end': '291'}]}\n"
     ]
    }
   ],
   "source": [
    "import json\n",
    "from pathlib import Path\n",
    "from typing import Dict\n",
    "\n",
    "tabels = []\n",
    "\n",
    "def read_doc():\n",
    "    path = Path(\"../data/기술과학_문서_기계독해_데이터/Training/02.라벨링데이터/\")\n",
    "\n",
    "    for item in path.glob(\"*/*.json\"):\n",
    "        name = item.name\n",
    "        category = name.split(\"_\")[0]\n",
    "\n",
    "        with item.open() as file:\n",
    "            lines = json.load(file)\n",
    "        dataset = lines[\"dataset\"]\n",
    "        for context in dataset['context_info']:\n",
    "            # print(context.keys())\n",
    "            # print(context[\"table_type\"])\n",
    "            for qas in context['qas']:\n",
    "                if qas['question-2'] is not None:\n",
    "                    print(qas)\n",
    "                    return dataset\n",
    "dataset = read_doc()"
   ]
  },
  {
   "cell_type": "markdown",
   "id": "5092773b-e7f9-492b-bcfa-e5d9481762b5",
   "metadata": {
    "tags": []
   },
   "source": [
    "## `answer_type` 확인\n",
    "\n",
    "딱히 중요한건진 모르겠는데, 일단 확인해봄\n",
    "\n",
    "### Yes/No 단문형\n",
    "\n",
    "예/아니오로 정답을 선택할 수 있는 질문 유형\n",
    "\n",
    "### 다지선다형\n",
    "\n",
    "여러 지문 중 정답을 선택할 수 있는 질문 유형.  \n",
    "다지선다 형태로 고르는 것이 아닌 MRC 시에 활용할 수 있는 형태인듯.\n",
    "\n",
    "### 절차(방법)형\n",
    "\n",
    "절차나 방법에 대한 설명으로 정답을 작성할 수 있는 질문 유형\n",
    "\n",
    "### 정답경계추출형\n",
    "\n",
    "본문에서 정답을 추출할 수 있는 질문 유형\n",
    "\n",
    "### 표정답추출형\n",
    "\n",
    "본문(표)에서 정답을 추출할 수 있는 질문 유형"
   ]
  },
  {
   "cell_type": "code",
   "execution_count": 43,
   "id": "4e7e51cf-2dda-49c8-b1db-31593963f55a",
   "metadata": {
    "tags": []
   },
   "outputs": [
    {
     "data": {
      "text/plain": [
       "{'Yes/No 단문형', '다지선다형', '절차(방법)형', '정답경계추출형', '표정답추출형'}"
      ]
     },
     "execution_count": 43,
     "metadata": {},
     "output_type": "execute_result"
    }
   ],
   "source": [
    "import json\n",
    "from pathlib import Path\n",
    "from typing import Dict\n",
    "\n",
    "answer_type = set()\n",
    "\n",
    "def read_doc():\n",
    "    path = Path(\"../data/기술과학_문서_기계독해_데이터/Training/02.라벨링데이터/\")\n",
    "\n",
    "    for item in path.glob(\"*/*.json\"):\n",
    "        name = item.name\n",
    "        category = name.split(\"_\")[0]\n",
    "\n",
    "        with item.open() as file:\n",
    "            lines = json.load(file)\n",
    "        dataset = lines[\"dataset\"]\n",
    "        for context in dataset['context_info']:\n",
    "            # print(context.keys())\n",
    "            # print(context[\"table_type\"])\n",
    "            for qas in context['qas']:\n",
    "                answer_type.add(qas[\"answer_type\"])\n",
    "dataset = read_doc()\n",
    "answer_type"
   ]
  },
  {
   "cell_type": "code",
   "execution_count": 82,
   "id": "9b1eff5e-66e0-4d2e-b166-0fe659f7c49f",
   "metadata": {
    "tags": []
   },
   "outputs": [],
   "source": [
    "import json\n",
    "from pathlib import Path\n",
    "from typing import Dict\n",
    "\n",
    "answers = []\n",
    "\n",
    "def read_doc():\n",
    "    path = Path(\"../data/기술과학_문서_기계독해_데이터/Training/02.라벨링데이터/\")\n",
    "\n",
    "    for item in path.glob(\"*/*.json\"):\n",
    "        name = item.name\n",
    "        category = name.split(\"_\")[0]\n",
    "\n",
    "        with item.open() as file:\n",
    "            lines = json.load(file)\n",
    "        dataset = lines[\"dataset\"]\n",
    "        for context in dataset['context_info']:\n",
    "            # print(context.keys())\n",
    "            # print(context[\"table_type\"])\n",
    "            content = context[\"context\"]\n",
    "            for qas in context['qas']:\n",
    "                if qas[\"answer_type\"] == \"정답경계추출형\":\n",
    "                    qas[\"context\"] = content\n",
    "                    answers.append(qas)\n",
    "dataset = read_doc()"
   ]
  },
  {
   "cell_type": "code",
   "execution_count": 85,
   "id": "85c9e742-cce0-455e-975a-505cb8c3cdae",
   "metadata": {
    "tags": []
   },
   "outputs": [
    {
     "data": {
      "text/plain": [
       "{'question_id': '7b1e0f2d-8677-4640-a9a4-e6e92452c849',\n",
       " 'question-1': '본 실험에서 보호회로에 적용된 기술 두 가지가 뭐야?',\n",
       " 'question-2': None,\n",
       " 'question_type': 'what',\n",
       " 'question_level': '하',\n",
       " 'answer': 'Gate coupling과 Body floating',\n",
       " 'answer_type': '정답경계추출형',\n",
       " 'answer_start': '176',\n",
       " 'answer_end': '204',\n",
       " 'clue': [{'clue_text': '제안된 보호회로는 Gate coupling과 Body floating기술을 적용하였으며 기존 ESD보호회로인 GGNMOS, GCNMOS와 비교하여 더 낮은 \\\\( 4.86 \\\\mathrm{~V} \\\\) 의 트리거 전압 및 \\\\( 1.47 \\\\mathrm{~ns} \\\\)의 짧은 턴-온 타임 특성을 갖는다',\n",
       "   'clue_start': '166',\n",
       "   'clue_end': '329'}],\n",
       " 'context': '<h1>요약</h1><p>본 논문에서는 Floating기술을 이용한 GCNMOS 기반의 ESD(Electrostatic Discharge)보호회로를 제안한다. 제안된 보호회로의 특성 분석올 위해서 시놉시스사의 TCAD 시물레이션을 이용하였으며 기존의 GGNMOS, GCNMOS와 비교 분석하였다. 제안된 보호회로는 Gate coupling과 Body floating기술을 적용하였으며 기존 ESD보호회로인 GGNMOS, GCNMOS와 비교하여 더 낮은 \\\\( 4.86 \\\\mathrm{~V} \\\\) 의 트리거 전압 및 \\\\( 1.47 \\\\mathrm{~ns} \\\\)의 짧은 턴-온 타임 특성을 갖는다.</p><h1>Ⅰ. 서 론</h1><p>ESD(Electrostatic Discharge)는 EOS(Electrical Overstress)의 현상 중 하나이며, 전하를 갖는 두 물체사이에 축척이 된 정전하가 마찰전기로 인해 전하가 이동하는 현상을 뜻한다. 보통 일상생활에서는 방전 경로상의 공기와 같은 큰 저항체가 존재하므로 발생되는 전류가 매우 작아 물체에 큰 영향을 주진 않는다. 그러나 사이즈가 수 마이크로만큼 작은 반도체일 경우 ESD현상이 일어나면 그 반도체는 손상을 입거나 심각하게 파괴될 수 있다. 반도체의 경우, 공정 과정 뿐 아니라 칩이 정상적으로 동작할 경우에도 반도체의 동작 중 어느 순간에서라도 ESD에 의한 손상을 입을 수 있으며 이에 따라 제작 원가, 신뢰성 문제, 상품의 품질과 관련하여 지속적인 영향을 미치고 있다. 따라서 ESD로부터 반도체를 보호하고 신뢰성을 높이기 위한 연구가 꾸준히 진행 되고 있다. ESD 보호회로에 사용되는 소자에는 여러 가지가 있는데 가장 대표적인 소자로는 다이오드, SCR, GGNMOS(Gate-Grounded NMOS)등이 있다. 그 중 GGNMOS는 구조적으로 단순하고 설계가 편리하며 기생적으로 존재 하는 NPN/PNP BJT를 통하여 ESD를 효과적으로 방전시키기 때문에 반도체 집적회로의 ESD 보호 회로로써 흔하게 쓰이고 있다. 반도체 공정의 발전으로 게이트 산화막의 두께가 나노 급으로 점점 얇아지고 있는 중이며, 그에 따른 게이트 산화막의 항복전압이 감소하고 있다. 따라서 일반적인 GGNMOS를 I/O Clamp로 사용하면 높은 트리거 전압으로 인하여 IC 내부 소자의 게이트 산화막 파괴가 일어날 수 있다. 이러한 이유로 GGNMOS의 트리거 전압을 낫추기 위한 연구가 다방면에서 이루어지고 있으며, 그 중 대표적으로 GCNMOS(Gate Coupled NMOSFET) 가 있다. GCNMOS는 Gate단에 RC-network를 구성하여 트리거 전압을 낮추는 구조이다. 하지만 I/O Clamp단에 요구 전압과 ESD design window의 최적화를 위하여 트리거 전압을 향상 시킬 필요성이 있다.</p><p>본 논문에서는 Floating 기술을 적용하여 기존 GCNMOS의 단점개선과 더불어 더욱 낮은 트리거 전압과 빠른 턴온 특성을 갖는 ESD 소자를 제안하였고 synopsys사의 TCAD 시뮬레이터를 이용하여 특성을 확인하였다.</p>'}"
      ]
     },
     "execution_count": 85,
     "metadata": {},
     "output_type": "execute_result"
    }
   ],
   "source": [
    "answers[1]"
   ]
  },
  {
   "cell_type": "code",
   "execution_count": 77,
   "id": "c6b73574-7963-48dc-bd12-6e97d1604f40",
   "metadata": {
    "tags": []
   },
   "outputs": [
    {
     "name": "stdout",
     "output_type": "stream",
     "text": [
      "{'question_id': 'f73660f2-66bc-4345-a1f7-0cbc28f12057', 'question-1': '모드2에 해당하는 식이 아닌것은?', 'question-2': None, 'question_type': 'what', 'question_level': '상', 'answer': '\\\\( v_{c r}=V_{d}+\\\\sqrt{\\\\frac{L_{r}}{C_{r}}} I_{a} \\\\sin \\\\left(\\\\omega_{r} t+\\\\theta\\\\right) \\\\)<caption>(8)</caption>', 'answer_type': '다지선다형', 'answer_start': '1109', 'answer_end': '1221', 'clue': [{'clue_text': '\\\\( i_{L r}=\\\\frac{V_{d}}{L_{r}} t+I_{1} \\\\)<caption>(5)</caption>', 'clue_start': '381', 'clue_end': '444'}, {'clue_text': '\\\\( T_{2}=T_{o n}-T_{1} \\\\)<caption>(6)</caption>', 'clue_start': '451', 'clue_end': '498'}, {'clue_text': '\\\\( I_{2}=\\\\frac{V_{d}}{L_{r}} T_{2}+I_{1} \\\\)<caption>(7)</caption>', 'clue_start': '505', 'clue_end': '570'}, {'clue_text': '\\\\( v_{c r}=V_{d}+\\\\sqrt{\\\\frac{L_{r}}{C_{r}}} I_{a} \\\\sin \\\\left(\\\\omega_{r} t+\\\\theta\\\\right) \\\\)<caption>(8)</caption>', 'clue_start': '1109', 'clue_end': '1221'}], 'wrong_answer': ['\\\\( i_{L r}=\\\\frac{V_{d}}{L_{r}} t+I_{1} \\\\)<caption>(5)</caption>', '\\\\( T_{2}=T_{o n}-T_{1} \\\\)<caption>(6)</caption>', '\\\\( I_{2}=\\\\frac{V_{d}}{L_{r}} T_{2}+I_{1} \\\\)<caption>(7)</caption>'], 'context': '<p>모드 2 \\\\( \\\\left(T_{2}, t_{1} \\\\sim t_{2}\\\\right) \\\\)</p><p>모드 2 는 커패시터 전압 \\\\( V_{c r} \\\\) 이 영으로 되어 다이오드 \\\\( D_{1} \\\\) 이 도통되는 모드이다. 제어스위치들에 의한 단락회로가 형성되어 인덕터 \\\\( L_{T} \\\\) 의 전류는 \\\\( S_{1}-D_{1}-S_{2} \\\\)를 통하여 흐르고, 인덕터 \\\\( L_{T} \\\\) 는 에너지를 축적한다. 이 때의 인덕터 전류 \\\\( i_{L r} \\\\) 는 식 (5)와 같이 직선적으로 증가한다. \\\\( T_{2} \\\\) 는 스위치 \\\\( S_{1}, S_{2} \\\\)를 오프하기까지의 시간으로 식 (6)과 같다. 식 (7)은 이 모드가 끝나는 시점의 인덕터 전류이다.</p><p>\\\\( i_{L r}=\\\\frac{V_{d}}{L_{r}} t+I_{1} \\\\)<caption>(5)</caption></p><p>\\\\( T_{2}=T_{o n}-T_{1} \\\\)<caption>(6)</caption></p><p>\\\\( I_{2}=\\\\frac{V_{d}}{L_{r}} T_{2}+I_{1} \\\\)<caption>(7)</caption></p><p>모드 3 \\\\( \\\\left(T_{3}, t_{2} \\\\sim t_{3}\\\\right) \\\\)</p><p>시각 \\\\( t_{2} \\\\) 에서 스위치 \\\\( S_{1}, S_{Z} \\\\) 를 오프하면, 인덕터 \\\\( L_{T} \\\\) 의 전류 \\\\( i_{L r} \\\\) 는 \\\\( D_{2}-C_{r}-D_{3} \\\\) 를 통하여 흐르고 인덕터 \\\\( L_{r} \\\\) 와 커패시터 \\\\( C_{r} \\\\) 는 다시 직렬공진을 하여 \\\\( C_{r} \\\\) 를 충전시킨다. 커패시터 \\\\( C_{r} \\\\) 와 병렬로 배치된 스위치들의 턴-오프 동작은 공진 초기에서 커패시터 전압이 영이므로 ZVS로 동작된다. 이 모드에서의 커패시터 전압은 식 (8)과 같으며, 인덕터에 흐르는 전류는 식 (9)와 같다. 커패시터 전압 \\\\( V_{c r} \\\\) 이 입력전압 \\\\( V_{d} \\\\) 와 출력전압 \\\\( V_{c d} \\\\) 의 합으로 될 때 이 모드는 끝나며, 이 모드의 기간 \\\\( T_{3} \\\\)은 식 (10)에 주어지고 인덕터의 최종전류 \\\\( I_{3} \\\\) 는 식 (11)과 같다.</p><p>\\\\( v_{c r}=V_{d}+\\\\sqrt{\\\\frac{L_{r}}{C_{r}}} I_{a} \\\\sin \\\\left(\\\\omega_{r} t+\\\\theta\\\\right) \\\\)<caption>(8)</caption></p><p>\\\\( i_{L r}=I_{a} \\\\cos \\\\left(\\\\omega_{r} t+\\\\theta\\\\right) \\\\)<caption>(9)</caption></p><p>\\\\( T_{3}=\\\\sqrt{L_{r} C_{r}}\\\\left\\\\{\\\\sin ^{-1}\\\\left(\\\\frac{V_{d}}{\\\\sqrt{V_{d}^{2}+\\\\frac{L_{r}}{C_{r}} I_{2}^{2}}}\\\\right)-\\\\theta\\\\right\\\\} \\\\)<caption>(10)</caption></p><p>\\\\( I_{3}=I_{2} \\\\cos \\\\omega_{r} T_{3}+\\\\sqrt{\\\\frac{C_{r}}{L_{r}}} V_{d} \\\\sin \\\\omega_{r} T_{3} \\\\)<caption>(11)</caption></p><p>여기서, \\\\( I_{a}=\\\\sqrt{\\\\frac{C_{r}}{L_{r}} V_{d}^{2}+I_{2}^{2}} \\\\), \\\\( \\\\theta=\\\\sin ^{-1}\\\\left(-\\\\frac{V_{d}}{\\\\sqrt{V_{d}^{2}+\\\\frac{L_{r}}{C_{r}} I_{2}^{2}}}\\\\right) \\\\).</p><p>모드 4 \\\\(\\\\left(T_{4}, t_{3} \\\\sim t_{4}\\\\right) \\\\)</p><p>모드 4 는 커패시터 \\\\( C_{r} \\\\) 의 충전이 끝난 후 다이오드 \\\\( D_{c} \\\\) 를 통하여 인덕터 \\\\( L_{T} \\\\) 의 전류가 부하측으로 유입되는 모드이다. 이 때의 인덕터 전류 \\\\( \\\\dot{I}_{L r} \\\\) 는 직선적으로 감소하며 인덕터 전류가 영으로 되면 이 모드는 끝난다. 제어스위치들은 다음의 스위칭 사이클에 대기하게 된다. 이 모드에서 인덕터 전류 \\\\( i_{L r} \\\\) 는 식 (12)와 같고 이 모드의 기간 \\\\( T_{4} \\\\) 는 식 (13)과 같다.</p><p>\\\\( i_{L r}=-\\\\frac{V_{c d}}{L_{r}} t+I_{3} \\\\)<caption>(12)</caption></p><p>\\\\( T_{4}=\\\\frac{L_{r}}{V_{c d}} I_{3} \\\\)<caption>(13)</caption></p>'}\n"
     ]
    }
   ],
   "source": [
    "for i, item in enumerate(answers):\n",
    "    print(item)\n",
    "    break\n",
    "    print(item[\"question-1\"], item[\"question-2\"])\n",
    "    print(item[\"answer\"])\n",
    "    print(item['clue'])\n",
    "    print(\"*\"*100)\n",
    "    if i == 10:\n",
    "        break"
   ]
  },
  {
   "cell_type": "code",
   "execution_count": null,
   "id": "1695ac3a-603d-4293-84ae-2f184114ff5a",
   "metadata": {},
   "outputs": [],
   "source": []
  }
 ],
 "metadata": {
  "kernelspec": {
   "display_name": "haystack",
   "language": "python",
   "name": "haystack"
  },
  "language_info": {
   "codemirror_mode": {
    "name": "ipython",
    "version": 3
   },
   "file_extension": ".py",
   "mimetype": "text/x-python",
   "name": "python",
   "nbconvert_exporter": "python",
   "pygments_lexer": "ipython3",
   "version": "3.10.13"
  }
 },
 "nbformat": 4,
 "nbformat_minor": 5
}
